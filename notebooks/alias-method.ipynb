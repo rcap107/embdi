{
 "cells": [
  {
   "cell_type": "code",
   "execution_count": 9,
   "metadata": {},
   "outputs": [],
   "source": [
    "import numpy as np\n",
    "import random"
   ]
  },
  {
   "cell_type": "code",
   "execution_count": 10,
   "metadata": {},
   "outputs": [],
   "source": [
    "num_vals = 10\n",
    "generated_probs = np.random.rand(num_vals)\n",
    "norm_probs = generated_probs/sum(generated_probs)"
   ]
  },
  {
   "cell_type": "code",
   "execution_count": 44,
   "metadata": {},
   "outputs": [],
   "source": [
    "class AliasedRandomizer:\n",
    "    \"\"\"Class that implements the Vose's Alias Method as explained in \n",
    "    https://www.keithschwarz.com/darts-dice-coins/\n",
    "    \"\"\"\n",
    "    def __init__(self, probabilities) -> None:\n",
    "        self.num_vals = len(probabilities)\n",
    "        self.alias = [(0, None) for _ in range(self.num_vals)]\n",
    "        self.prob = np.zeros(self.num_vals)\n",
    "\n",
    "        self.small = []\n",
    "        self.large = []\n",
    "\n",
    "        scaled_probabilities = probabilities * self.num_vals\n",
    "\n",
    "        for idx, prob_i in enumerate(scaled_probabilities):\n",
    "            if prob_i < 1:\n",
    "                self.small.append((idx, prob_i))\n",
    "            else:\n",
    "                self.large.append((idx, prob_i))\n",
    "                \n",
    "        while len(self.small) > 0 and len(self.large) > 0:\n",
    "            lower, prob_lower = self.small.pop(0)\n",
    "            greater, prob_greater = self.large.pop(0)\n",
    "\n",
    "            self.prob[lower] = prob_lower\n",
    "            self.alias[lower] = (prob_lower, greater)\n",
    "\n",
    "            prob_greater = (prob_greater + prob_lower) - 1\n",
    "            if prob_greater < 1:\n",
    "                self.small.append((greater, prob_greater))\n",
    "            else:\n",
    "                self.large.append((greater,prob_greater))\n",
    "                \n",
    "        while len(self.large) > 0:\n",
    "            greater, prob_greater = self.large.pop(0)\n",
    "            self.prob[greater] = 1\n",
    "        while len(self.small) > 0:\n",
    "            lower, prob_lower = self.small.pop(0)\n",
    "            self.prob[lower] = 1\n",
    "            \n",
    "    def sample(self):\n",
    "        this_pr = random.random()*self.num_vals\n",
    "        idx = int(this_pr)\n",
    "        pr, alias = self.alias[idx]\n",
    "        \n",
    "        if (this_pr - idx) > pr:\n",
    "            return int(idx)\n",
    "        else:\n",
    "            return int(alias)"
   ]
  },
  {
   "cell_type": "code",
   "execution_count": 45,
   "metadata": {},
   "outputs": [],
   "source": [
    "mar  = AliasedRandomizer(norm_probs)"
   ]
  },
  {
   "cell_type": "code",
   "execution_count": 46,
   "metadata": {},
   "outputs": [],
   "source": [
    "num_random_weights = [random.randint(1, 100) for _ in range(1000)]\n",
    "\n",
    "normalized_probabilities = {}\n",
    "\n",
    "for idx, node_neighbors in enumerate(num_random_weights):    \n",
    "    num_vals = node_neighbors\n",
    "    generated_probs = np.random.rand(num_vals)\n",
    "    norm_probs = generated_probs/sum(generated_probs)\n",
    "    normalized_probabilities[idx] = norm_probs"
   ]
  },
  {
   "cell_type": "code",
   "execution_count": 52,
   "metadata": {},
   "outputs": [
    {
     "name": "stdout",
     "output_type": "stream",
     "text": [
      " "
     ]
    },
    {
     "data": {
      "text/plain": [
       "<pstats.Stats at 0x7ff21a58ba50>"
      ]
     },
     "execution_count": 52,
     "metadata": {},
     "output_type": "execute_result"
    },
    {
     "name": "stdout",
     "output_type": "stream",
     "text": [
      "         2304431 function calls in 1.377 seconds\n",
      "\n",
      "   Ordered by: internal time\n",
      "\n",
      "   ncalls  tottime  percall  cumtime  percall filename:lineno(function)\n",
      "  1000000    0.663    0.000    0.702    0.000 495210155.py:37(sample)\n",
      "        1    0.531    0.531    1.377    1.377 <string>:1(<module>)\n",
      "     1000    0.120    0.000    0.144    0.000 495210155.py:2(__init__)\n",
      "  1000000    0.038    0.000    0.038    0.000 {method 'random' of '_random.Random' objects}\n",
      "    98980    0.010    0.000    0.010    0.000 {method 'pop' of 'list' objects}\n",
      "    98980    0.005    0.000    0.005    0.000 {method 'append' of 'list' objects}\n",
      "   103467    0.004    0.000    0.004    0.000 {built-in method builtins.len}\n",
      "     1000    0.003    0.000    0.003    0.000 495210155.py:4(<listcomp>)\n",
      "     1000    0.002    0.000    0.002    0.000 {built-in method numpy.zeros}\n",
      "        1    0.000    0.000    1.377    1.377 {built-in method builtins.exec}\n",
      "        1    0.000    0.000    0.000    0.000 {method 'items' of 'dict' objects}\n",
      "        1    0.000    0.000    0.000    0.000 {method 'disable' of '_lsprof.Profiler' objects}"
     ]
    }
   ],
   "source": [
    "%%prun -r\n",
    "for idx, norm_probs in normalized_probabilities.items():\n",
    "    mar  = AliasedRandomizer(norm_probs)\n",
    "    for r in range(1000):\n",
    "        mar.sample()"
   ]
  },
  {
   "cell_type": "code",
   "execution_count": 16,
   "metadata": {},
   "outputs": [],
   "source": [
    "def prepare_aliased_randomizer(neighbor_names, weights):\n",
    "    '''Implemented according to the alias method.\n",
    "\n",
    "    :param weights:\n",
    "    :return: Aliased randomizer\n",
    "    '''\n",
    "    N = len(weights)\n",
    "    if N == 0:\n",
    "        raise ValueError('Node has no neighbors. Check the input dataset.')\n",
    "    avg = sum(weights) / N\n",
    "    aliases = [(1, None)] * N\n",
    "    smalls = ((i, w / avg) for i, w in enumerate(weights) if w < avg)\n",
    "    bigs = ((i, w / avg) for i, w in enumerate(weights) if w >= avg)\n",
    "    small, big = next(smalls, None), next(bigs, None)\n",
    "    while big and small:\n",
    "        aliases[small[0]] = (small[1], big[0])\n",
    "        big = (big[0], big[1] - (1 - small[1]))\n",
    "        if big[1] < 1:\n",
    "            small = big\n",
    "            big = next(bigs, None)\n",
    "        else:\n",
    "            small = next(smalls, None)\n",
    "\n",
    "    def weighted_random():\n",
    "        r = random.random() * N\n",
    "        i = int(r)\n",
    "        odds, alias = aliases[i]\n",
    "        if (r - i) > odds:\n",
    "            return neighbor_names[alias]\n",
    "        else:\n",
    "            return neighbor_names[i]\n",
    "        # return alias if (r - i) > odds else i\n",
    "\n",
    "    return weighted_random\n"
   ]
  },
  {
   "cell_type": "code",
   "execution_count": 18,
   "metadata": {},
   "outputs": [
    {
     "name": "stdout",
     "output_type": "stream",
     "text": [
      "4.01 ms ± 162 µs per loop (mean ± std. dev. of 7 runs, 1000 loops each)\n"
     ]
    }
   ],
   "source": [
    "%%timeit -n 1000\n",
    "neighbor_names = generated_probs\n",
    "wr = prepare_aliased_randomizer(neighbor_names, norm_probs)\n",
    "for r in range(10000):\n",
    "    wr()"
   ]
  }
 ],
 "metadata": {
  "kernelspec": {
   "display_name": "Python 3.7.13 ('embdi')",
   "language": "python",
   "name": "python3"
  },
  "language_info": {
   "codemirror_mode": {
    "name": "ipython",
    "version": 3
   },
   "file_extension": ".py",
   "mimetype": "text/x-python",
   "name": "python",
   "nbconvert_exporter": "python",
   "pygments_lexer": "ipython3",
   "version": "3.7.13"
  },
  "orig_nbformat": 4,
  "vscode": {
   "interpreter": {
    "hash": "601bcc31dc2f130e462fa6495a5f05e7310d95aa13f5c6f886df060185ee9d73"
   }
  }
 },
 "nbformat": 4,
 "nbformat_minor": 2
}
