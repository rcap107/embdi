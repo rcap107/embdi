{
 "cells": [
  {
   "cell_type": "code",
   "execution_count": 1,
   "metadata": {},
   "outputs": [
    {
     "name": "stdout",
     "output_type": "stream",
     "text": [
      "/Users/rcap/Projects/embdi\n"
     ]
    }
   ],
   "source": [
    "%cd .."
   ]
  },
  {
   "cell_type": "code",
   "execution_count": 2,
   "metadata": {},
   "outputs": [],
   "source": [
    "import pandas as pd\n",
    "import seaborn as sns\n",
    "import matplotlib.pyplot as plt\n",
    "import numpy as np\n",
    "import gensim.models as models\n",
    "import networkx as nx\n",
    "import plotly.graph_objects as go\n",
    "from sklearn.decomposition import PCA\n",
    "import os\n",
    "import EmbDI.edgelist as edgelist"
   ]
  },
  {
   "cell_type": "code",
   "execution_count": 3,
   "metadata": {},
   "outputs": [],
   "source": [
    "from importlib import reload\n",
    "import demo_utils as du\n",
    "reload(du)\n",
    "from demo_utils import *"
   ]
  },
  {
   "cell_type": "markdown",
   "metadata": {},
   "source": [
    "# EmbDI: Embeddings for Data Integration"
   ]
  },
  {
   "cell_type": "markdown",
   "metadata": {},
   "source": [
    "## Representing relational datasets as graphs."
   ]
  },
  {
   "cell_type": "code",
   "execution_count": 4,
   "metadata": {},
   "outputs": [],
   "source": [
    "# Reading the input dataset and preparing the edge list. \n",
    "dfpath = './pipeline/demo_files/imdb_movielens-master.csv'\n",
    "df = pd.read_csv(dfpath)\n",
    "# IMDB\n",
    "df1 = pd.read_csv('./pipeline/demo_files/imdb_movielens-tableA.csv')\n",
    "# Movielens\n",
    "df2 = pd.read_csv('./pipeline/demo_files/imdb_movielens-tableB.csv')"
   ]
  },
  {
   "cell_type": "code",
   "execution_count": 5,
   "metadata": {},
   "outputs": [
    {
     "name": "stdout",
     "output_type": "stream",
     "text": [
      "Table A and Table B share the following columns:\n",
      "vote_average\n",
      "year\n",
      "actor_3\n",
      "production_countries\n",
      "actor_2\n",
      "director\n",
      "title\n",
      "original_language\n",
      "actor_1\n",
      "\n",
      "The following columns are present only in Table A:\n",
      "content_rating\n",
      "color\n",
      "\n",
      "The following columns are present only in Table B:\n",
      "status\n",
      "release_date_rounded\n",
      "production_companies\n",
      "genres\n"
     ]
    }
   ],
   "source": [
    "# print(df1.info())\n",
    "# print(df2.info())\n",
    "\n",
    "colset_1 = set(df1.columns)\n",
    "colset_2 = set(df2.columns)\n",
    "\n",
    "common_columns = list(colset_1.intersection(colset_2))\n",
    "cols_only_df1 = colset_1.difference(colset_2)\n",
    "cols_only_df2 = colset_2.difference(colset_1)\n",
    "\n",
    "print('Table A and Table B share the following columns:')\n",
    "for col in common_columns:\n",
    "    print(col)\n",
    "\n",
    "print()\n",
    "print('The following columns are present only in Table A:')\n",
    "for col in cols_only_df1:\n",
    "    print(col)\n",
    "\n",
    "print()\n",
    "print('The following columns are present only in Table B:')\n",
    "for col in cols_only_df2:\n",
    "    print(col)\n",
    "\n",
    "\n"
   ]
  },
  {
   "cell_type": "code",
   "execution_count": 6,
   "metadata": {},
   "outputs": [
    {
     "name": "stderr",
     "output_type": "stream",
     "text": [
      "49875it [00:08, 5977.86it/s]"
     ]
    },
    {
     "name": "stdout",
     "output_type": "stream",
     "text": [
      "\n",
      "CPU times: user 8.43 s, sys: 287 ms, total: 8.72 s\n",
      "Wall time: 8.62 s\n"
     ]
    },
    {
     "name": "stderr",
     "output_type": "stream",
     "text": [
      "\n"
     ]
    }
   ],
   "source": [
    "%%time\n",
    "edgefile = 'pipeline/demo_files/imdb_movielens-edges.txt'\n",
    "# el = edgelist.EdgeList(df, edgefile)\n",
    "\n",
    "pref = ['3#__tn', '3$__tt','5$__idx', '1$__cid']\n",
    "\n",
    "el = edgelist.EdgeList(df, edgefile, pref)\n",
    "\n",
    "# g = Graph(el.get_edgelist(), prefixes=pref)\n"
   ]
  },
  {
   "cell_type": "code",
   "execution_count": 7,
   "metadata": {},
   "outputs": [],
   "source": [
    "g = nx.Graph()\n",
    "edgefile = 'pipeline/demo_files/imdb_movielens-edges.txt'\n",
    "\n",
    "with open(edgefile, 'r') as fp:\n",
    "    for idx, line in enumerate(fp):\n",
    "        line = line.strip('')\n",
    "        if len(line) == 0:\n",
    "            continue\n",
    "        n1,n2,w1,w2 = line.split(',')\n",
    "        g.add_edge(n1, n2)        "
   ]
  },
  {
   "cell_type": "code",
   "execution_count": 8,
   "metadata": {},
   "outputs": [
    {
     "name": "stdout",
     "output_type": "stream",
     "text": [
      "Neighbors of quentin_tarantino:\n",
      "['idx__285', 'cid__director', 'idx__568', 'idx__681', 'idx__824', 'idx__826', 'idx__876', 'cid__actor_1', 'idx__2158', 'idx__2787', 'idx__3178', 'idx__3286', 'idx__4042', 'idx__4145', 'idx__4598', 'cid__actor_2', 'idx__4821', 'idx__5584', 'idx__6173', 'idx__11248', 'idx__11794', 'idx__15215', 'idx__15285', 'cid__actor_3', 'idx__16390', 'idx__17284', 'idx__18124', 'idx__24555', 'idx__32612', 'idx__45678']\n",
      "\n",
      "Neighbors of idx_1:\n",
      "['tt__johnny_depp', 'tt__orlando_bloom', 'tt__jack_davenport', 'tt__color', 'tt__pg13', 'tt__gore_verbinski', 'tt__english', 'tt__usa', 'tt__pirates_of_the_caribbean_at_worlds_end', 'tn__7', 'tn__2007']\n"
     ]
    }
   ],
   "source": [
    "# Printing the list of neighbors of an actor. \n",
    "print('Neighbors of quentin_tarantino:')\n",
    "print(list(g.neighbors('tt__quentin_tarantino')))\n",
    "print()\n",
    "print('Neighbors of idx_1:')\n",
    "print(list(g.neighbors('idx__1')))\n"
   ]
  },
  {
   "cell_type": "markdown",
   "metadata": {},
   "source": [
    "\"quentin_tarantino\" is present in multiple \"actor\" columns and in many different tuples. To show these tuples, we take a small subset and induce a subgraph by selecting all the nodes present in those tuples, as well as all the columns in the starting dataset. "
   ]
  },
  {
   "cell_type": "markdown",
   "metadata": {},
   "source": [
    "As an example, we'll take a subset of the graph G by selecting only 3 tuples, corresponding to some of the movies Orlando Bloom starred in.\n"
   ]
  },
  {
   "cell_type": "code",
   "execution_count": 10,
   "metadata": {},
   "outputs": [
    {
     "data": {
      "application/vnd.plotly.v1+json": {
       "config": {
        "plotlyServerURL": "https://plot.ly"
       },
       "data": [
        {
         "hoverinfo": "none",
         "line": {
          "color": "#888",
          "width": 0.5
         },
         "mode": "lines",
         "type": "scatter",
         "x": [
          0.6307692307692309,
          -0.18461538461538463,
          null,
          -0.18461538461538463,
          0.6307692307692309,
          null,
          -0.18461538461538463,
          -1,
          null,
          -0.18461538461538463,
          0.6307692307692309,
          null,
          -0.18461538461538463,
          0.6307692307692309,
          null,
          -0.18461538461538463,
          0.6307692307692309,
          null,
          -0.18461538461538463,
          -1,
          null,
          -0.18461538461538463,
          0.6307692307692309,
          null,
          -0.18461538461538463,
          -1,
          null,
          -0.18461538461538463,
          0.6307692307692309,
          null,
          -0.18461538461538463,
          -1,
          null,
          -0.18461538461538463,
          0.6307692307692309,
          null,
          0.6307692307692309,
          -0.18461538461538463,
          null,
          0.6307692307692309,
          -0.18461538461538463,
          null,
          0.6307692307692309,
          -0.18461538461538463,
          null,
          0.6307692307692309,
          -0.18461538461538463,
          null,
          0.6307692307692309,
          -0.18461538461538463,
          null,
          0.6307692307692309,
          -0.18461538461538463,
          null,
          0.6307692307692309,
          -0.18461538461538463,
          null,
          0.6307692307692309,
          -0.18461538461538463,
          null,
          0.6307692307692309,
          -0.18461538461538463,
          null,
          -0.18461538461538463,
          0.6307692307692309,
          null,
          -0.18461538461538463,
          -1,
          null,
          -0.18461538461538463,
          -1,
          null,
          -0.18461538461538463,
          0.6307692307692309,
          null,
          -0.18461538461538463,
          -1,
          null,
          -0.18461538461538463,
          -1,
          null,
          0.6307692307692309,
          -0.18461538461538463,
          null,
          -0.18461538461538463,
          0.6307692307692309,
          null,
          -0.18461538461538463,
          -1,
          null,
          -0.18461538461538463,
          -1,
          null,
          -0.18461538461538463,
          -1,
          null,
          -0.18461538461538463,
          0.6307692307692309,
          null,
          -0.18461538461538463,
          0.6307692307692309,
          null,
          -0.18461538461538463,
          -1,
          null,
          -0.18461538461538463,
          0.6307692307692309,
          null,
          -0.18461538461538463,
          -1,
          null,
          0.6307692307692309,
          -0.18461538461538463,
          null,
          -0.18461538461538463,
          0.6307692307692309,
          null,
          -0.18461538461538463,
          0.6307692307692309,
          null,
          -0.18461538461538463,
          -1,
          null,
          0.6307692307692309,
          -0.18461538461538463,
          null,
          -0.18461538461538463,
          -1,
          null,
          -0.18461538461538463,
          0.6307692307692309,
          null,
          -0.18461538461538463,
          -1,
          null,
          0.6307692307692309,
          -0.18461538461538463,
          null,
          -1,
          -0.18461538461538463,
          null,
          -1,
          -0.18461538461538463,
          null,
          -1,
          -0.18461538461538463,
          null,
          -1,
          -0.18461538461538463,
          null,
          -1,
          -0.18461538461538463,
          null,
          -1,
          -0.18461538461538463,
          null,
          -1,
          -0.18461538461538463,
          null,
          -0.18461538461538463,
          0.6307692307692309,
          null,
          -0.18461538461538463,
          -1,
          null,
          -0.18461538461538463,
          -1,
          null,
          -0.18461538461538463,
          0.6307692307692309,
          null,
          -0.18461538461538463,
          0.6307692307692309,
          null,
          -0.18461538461538463,
          0.6307692307692309,
          null,
          -0.18461538461538463,
          0.6307692307692309,
          null,
          -0.18461538461538463,
          -1,
          null,
          0.6307692307692309,
          -0.18461538461538463,
          null,
          -1,
          -0.18461538461538463,
          null,
          -1,
          -0.18461538461538463,
          null,
          -1,
          -0.18461538461538463,
          null,
          -1,
          -0.18461538461538463,
          null,
          -1,
          -0.18461538461538463,
          null,
          -0.18461538461538463,
          -1,
          null,
          -0.18461538461538463,
          0.6307692307692309,
          null,
          -0.18461538461538463,
          0.6307692307692309,
          null,
          -0.18461538461538463,
          0.6307692307692309,
          null,
          -0.18461538461538463,
          0.6307692307692309,
          null,
          -0.18461538461538463,
          0.6307692307692309,
          null,
          -0.18461538461538463,
          -1,
          null,
          -0.18461538461538463,
          0.6307692307692309,
          null,
          0.6307692307692309,
          -0.18461538461538463,
          null,
          0.6307692307692309,
          -0.18461538461538463,
          null,
          -0.18461538461538463,
          0.6307692307692309,
          null,
          0.6307692307692309,
          -0.18461538461538463,
          null,
          -0.18461538461538463,
          0.6307692307692309,
          null,
          -0.18461538461538463,
          -1,
          null,
          0.6307692307692309,
          -0.18461538461538463,
          null,
          -0.18461538461538463,
          -1,
          null,
          0.6307692307692309,
          -0.18461538461538463,
          null,
          0.6307692307692309,
          -0.18461538461538463,
          null
         ],
         "y": [
          -0.2620879120879121,
          -0.07194570135746607,
          null,
          0.1798642533936652,
          -0.6115384615384616,
          null,
          0.1798642533936652,
          0.6115384615384616,
          null,
          0.1798642533936652,
          -0.43681318681318687,
          null,
          0.1798642533936652,
          -0.5241758241758242,
          null,
          0.10791855203619913,
          0.5241758241758241,
          null,
          0.10791855203619913,
          7.686159401251084e-18,
          null,
          -0.2877828054298643,
          0.5241758241758241,
          null,
          -0.2877828054298643,
          -0.6115384615384616,
          null,
          0.3597285067873303,
          7.686159401251084e-18,
          null,
          0.3597285067873303,
          0.6115384615384616,
          null,
          0.3597285067873303,
          0.08736263736263733,
          null,
          -0.43681318681318687,
          -0.6115384615384616,
          null,
          -0.43681318681318687,
          -0.14389140271493217,
          null,
          -0.43681318681318687,
          -0.5755656108597286,
          null,
          -0.43681318681318687,
          -0.1798642533936652,
          null,
          -0.43681318681318687,
          -0.5395927601809956,
          null,
          -0.43681318681318687,
          0.21583710407239826,
          null,
          -0.43681318681318687,
          0.25180995475113116,
          null,
          -0.43681318681318687,
          0.28778280542986423,
          null,
          -0.43681318681318687,
          -0.035972850678733036,
          null,
          0.03597285067873305,
          0.17472527472527466,
          null,
          0.03597285067873305,
          -0.6115384615384616,
          null,
          0.03597285067873305,
          7.686159401251084e-18,
          null,
          0.6115384615384616,
          0.6115384615384616,
          null,
          0.6115384615384616,
          -0.6115384615384616,
          null,
          0.6115384615384616,
          0.6115384615384616,
          null,
          7.686159401251084e-18,
          7.686159401251084e-18,
          null,
          0.39570135746606333,
          0.08736263736263733,
          null,
          0.39570135746606333,
          0.6115384615384616,
          null,
          -0.07194570135746607,
          -0.6115384615384616,
          null,
          -0.07194570135746607,
          7.686159401251084e-18,
          null,
          -0.07194570135746607,
          0.4368131868131868,
          null,
          0.14389140271493217,
          0.6115384615384616,
          null,
          0.14389140271493217,
          7.686159401251084e-18,
          null,
          0.5755656108597286,
          0.5241758241758241,
          null,
          0.5755656108597286,
          0.6115384615384616,
          null,
          0.08736263736263733,
          0.0719457013574661,
          null,
          0.21583710407239826,
          -0.6115384615384616,
          null,
          0.21583710407239826,
          -0.5241758241758242,
          null,
          0.21583710407239826,
          0.6115384615384616,
          null,
          -0.0873626373626374,
          0.32375565610859725,
          null,
          0.5395927601809956,
          -0.6115384615384616,
          null,
          0.5395927601809956,
          0.4368131868131868,
          null,
          0.5395927601809956,
          0.6115384615384616,
          null,
          0.3494505494505495,
          0.5036199095022624,
          null,
          7.686159401251084e-18,
          0.28778280542986423,
          null,
          7.686159401251084e-18,
          -0.1798642533936652,
          null,
          7.686159401251084e-18,
          -0.14389140271493217,
          null,
          7.686159401251084e-18,
          -0.10791855203619913,
          null,
          7.686159401251084e-18,
          -0.035972850678733036,
          null,
          7.686159401251084e-18,
          7.686159401251084e-18,
          null,
          7.686159401251084e-18,
          0.0719457013574661,
          null,
          -0.5395927601809956,
          -0.5241758241758242,
          null,
          -0.5395927601809956,
          -0.6115384615384616,
          null,
          0.25180995475113116,
          0.6115384615384616,
          null,
          0.25180995475113116,
          -0.6115384615384616,
          null,
          0.25180995475113116,
          -0.5241758241758242,
          null,
          -0.5755656108597286,
          -0.5241758241758242,
          null,
          -0.5755656108597286,
          -0.6115384615384616,
          null,
          -0.5755656108597286,
          -0.6115384615384616,
          null,
          0.262087912087912,
          0.4676470588235294,
          null,
          0.6115384615384616,
          0.28778280542986423,
          null,
          0.6115384615384616,
          0.32375565610859725,
          null,
          0.6115384615384616,
          0.4316742081447964,
          null,
          0.6115384615384616,
          0.4676470588235294,
          null,
          0.6115384615384616,
          0.5036199095022624,
          null,
          7.686159401251084e-18,
          -0.6115384615384616,
          null,
          -0.1798642533936652,
          -0.6115384615384616,
          null,
          -0.1798642533936652,
          -0.5241758241758242,
          null,
          -0.1798642533936652,
          -0.1747252747252748,
          null,
          0.28778280542986423,
          -0.1747252747252748,
          null,
          0.28778280542986423,
          -0.6115384615384616,
          null,
          0.28778280542986423,
          -0.6115384615384616,
          null,
          0.28778280542986423,
          -0.5241758241758242,
          null,
          -0.6115384615384616,
          -0.6115384615384616,
          null,
          -0.6115384615384616,
          -0.14389140271493217,
          null,
          -0.035972850678733036,
          -0.1747252747252748,
          null,
          0.4368131868131868,
          0.0719457013574661,
          null,
          -0.6115384615384616,
          -0.5241758241758242,
          null,
          -0.6115384615384616,
          -0.6115384615384616,
          null,
          -0.3494505494505495,
          -0.10791855203619913,
          null,
          -0.10791855203619913,
          -0.6115384615384616,
          null,
          0.17472527472527466,
          0.4316742081447964,
          null,
          -0.5241758241758242,
          -0.14389140271493217,
          null
         ]
        },
        {
         "hoverinfo": "text",
         "marker": {
          "color": [
           1,
           0,
           0,
           0,
           0,
           1,
           0,
           0,
           1,
           0,
           0,
           0,
           0,
           1,
           0,
           1,
           0,
           1,
           -1,
           0,
           0,
           0,
           1,
           -1,
           0,
           0,
           0,
           0,
           0,
           1,
           0,
           1,
           0,
           1,
           0,
           0,
           1,
           1,
           0,
           1,
           -1,
           1,
           1,
           0,
           0
          ],
          "colorbar": {
           "thickness": 15,
           "ticktext": [
            "RID",
            "CID",
            "Node"
           ],
           "tickvals": [
            -1,
            1,
            0
           ],
           "title": {
            "side": "right",
            "text": "Node Type"
           },
           "xanchor": "left"
          },
          "colorscale": [
           [
            0,
            "rgb(0,0,0)"
           ],
           [
            0.25,
            "rgb(230,0,0)"
           ],
           [
            0.5,
            "rgb(230,210,0)"
           ],
           [
            0.75,
            "rgb(255,255,255)"
           ],
           [
            1,
            "rgb(160,200,255)"
           ]
          ],
          "line": {
           "width": 2
          },
          "reversescale": true,
          "showscale": true,
          "size": 10
         },
         "mode": "markers",
         "text": [
          "cid__content_rating",
          "tt__john_travolta",
          "tn__7",
          "tn__9",
          "tt__en",
          "cid__actor_3",
          "tt__usa",
          "tn__1994",
          "cid__original_language",
          "tt__miramax_films",
          "tt__r",
          "tn__1995",
          "tn__8",
          "cid__production_companies",
          "tt__samuel_l_jackson",
          "cid__genres",
          "tt__pulp_fiction",
          "cid__status",
          "idx__3286",
          "tt__phil_lamarr",
          "tt__uma_thurman",
          "tt__eric_stoltz",
          "cid__release_date_rounded",
          "idx__4821",
          "tt__english",
          "tt__steve_buscemi",
          "tt__thriller",
          "tt__quentin_tarantino",
          "tn__199409",
          "cid__vote_average",
          "tt__released",
          "cid__actor_1",
          "tt__robert_rodriguez",
          "cid__title",
          "tt__desperado",
          "tt__bruce_willis",
          "cid__color",
          "cid__director",
          "tt__color",
          "cid__production_countries",
          "idx__3178",
          "cid__actor_2",
          "cid__year",
          "tt__us",
          "tt__salma_hayek"
         ],
         "type": "scatter",
         "x": [
          0.6307692307692309,
          -0.18461538461538463,
          -0.18461538461538463,
          -0.18461538461538463,
          -0.18461538461538463,
          0.6307692307692309,
          -0.18461538461538463,
          -0.18461538461538463,
          0.6307692307692309,
          -0.18461538461538463,
          -0.18461538461538463,
          -0.18461538461538463,
          -0.18461538461538463,
          0.6307692307692309,
          -0.18461538461538463,
          0.6307692307692309,
          -0.18461538461538463,
          0.6307692307692309,
          -1,
          -0.18461538461538463,
          -0.18461538461538463,
          -0.18461538461538463,
          0.6307692307692309,
          -1,
          -0.18461538461538463,
          -0.18461538461538463,
          -0.18461538461538463,
          -0.18461538461538463,
          -0.18461538461538463,
          0.6307692307692309,
          -0.18461538461538463,
          0.6307692307692309,
          -0.18461538461538463,
          0.6307692307692309,
          -0.18461538461538463,
          -0.18461538461538463,
          0.6307692307692309,
          0.6307692307692309,
          -0.18461538461538463,
          0.6307692307692309,
          -1,
          0.6307692307692309,
          0.6307692307692309,
          -0.18461538461538463,
          -0.18461538461538463
         ],
         "y": [
          -0.2620879120879121,
          0.1798642533936652,
          0.10791855203619913,
          -0.2877828054298643,
          0.3597285067873303,
          -0.43681318681318687,
          0.03597285067873305,
          0.6115384615384616,
          7.686159401251084e-18,
          0.39570135746606333,
          -0.07194570135746607,
          0.14389140271493217,
          0.5755656108597286,
          0.08736263736263733,
          0.21583710407239826,
          -0.0873626373626374,
          0.5395927601809956,
          0.3494505494505495,
          7.686159401251084e-18,
          -0.5395927601809956,
          0.25180995475113116,
          -0.5755656108597286,
          0.262087912087912,
          0.6115384615384616,
          7.686159401251084e-18,
          -0.1798642533936652,
          0.32375565610859725,
          0.28778280542986423,
          0.4676470588235294,
          0.5241758241758241,
          0.5036199095022624,
          -0.6115384615384616,
          -0.035972850678733036,
          0.4368131868131868,
          0.0719457013574661,
          -0.6115384615384616,
          -0.3494505494505495,
          -0.1747252747252748,
          -0.10791855203619913,
          0.17472527472527466,
          -0.6115384615384616,
          -0.5241758241758242,
          0.6115384615384616,
          0.4316742081447964,
          -0.14389140271493217
         ]
        }
       ],
       "layout": {
        "height": 600,
        "hovermode": "closest",
        "margin": {
         "b": 20,
         "l": 5,
         "r": 5,
         "t": 15
        },
        "showlegend": false,
        "template": {
         "data": {
          "bar": [
           {
            "error_x": {
             "color": "#2a3f5f"
            },
            "error_y": {
             "color": "#2a3f5f"
            },
            "marker": {
             "line": {
              "color": "#E5ECF6",
              "width": 0.5
             },
             "pattern": {
              "fillmode": "overlay",
              "size": 10,
              "solidity": 0.2
             }
            },
            "type": "bar"
           }
          ],
          "barpolar": [
           {
            "marker": {
             "line": {
              "color": "#E5ECF6",
              "width": 0.5
             },
             "pattern": {
              "fillmode": "overlay",
              "size": 10,
              "solidity": 0.2
             }
            },
            "type": "barpolar"
           }
          ],
          "carpet": [
           {
            "aaxis": {
             "endlinecolor": "#2a3f5f",
             "gridcolor": "white",
             "linecolor": "white",
             "minorgridcolor": "white",
             "startlinecolor": "#2a3f5f"
            },
            "baxis": {
             "endlinecolor": "#2a3f5f",
             "gridcolor": "white",
             "linecolor": "white",
             "minorgridcolor": "white",
             "startlinecolor": "#2a3f5f"
            },
            "type": "carpet"
           }
          ],
          "choropleth": [
           {
            "colorbar": {
             "outlinewidth": 0,
             "ticks": ""
            },
            "type": "choropleth"
           }
          ],
          "contour": [
           {
            "colorbar": {
             "outlinewidth": 0,
             "ticks": ""
            },
            "colorscale": [
             [
              0,
              "#0d0887"
             ],
             [
              0.1111111111111111,
              "#46039f"
             ],
             [
              0.2222222222222222,
              "#7201a8"
             ],
             [
              0.3333333333333333,
              "#9c179e"
             ],
             [
              0.4444444444444444,
              "#bd3786"
             ],
             [
              0.5555555555555556,
              "#d8576b"
             ],
             [
              0.6666666666666666,
              "#ed7953"
             ],
             [
              0.7777777777777778,
              "#fb9f3a"
             ],
             [
              0.8888888888888888,
              "#fdca26"
             ],
             [
              1,
              "#f0f921"
             ]
            ],
            "type": "contour"
           }
          ],
          "contourcarpet": [
           {
            "colorbar": {
             "outlinewidth": 0,
             "ticks": ""
            },
            "type": "contourcarpet"
           }
          ],
          "heatmap": [
           {
            "colorbar": {
             "outlinewidth": 0,
             "ticks": ""
            },
            "colorscale": [
             [
              0,
              "#0d0887"
             ],
             [
              0.1111111111111111,
              "#46039f"
             ],
             [
              0.2222222222222222,
              "#7201a8"
             ],
             [
              0.3333333333333333,
              "#9c179e"
             ],
             [
              0.4444444444444444,
              "#bd3786"
             ],
             [
              0.5555555555555556,
              "#d8576b"
             ],
             [
              0.6666666666666666,
              "#ed7953"
             ],
             [
              0.7777777777777778,
              "#fb9f3a"
             ],
             [
              0.8888888888888888,
              "#fdca26"
             ],
             [
              1,
              "#f0f921"
             ]
            ],
            "type": "heatmap"
           }
          ],
          "heatmapgl": [
           {
            "colorbar": {
             "outlinewidth": 0,
             "ticks": ""
            },
            "colorscale": [
             [
              0,
              "#0d0887"
             ],
             [
              0.1111111111111111,
              "#46039f"
             ],
             [
              0.2222222222222222,
              "#7201a8"
             ],
             [
              0.3333333333333333,
              "#9c179e"
             ],
             [
              0.4444444444444444,
              "#bd3786"
             ],
             [
              0.5555555555555556,
              "#d8576b"
             ],
             [
              0.6666666666666666,
              "#ed7953"
             ],
             [
              0.7777777777777778,
              "#fb9f3a"
             ],
             [
              0.8888888888888888,
              "#fdca26"
             ],
             [
              1,
              "#f0f921"
             ]
            ],
            "type": "heatmapgl"
           }
          ],
          "histogram": [
           {
            "marker": {
             "pattern": {
              "fillmode": "overlay",
              "size": 10,
              "solidity": 0.2
             }
            },
            "type": "histogram"
           }
          ],
          "histogram2d": [
           {
            "colorbar": {
             "outlinewidth": 0,
             "ticks": ""
            },
            "colorscale": [
             [
              0,
              "#0d0887"
             ],
             [
              0.1111111111111111,
              "#46039f"
             ],
             [
              0.2222222222222222,
              "#7201a8"
             ],
             [
              0.3333333333333333,
              "#9c179e"
             ],
             [
              0.4444444444444444,
              "#bd3786"
             ],
             [
              0.5555555555555556,
              "#d8576b"
             ],
             [
              0.6666666666666666,
              "#ed7953"
             ],
             [
              0.7777777777777778,
              "#fb9f3a"
             ],
             [
              0.8888888888888888,
              "#fdca26"
             ],
             [
              1,
              "#f0f921"
             ]
            ],
            "type": "histogram2d"
           }
          ],
          "histogram2dcontour": [
           {
            "colorbar": {
             "outlinewidth": 0,
             "ticks": ""
            },
            "colorscale": [
             [
              0,
              "#0d0887"
             ],
             [
              0.1111111111111111,
              "#46039f"
             ],
             [
              0.2222222222222222,
              "#7201a8"
             ],
             [
              0.3333333333333333,
              "#9c179e"
             ],
             [
              0.4444444444444444,
              "#bd3786"
             ],
             [
              0.5555555555555556,
              "#d8576b"
             ],
             [
              0.6666666666666666,
              "#ed7953"
             ],
             [
              0.7777777777777778,
              "#fb9f3a"
             ],
             [
              0.8888888888888888,
              "#fdca26"
             ],
             [
              1,
              "#f0f921"
             ]
            ],
            "type": "histogram2dcontour"
           }
          ],
          "mesh3d": [
           {
            "colorbar": {
             "outlinewidth": 0,
             "ticks": ""
            },
            "type": "mesh3d"
           }
          ],
          "parcoords": [
           {
            "line": {
             "colorbar": {
              "outlinewidth": 0,
              "ticks": ""
             }
            },
            "type": "parcoords"
           }
          ],
          "pie": [
           {
            "automargin": true,
            "type": "pie"
           }
          ],
          "scatter": [
           {
            "fillpattern": {
             "fillmode": "overlay",
             "size": 10,
             "solidity": 0.2
            },
            "type": "scatter"
           }
          ],
          "scatter3d": [
           {
            "line": {
             "colorbar": {
              "outlinewidth": 0,
              "ticks": ""
             }
            },
            "marker": {
             "colorbar": {
              "outlinewidth": 0,
              "ticks": ""
             }
            },
            "type": "scatter3d"
           }
          ],
          "scattercarpet": [
           {
            "marker": {
             "colorbar": {
              "outlinewidth": 0,
              "ticks": ""
             }
            },
            "type": "scattercarpet"
           }
          ],
          "scattergeo": [
           {
            "marker": {
             "colorbar": {
              "outlinewidth": 0,
              "ticks": ""
             }
            },
            "type": "scattergeo"
           }
          ],
          "scattergl": [
           {
            "marker": {
             "colorbar": {
              "outlinewidth": 0,
              "ticks": ""
             }
            },
            "type": "scattergl"
           }
          ],
          "scattermapbox": [
           {
            "marker": {
             "colorbar": {
              "outlinewidth": 0,
              "ticks": ""
             }
            },
            "type": "scattermapbox"
           }
          ],
          "scatterpolar": [
           {
            "marker": {
             "colorbar": {
              "outlinewidth": 0,
              "ticks": ""
             }
            },
            "type": "scatterpolar"
           }
          ],
          "scatterpolargl": [
           {
            "marker": {
             "colorbar": {
              "outlinewidth": 0,
              "ticks": ""
             }
            },
            "type": "scatterpolargl"
           }
          ],
          "scatterternary": [
           {
            "marker": {
             "colorbar": {
              "outlinewidth": 0,
              "ticks": ""
             }
            },
            "type": "scatterternary"
           }
          ],
          "surface": [
           {
            "colorbar": {
             "outlinewidth": 0,
             "ticks": ""
            },
            "colorscale": [
             [
              0,
              "#0d0887"
             ],
             [
              0.1111111111111111,
              "#46039f"
             ],
             [
              0.2222222222222222,
              "#7201a8"
             ],
             [
              0.3333333333333333,
              "#9c179e"
             ],
             [
              0.4444444444444444,
              "#bd3786"
             ],
             [
              0.5555555555555556,
              "#d8576b"
             ],
             [
              0.6666666666666666,
              "#ed7953"
             ],
             [
              0.7777777777777778,
              "#fb9f3a"
             ],
             [
              0.8888888888888888,
              "#fdca26"
             ],
             [
              1,
              "#f0f921"
             ]
            ],
            "type": "surface"
           }
          ],
          "table": [
           {
            "cells": {
             "fill": {
              "color": "#EBF0F8"
             },
             "line": {
              "color": "white"
             }
            },
            "header": {
             "fill": {
              "color": "#C8D4E3"
             },
             "line": {
              "color": "white"
             }
            },
            "type": "table"
           }
          ]
         },
         "layout": {
          "annotationdefaults": {
           "arrowcolor": "#2a3f5f",
           "arrowhead": 0,
           "arrowwidth": 1
          },
          "autotypenumbers": "strict",
          "coloraxis": {
           "colorbar": {
            "outlinewidth": 0,
            "ticks": ""
           }
          },
          "colorscale": {
           "diverging": [
            [
             0,
             "#8e0152"
            ],
            [
             0.1,
             "#c51b7d"
            ],
            [
             0.2,
             "#de77ae"
            ],
            [
             0.3,
             "#f1b6da"
            ],
            [
             0.4,
             "#fde0ef"
            ],
            [
             0.5,
             "#f7f7f7"
            ],
            [
             0.6,
             "#e6f5d0"
            ],
            [
             0.7,
             "#b8e186"
            ],
            [
             0.8,
             "#7fbc41"
            ],
            [
             0.9,
             "#4d9221"
            ],
            [
             1,
             "#276419"
            ]
           ],
           "sequential": [
            [
             0,
             "#0d0887"
            ],
            [
             0.1111111111111111,
             "#46039f"
            ],
            [
             0.2222222222222222,
             "#7201a8"
            ],
            [
             0.3333333333333333,
             "#9c179e"
            ],
            [
             0.4444444444444444,
             "#bd3786"
            ],
            [
             0.5555555555555556,
             "#d8576b"
            ],
            [
             0.6666666666666666,
             "#ed7953"
            ],
            [
             0.7777777777777778,
             "#fb9f3a"
            ],
            [
             0.8888888888888888,
             "#fdca26"
            ],
            [
             1,
             "#f0f921"
            ]
           ],
           "sequentialminus": [
            [
             0,
             "#0d0887"
            ],
            [
             0.1111111111111111,
             "#46039f"
            ],
            [
             0.2222222222222222,
             "#7201a8"
            ],
            [
             0.3333333333333333,
             "#9c179e"
            ],
            [
             0.4444444444444444,
             "#bd3786"
            ],
            [
             0.5555555555555556,
             "#d8576b"
            ],
            [
             0.6666666666666666,
             "#ed7953"
            ],
            [
             0.7777777777777778,
             "#fb9f3a"
            ],
            [
             0.8888888888888888,
             "#fdca26"
            ],
            [
             1,
             "#f0f921"
            ]
           ]
          },
          "colorway": [
           "#636efa",
           "#EF553B",
           "#00cc96",
           "#ab63fa",
           "#FFA15A",
           "#19d3f3",
           "#FF6692",
           "#B6E880",
           "#FF97FF",
           "#FECB52"
          ],
          "font": {
           "color": "#2a3f5f"
          },
          "geo": {
           "bgcolor": "white",
           "lakecolor": "white",
           "landcolor": "#E5ECF6",
           "showlakes": true,
           "showland": true,
           "subunitcolor": "white"
          },
          "hoverlabel": {
           "align": "left"
          },
          "hovermode": "closest",
          "mapbox": {
           "style": "light"
          },
          "paper_bgcolor": "white",
          "plot_bgcolor": "#E5ECF6",
          "polar": {
           "angularaxis": {
            "gridcolor": "white",
            "linecolor": "white",
            "ticks": ""
           },
           "bgcolor": "#E5ECF6",
           "radialaxis": {
            "gridcolor": "white",
            "linecolor": "white",
            "ticks": ""
           }
          },
          "scene": {
           "xaxis": {
            "backgroundcolor": "#E5ECF6",
            "gridcolor": "white",
            "gridwidth": 2,
            "linecolor": "white",
            "showbackground": true,
            "ticks": "",
            "zerolinecolor": "white"
           },
           "yaxis": {
            "backgroundcolor": "#E5ECF6",
            "gridcolor": "white",
            "gridwidth": 2,
            "linecolor": "white",
            "showbackground": true,
            "ticks": "",
            "zerolinecolor": "white"
           },
           "zaxis": {
            "backgroundcolor": "#E5ECF6",
            "gridcolor": "white",
            "gridwidth": 2,
            "linecolor": "white",
            "showbackground": true,
            "ticks": "",
            "zerolinecolor": "white"
           }
          },
          "shapedefaults": {
           "line": {
            "color": "#2a3f5f"
           }
          },
          "ternary": {
           "aaxis": {
            "gridcolor": "white",
            "linecolor": "white",
            "ticks": ""
           },
           "baxis": {
            "gridcolor": "white",
            "linecolor": "white",
            "ticks": ""
           },
           "bgcolor": "#E5ECF6",
           "caxis": {
            "gridcolor": "white",
            "linecolor": "white",
            "ticks": ""
           }
          },
          "title": {
           "x": 0.05
          },
          "xaxis": {
           "automargin": true,
           "gridcolor": "white",
           "linecolor": "white",
           "ticks": "",
           "title": {
            "standoff": 15
           },
           "zerolinecolor": "white",
           "zerolinewidth": 2
          },
          "yaxis": {
           "automargin": true,
           "gridcolor": "white",
           "linecolor": "white",
           "ticks": "",
           "title": {
            "standoff": 15
           },
           "zerolinecolor": "white",
           "zerolinewidth": 2
          }
         }
        },
        "title": {
         "font": {
          "size": 16
         },
         "text": "<br>Network graph on a snippet of imdb_movielens"
        },
        "width": 800,
        "xaxis": {
         "showgrid": false,
         "showticklabels": false,
         "zeroline": false
        },
        "yaxis": {
         "showgrid": false,
         "showticklabels": false,
         "zeroline": false
        }
       }
      }
     },
     "metadata": {},
     "output_type": "display_data"
    },
    {
     "ename": "FileNotFoundError",
     "evalue": "[Errno 2] No such file or directory: 'images/pipeline/demo_files/graph.html'",
     "output_type": "error",
     "traceback": [
      "\u001b[0;31m---------------------------------------------------------------------------\u001b[0m",
      "\u001b[0;31mFileNotFoundError\u001b[0m                         Traceback (most recent call last)",
      "\u001b[0;32m/var/folders/77/qqgprm553g11vvm36898xmmm0000gn/T/ipykernel_70957/2325822932.py\u001b[0m in \u001b[0;36m<module>\u001b[0;34m\u001b[0m\n\u001b[1;32m     12\u001b[0m \u001b[0mright\u001b[0m \u001b[0;34m=\u001b[0m \u001b[0mcids\u001b[0m\u001b[0;34m\u001b[0m\u001b[0;34m\u001b[0m\u001b[0m\n\u001b[1;32m     13\u001b[0m \u001b[0mmiddle\u001b[0m \u001b[0;34m=\u001b[0m \u001b[0mr1\u001b[0m \u001b[0;34m+\u001b[0m \u001b[0mr2\u001b[0m \u001b[0;34m+\u001b[0m \u001b[0mr3\u001b[0m\u001b[0;34m\u001b[0m\u001b[0;34m\u001b[0m\u001b[0m\n\u001b[0;32m---> 14\u001b[0;31m \u001b[0mplot_graph\u001b[0m\u001b[0;34m(\u001b[0m\u001b[0msubg\u001b[0m\u001b[0;34m,\u001b[0m \u001b[0mleft\u001b[0m\u001b[0;34m,\u001b[0m \u001b[0mmiddle\u001b[0m\u001b[0;34m,\u001b[0m \u001b[0mright\u001b[0m\u001b[0;34m,\u001b[0m\u001b[0;34m'pipeline/demo_files/graph.html'\u001b[0m\u001b[0;34m,\u001b[0m \u001b[0mtitle\u001b[0m\u001b[0;34m=\u001b[0m\u001b[0;34m'<br>Network graph on a snippet of imdb_movielens'\u001b[0m\u001b[0;34m)\u001b[0m\u001b[0;34m\u001b[0m\u001b[0;34m\u001b[0m\u001b[0m\n\u001b[0m",
      "\u001b[0;32m~/Projects/embdi/notebooks/demo_utils.py\u001b[0m in \u001b[0;36mplot_graph\u001b[0;34m(graph, left, middle, right, image_path, title, width, height)\u001b[0m\n\u001b[1;32m    147\u001b[0m     \u001b[0mfig\u001b[0m\u001b[0;34m.\u001b[0m\u001b[0mshow\u001b[0m\u001b[0;34m(\u001b[0m\u001b[0;34m)\u001b[0m\u001b[0;34m\u001b[0m\u001b[0;34m\u001b[0m\u001b[0m\n\u001b[1;32m    148\u001b[0m     \u001b[0;32mif\u001b[0m \u001b[0mimage_path\u001b[0m\u001b[0;34m:\u001b[0m\u001b[0;34m\u001b[0m\u001b[0;34m\u001b[0m\u001b[0m\n\u001b[0;32m--> 149\u001b[0;31m         \u001b[0mfig\u001b[0m\u001b[0;34m.\u001b[0m\u001b[0mwrite_html\u001b[0m\u001b[0;34m(\u001b[0m\u001b[0;34m\"{}\"\u001b[0m\u001b[0;34m.\u001b[0m\u001b[0mformat\u001b[0m\u001b[0;34m(\u001b[0m\u001b[0mimage_path\u001b[0m\u001b[0;34m)\u001b[0m\u001b[0;34m)\u001b[0m\u001b[0;34m\u001b[0m\u001b[0;34m\u001b[0m\u001b[0m\n\u001b[0m\u001b[1;32m    150\u001b[0m \u001b[0;34m\u001b[0m\u001b[0m\n\u001b[1;32m    151\u001b[0m \u001b[0;34m\u001b[0m\u001b[0m\n",
      "\u001b[0;32m~/opt/anaconda3/envs/embdi/lib/python3.7/site-packages/plotly/basedatatypes.py\u001b[0m in \u001b[0;36mwrite_html\u001b[0;34m(self, *args, **kwargs)\u001b[0m\n\u001b[1;32m   3706\u001b[0m         \u001b[0;32mimport\u001b[0m \u001b[0mplotly\u001b[0m\u001b[0;34m.\u001b[0m\u001b[0mio\u001b[0m \u001b[0;32mas\u001b[0m \u001b[0mpio\u001b[0m\u001b[0;34m\u001b[0m\u001b[0;34m\u001b[0m\u001b[0m\n\u001b[1;32m   3707\u001b[0m \u001b[0;34m\u001b[0m\u001b[0m\n\u001b[0;32m-> 3708\u001b[0;31m         \u001b[0;32mreturn\u001b[0m \u001b[0mpio\u001b[0m\u001b[0;34m.\u001b[0m\u001b[0mwrite_html\u001b[0m\u001b[0;34m(\u001b[0m\u001b[0mself\u001b[0m\u001b[0;34m,\u001b[0m \u001b[0;34m*\u001b[0m\u001b[0margs\u001b[0m\u001b[0;34m,\u001b[0m \u001b[0;34m**\u001b[0m\u001b[0mkwargs\u001b[0m\u001b[0;34m)\u001b[0m\u001b[0;34m\u001b[0m\u001b[0;34m\u001b[0m\u001b[0m\n\u001b[0m\u001b[1;32m   3709\u001b[0m \u001b[0;34m\u001b[0m\u001b[0m\n\u001b[1;32m   3710\u001b[0m     \u001b[0;32mdef\u001b[0m \u001b[0mto_image\u001b[0m\u001b[0;34m(\u001b[0m\u001b[0mself\u001b[0m\u001b[0;34m,\u001b[0m \u001b[0;34m*\u001b[0m\u001b[0margs\u001b[0m\u001b[0;34m,\u001b[0m \u001b[0;34m**\u001b[0m\u001b[0mkwargs\u001b[0m\u001b[0;34m)\u001b[0m\u001b[0;34m:\u001b[0m\u001b[0;34m\u001b[0m\u001b[0;34m\u001b[0m\u001b[0m\n",
      "\u001b[0;32m~/opt/anaconda3/envs/embdi/lib/python3.7/site-packages/plotly/io/_html.py\u001b[0m in \u001b[0;36mwrite_html\u001b[0;34m(fig, file, config, auto_play, include_plotlyjs, include_mathjax, post_script, full_html, animation_opts, validate, default_width, default_height, auto_open, div_id)\u001b[0m\n\u001b[1;32m    534\u001b[0m     \u001b[0;31m# Write HTML string\u001b[0m\u001b[0;34m\u001b[0m\u001b[0;34m\u001b[0m\u001b[0;34m\u001b[0m\u001b[0m\n\u001b[1;32m    535\u001b[0m     \u001b[0;32mif\u001b[0m \u001b[0mpath\u001b[0m \u001b[0;32mis\u001b[0m \u001b[0;32mnot\u001b[0m \u001b[0;32mNone\u001b[0m\u001b[0;34m:\u001b[0m\u001b[0;34m\u001b[0m\u001b[0;34m\u001b[0m\u001b[0m\n\u001b[0;32m--> 536\u001b[0;31m         \u001b[0mpath\u001b[0m\u001b[0;34m.\u001b[0m\u001b[0mwrite_text\u001b[0m\u001b[0;34m(\u001b[0m\u001b[0mhtml_str\u001b[0m\u001b[0;34m)\u001b[0m\u001b[0;34m\u001b[0m\u001b[0;34m\u001b[0m\u001b[0m\n\u001b[0m\u001b[1;32m    537\u001b[0m     \u001b[0;32melse\u001b[0m\u001b[0;34m:\u001b[0m\u001b[0;34m\u001b[0m\u001b[0;34m\u001b[0m\u001b[0m\n\u001b[1;32m    538\u001b[0m         \u001b[0mfile\u001b[0m\u001b[0;34m.\u001b[0m\u001b[0mwrite\u001b[0m\u001b[0;34m(\u001b[0m\u001b[0mhtml_str\u001b[0m\u001b[0;34m)\u001b[0m\u001b[0;34m\u001b[0m\u001b[0;34m\u001b[0m\u001b[0m\n",
      "\u001b[0;32m~/opt/anaconda3/envs/embdi/lib/python3.7/pathlib.py\u001b[0m in \u001b[0;36mwrite_text\u001b[0;34m(self, data, encoding, errors)\u001b[0m\n\u001b[1;32m   1238\u001b[0m             raise TypeError('data must be str, not %s' %\n\u001b[1;32m   1239\u001b[0m                             data.__class__.__name__)\n\u001b[0;32m-> 1240\u001b[0;31m         \u001b[0;32mwith\u001b[0m \u001b[0mself\u001b[0m\u001b[0;34m.\u001b[0m\u001b[0mopen\u001b[0m\u001b[0;34m(\u001b[0m\u001b[0mmode\u001b[0m\u001b[0;34m=\u001b[0m\u001b[0;34m'w'\u001b[0m\u001b[0;34m,\u001b[0m \u001b[0mencoding\u001b[0m\u001b[0;34m=\u001b[0m\u001b[0mencoding\u001b[0m\u001b[0;34m,\u001b[0m \u001b[0merrors\u001b[0m\u001b[0;34m=\u001b[0m\u001b[0merrors\u001b[0m\u001b[0;34m)\u001b[0m \u001b[0;32mas\u001b[0m \u001b[0mf\u001b[0m\u001b[0;34m:\u001b[0m\u001b[0;34m\u001b[0m\u001b[0;34m\u001b[0m\u001b[0m\n\u001b[0m\u001b[1;32m   1241\u001b[0m             \u001b[0;32mreturn\u001b[0m \u001b[0mf\u001b[0m\u001b[0;34m.\u001b[0m\u001b[0mwrite\u001b[0m\u001b[0;34m(\u001b[0m\u001b[0mdata\u001b[0m\u001b[0;34m)\u001b[0m\u001b[0;34m\u001b[0m\u001b[0;34m\u001b[0m\u001b[0m\n\u001b[1;32m   1242\u001b[0m \u001b[0;34m\u001b[0m\u001b[0m\n",
      "\u001b[0;32m~/opt/anaconda3/envs/embdi/lib/python3.7/pathlib.py\u001b[0m in \u001b[0;36mopen\u001b[0;34m(self, mode, buffering, encoding, errors, newline)\u001b[0m\n\u001b[1;32m   1206\u001b[0m             \u001b[0mself\u001b[0m\u001b[0;34m.\u001b[0m\u001b[0m_raise_closed\u001b[0m\u001b[0;34m(\u001b[0m\u001b[0;34m)\u001b[0m\u001b[0;34m\u001b[0m\u001b[0;34m\u001b[0m\u001b[0m\n\u001b[1;32m   1207\u001b[0m         return io.open(self, mode, buffering, encoding, errors, newline,\n\u001b[0;32m-> 1208\u001b[0;31m                        opener=self._opener)\n\u001b[0m\u001b[1;32m   1209\u001b[0m \u001b[0;34m\u001b[0m\u001b[0m\n\u001b[1;32m   1210\u001b[0m     \u001b[0;32mdef\u001b[0m \u001b[0mread_bytes\u001b[0m\u001b[0;34m(\u001b[0m\u001b[0mself\u001b[0m\u001b[0;34m)\u001b[0m\u001b[0;34m:\u001b[0m\u001b[0;34m\u001b[0m\u001b[0;34m\u001b[0m\u001b[0m\n",
      "\u001b[0;32m~/opt/anaconda3/envs/embdi/lib/python3.7/pathlib.py\u001b[0m in \u001b[0;36m_opener\u001b[0;34m(self, name, flags, mode)\u001b[0m\n\u001b[1;32m   1061\u001b[0m     \u001b[0;32mdef\u001b[0m \u001b[0m_opener\u001b[0m\u001b[0;34m(\u001b[0m\u001b[0mself\u001b[0m\u001b[0;34m,\u001b[0m \u001b[0mname\u001b[0m\u001b[0;34m,\u001b[0m \u001b[0mflags\u001b[0m\u001b[0;34m,\u001b[0m \u001b[0mmode\u001b[0m\u001b[0;34m=\u001b[0m\u001b[0;36m0o666\u001b[0m\u001b[0;34m)\u001b[0m\u001b[0;34m:\u001b[0m\u001b[0;34m\u001b[0m\u001b[0;34m\u001b[0m\u001b[0m\n\u001b[1;32m   1062\u001b[0m         \u001b[0;31m# A stub for the opener argument to built-in open()\u001b[0m\u001b[0;34m\u001b[0m\u001b[0;34m\u001b[0m\u001b[0;34m\u001b[0m\u001b[0m\n\u001b[0;32m-> 1063\u001b[0;31m         \u001b[0;32mreturn\u001b[0m \u001b[0mself\u001b[0m\u001b[0;34m.\u001b[0m\u001b[0m_accessor\u001b[0m\u001b[0;34m.\u001b[0m\u001b[0mopen\u001b[0m\u001b[0;34m(\u001b[0m\u001b[0mself\u001b[0m\u001b[0;34m,\u001b[0m \u001b[0mflags\u001b[0m\u001b[0;34m,\u001b[0m \u001b[0mmode\u001b[0m\u001b[0;34m)\u001b[0m\u001b[0;34m\u001b[0m\u001b[0;34m\u001b[0m\u001b[0m\n\u001b[0m\u001b[1;32m   1064\u001b[0m \u001b[0;34m\u001b[0m\u001b[0m\n\u001b[1;32m   1065\u001b[0m     \u001b[0;32mdef\u001b[0m \u001b[0m_raw_open\u001b[0m\u001b[0;34m(\u001b[0m\u001b[0mself\u001b[0m\u001b[0;34m,\u001b[0m \u001b[0mflags\u001b[0m\u001b[0;34m,\u001b[0m \u001b[0mmode\u001b[0m\u001b[0;34m=\u001b[0m\u001b[0;36m0o777\u001b[0m\u001b[0;34m)\u001b[0m\u001b[0;34m:\u001b[0m\u001b[0;34m\u001b[0m\u001b[0;34m\u001b[0m\u001b[0m\n",
      "\u001b[0;31mFileNotFoundError\u001b[0m: [Errno 2] No such file or directory: 'images/pipeline/demo_files/graph.html'"
     ]
    }
   ],
   "source": [
    "r1 = list(g.neighbors('idx__3178')) # from dataset 1\n",
    "r2 = list(g.neighbors('idx__3286')) # from dataset 1\n",
    "r3 = list(g.neighbors('idx__4821')) # from dataset 2\n",
    "\n",
    "cids = ['cid__' + _ for _ in  list(df.columns)]\n",
    "\n",
    "nodes = r1 + r2 + r3 + cids + ['idx__3178', 'idx__3286', 'idx__4821']\n",
    "\n",
    "subg = g.subgraph(nodes)\n",
    "\n",
    "left = ['idx__3178', 'idx__3286', 'idx__4821']\n",
    "right = cids\n",
    "middle = r1 + r2 + r3\n",
    "plot_graph(subg, left, middle, right,'pipeline/demo_files/graph.html', title='<br>Network graph on a snippet of imdb_movielens')\n"
   ]
  },
  {
   "cell_type": "markdown",
   "metadata": {},
   "source": [
    "## Training local embeddings on relational data using EmbDI"
   ]
  },
  {
   "cell_type": "markdown",
   "metadata": {},
   "source": [
    "EmbDI is a system designed to train local embeddings on relational data. To do so, it requires a set of mandatory parameters and optional parameters to be supplied using configuration files with a specific format. \n",
    "\n",
    "An example of such configuration file is shown below: it will be used to train some of the embeddings used in the representation at the end of this notebook. For more info on how to prepare the configuration file, please refer to the configuration section in the readme. "
   ]
  },
  {
   "cell_type": "code",
   "execution_count": 5,
   "metadata": {},
   "outputs": [],
   "source": [
    "raw_config = '''ntop:10\n",
    "ncand:1\n",
    "task:train\n",
    "input_file:pipeline/experiments/imdb_movielens-edges.txt\n",
    "dataset_info:pipeline/info/info-imdb_movielens.txt\n",
    "embeddings_file:pipeline/embeddings/imdb_movielens-demo-500k.embs\n",
    "output_file:imdb_movielens-demo-500k\n",
    "flatten:tt\n",
    "compression:false\n",
    "n_sentences:500000'''\n",
    "\n",
    "# EmbDI is expecting a textual file, so the raw configuration is dumped in a suitable text file to be parsed by the system.\n",
    "with open('pipeline/config_files/imdb_movielens-demo-500k.txt', 'w') as fp:\n",
    "    fp.write(raw_config)"
   ]
  },
  {
   "cell_type": "markdown",
   "metadata": {},
   "source": [
    "Now that the configuration file is ready, the system can be ran and embeddings will be trained on the file imdb_movielens-demo-notebook.embs. The dataset currently under observation is quite large, so the training procedure will take some time. "
   ]
  },
  {
   "cell_type": "code",
   "execution_count": 7,
   "metadata": {},
   "outputs": [
    {
     "name": "stdout",
     "output_type": "stream",
     "text": [
      "################################################################################\n",
      "# File 1 out of 1\n",
      "# Configuration file: imdb_movielens-demo-500k.txt\n",
      "# Starting run................................................ 2020-06-05 11:23:08.893071\n",
      "# Starting graph construction................................. 2020-06-05 11:23:12\n",
      "# Expanding columns ['tt'].\n",
      "Loading edgelist_file.: 100%|██████| 1214420/1214420 [00:20<00:00, 59936.77it/s]\n",
      "Prepare aliased randomizer for each node: 100%|█| 228108/228108 [00:05<00:00, 39\n",
      "\n",
      "# Graph construction complete................................. 2020-06-05 11:23:38\n",
      "# Time required to build graph:............................... 26.086527\n",
      "# Skipping search of overlapping values. \n",
      "# Generating basic random walks............................... 2020-06-05 11:23:38\n",
      "Sentence generation progress: 100%|████| 356436/356436 [27:59<00:00, 212.22it/s]\n",
      "Completing fraction of random walks: 100%|█| 143564/143564 [16:16<00:00, 147.01i\n",
      "# Generation of random walks completed........................ 2020-06-05 12:07:54\n",
      "# Training embeddings......................................... 2020-06-05 12:07:54.560526\n",
      "File: pipeline/embeddings/imdb_movielens-demo-500k.emb\n",
      "# Embeddings generation complete.............................. 2020-06-05 12:18:24\n",
      "# Ending run.................................................. 2020-06-05 12:18:24.530055\n",
      "# Time required: 3315.636984\n"
     ]
    }
   ],
   "source": [
    "! python main.py -f pipeline/config_files/imdb_movielens-demo-500k.txt"
   ]
  },
  {
   "cell_type": "code",
   "execution_count": 8,
   "metadata": {},
   "outputs": [
    {
     "name": "stdout",
     "output_type": "stream",
     "text": [
      "idx__2097 tt__cch idx__2815 tt__tales_from_the_crypt_demon_knight idx__4852 tt__horror idx__14371 tt__en idx__28084 tt__corbin_allred cid__actor_2 tt__saln idx__39503 tt__ulving idx__39503 tt__drowning_ghost cid__title tt__incubus idx__9956 tn__1982 idx__7329 tt__mel_gibson idx__6102 tt__fairytale_a_true_story idx__6102 tt__harvey_keitel idx__8447 tt__kelly_lynch idx__4862 tt__russell idx__44915 tt__r idx__1857 tt__uk idx__1324 tt__howard idx__23083 tt__howard_zieff idx__23083 tt__howard_zieff idx__10355 tt__jamie_lee_curtis idx__5899 tt__kline idx__6085 tt__sigourney_weaver idx__45036 tt__macdougall idx__9413 tt__released idx__26180 tt__released idx__11033 tt__bacon idx__36847 tt__james idx__37020 tt__en idx__9992 tt__gb idx__43190\n",
      "\n"
     ]
    }
   ],
   "source": [
    "walks_file = 'pipeline/walks/imdb_movielens-demo-500k.walks'\n",
    "with open(walks_file) as fp:\n",
    "    walk = fp.readline()\n",
    "    print(walk)"
   ]
  },
  {
   "cell_type": "markdown",
   "metadata": {},
   "source": [
    "## Visual representation of the embeddings"
   ]
  },
  {
   "cell_type": "markdown",
   "metadata": {},
   "source": [
    "To have an idea of how embeddings encode information, it's possible to represent visually the vectors that are generated during the training phase. Normally, the dimensionality of those vectors is very high (100 or 300 dimensions), which makes it harder to notice patters. To circumvent this problem, we reduce the number of dimensions from 300 to 10 and use heatmaps to show the values of the vectors. "
   ]
  },
  {
   "cell_type": "code",
   "execution_count": 65,
   "metadata": {},
   "outputs": [],
   "source": [
    "df = pd.read_csv('pipeline/datasets/imdb_movielens/imdb_movielens-master.csv')"
   ]
  },
  {
   "cell_type": "code",
   "execution_count": 66,
   "metadata": {},
   "outputs": [
    {
     "name": "stdout",
     "output_type": "stream",
     "text": [
      "Written on file pipeline/experiments/imdb_movielens-demo-10.emb.\n"
     ]
    }
   ],
   "source": [
    "embeddings_file = 'pipeline/embeddings/imdb_movielens-demo-500k.emb'\n",
    "reduced_file = 'pipeline/experiments/imdb_movielens-demo-10.emb'\n",
    "\n",
    "apply_PCA(embeddings_file, reduced_file, 10)"
   ]
  },
  {
   "cell_type": "code",
   "execution_count": 67,
   "metadata": {},
   "outputs": [],
   "source": [
    "# Reading the reduced file\n",
    "reduced_file = 'pipeline/experiments/imdb_movielens-demo-10.emb'\n",
    "\n",
    "mat, keys = prepare_emb_matrix(reduced_file)"
   ]
  },
  {
   "cell_type": "markdown",
   "metadata": {},
   "source": [
    "## Applications"
   ]
  },
  {
   "cell_type": "markdown",
   "metadata": {},
   "source": [
    "### Sources"
   ]
  },
  {
   "cell_type": "code",
   "execution_count": 13,
   "metadata": {},
   "outputs": [
    {
     "data": {
      "text/html": [
       "<div>\n",
       "<style scoped>\n",
       "    .dataframe tbody tr th:only-of-type {\n",
       "        vertical-align: middle;\n",
       "    }\n",
       "\n",
       "    .dataframe tbody tr th {\n",
       "        vertical-align: top;\n",
       "    }\n",
       "\n",
       "    .dataframe thead th {\n",
       "        text-align: right;\n",
       "    }\n",
       "</style>\n",
       "<table border=\"1\" class=\"dataframe\">\n",
       "  <thead>\n",
       "    <tr style=\"text-align: right;\">\n",
       "      <th></th>\n",
       "      <th>actor_1</th>\n",
       "      <th>actor_2</th>\n",
       "      <th>actor_3</th>\n",
       "      <th>color</th>\n",
       "      <th>content_rating</th>\n",
       "      <th>director</th>\n",
       "      <th>genres</th>\n",
       "      <th>original_language</th>\n",
       "      <th>production_companies</th>\n",
       "      <th>production_countries</th>\n",
       "      <th>release_date_rounded</th>\n",
       "      <th>status</th>\n",
       "      <th>title</th>\n",
       "      <th>vote_average</th>\n",
       "      <th>year</th>\n",
       "    </tr>\n",
       "  </thead>\n",
       "  <tbody>\n",
       "    <tr>\n",
       "      <th>0</th>\n",
       "      <td>cch_pounder</td>\n",
       "      <td>joel_david_moore</td>\n",
       "      <td>wes_studi</td>\n",
       "      <td>color</td>\n",
       "      <td>pg13</td>\n",
       "      <td>james_cameron</td>\n",
       "      <td>NaN</td>\n",
       "      <td>english</td>\n",
       "      <td>NaN</td>\n",
       "      <td>usa</td>\n",
       "      <td>NaN</td>\n",
       "      <td>NaN</td>\n",
       "      <td>avatar</td>\n",
       "      <td>8.0</td>\n",
       "      <td>2009.0</td>\n",
       "    </tr>\n",
       "    <tr>\n",
       "      <th>19069</th>\n",
       "      <td>sam_worthington</td>\n",
       "      <td>zoe_saldana</td>\n",
       "      <td>sigourney_weaver</td>\n",
       "      <td>NaN</td>\n",
       "      <td>NaN</td>\n",
       "      <td>james_cameron</td>\n",
       "      <td>action</td>\n",
       "      <td>en</td>\n",
       "      <td>ingenious|film|partners</td>\n",
       "      <td>us</td>\n",
       "      <td>200912.0</td>\n",
       "      <td>released</td>\n",
       "      <td>avatar</td>\n",
       "      <td>7.0</td>\n",
       "      <td>2009.0</td>\n",
       "    </tr>\n",
       "  </tbody>\n",
       "</table>\n",
       "</div>"
      ],
      "text/plain": [
       "               actor_1           actor_2           actor_3  color  \\\n",
       "0          cch_pounder  joel_david_moore         wes_studi  color   \n",
       "19069  sam_worthington       zoe_saldana  sigourney_weaver    NaN   \n",
       "\n",
       "      content_rating       director  genres original_language  \\\n",
       "0               pg13  james_cameron     NaN           english   \n",
       "19069            NaN  james_cameron  action                en   \n",
       "\n",
       "          production_companies production_countries  release_date_rounded  \\\n",
       "0                          NaN                  usa                   NaN   \n",
       "19069  ingenious|film|partners                   us              200912.0   \n",
       "\n",
       "         status   title  vote_average    year  \n",
       "0           NaN  avatar           8.0  2009.0  \n",
       "19069  released  avatar           7.0  2009.0  "
      ]
     },
     "execution_count": 13,
     "metadata": {},
     "output_type": "execute_result"
    }
   ],
   "source": [
    "df.loc[df['title'] == 'avatar']"
   ]
  },
  {
   "cell_type": "code",
   "execution_count": 14,
   "metadata": {},
   "outputs": [
    {
     "data": {
      "text/html": [
       "<div>\n",
       "<style scoped>\n",
       "    .dataframe tbody tr th:only-of-type {\n",
       "        vertical-align: middle;\n",
       "    }\n",
       "\n",
       "    .dataframe tbody tr th {\n",
       "        vertical-align: top;\n",
       "    }\n",
       "\n",
       "    .dataframe thead th {\n",
       "        text-align: right;\n",
       "    }\n",
       "</style>\n",
       "<table border=\"1\" class=\"dataframe\">\n",
       "  <thead>\n",
       "    <tr style=\"text-align: right;\">\n",
       "      <th></th>\n",
       "      <th>color</th>\n",
       "      <th>director</th>\n",
       "      <th>actor 2</th>\n",
       "      <th>actor 1</th>\n",
       "      <th>title</th>\n",
       "      <th>actor 3</th>\n",
       "      <th>original language</th>\n",
       "      <th>production countries</th>\n",
       "      <th>content rating</th>\n",
       "      <th>year</th>\n",
       "      <th>vote average</th>\n",
       "    </tr>\n",
       "  </thead>\n",
       "  <tbody>\n",
       "    <tr>\n",
       "      <th>0</th>\n",
       "      <td>color</td>\n",
       "      <td>james cameron</td>\n",
       "      <td>joel david moore</td>\n",
       "      <td>cch pounder</td>\n",
       "      <td>avatar</td>\n",
       "      <td>wes studi</td>\n",
       "      <td>english</td>\n",
       "      <td>usa</td>\n",
       "      <td>pg-13</td>\n",
       "      <td>2009.0</td>\n",
       "      <td>8.0</td>\n",
       "    </tr>\n",
       "    <tr>\n",
       "      <th>1</th>\n",
       "      <td>color</td>\n",
       "      <td>gore verbinski</td>\n",
       "      <td>orlando bloom</td>\n",
       "      <td>johnny depp</td>\n",
       "      <td>pirates of the caribbean: at world's end</td>\n",
       "      <td>jack davenport</td>\n",
       "      <td>english</td>\n",
       "      <td>usa</td>\n",
       "      <td>pg-13</td>\n",
       "      <td>2007.0</td>\n",
       "      <td>7.0</td>\n",
       "    </tr>\n",
       "    <tr>\n",
       "      <th>2</th>\n",
       "      <td>color</td>\n",
       "      <td>sam mendes</td>\n",
       "      <td>rory kinnear</td>\n",
       "      <td>christoph waltz</td>\n",
       "      <td>spectre</td>\n",
       "      <td>stephanie sigman</td>\n",
       "      <td>english</td>\n",
       "      <td>uk</td>\n",
       "      <td>pg-13</td>\n",
       "      <td>2015.0</td>\n",
       "      <td>7.0</td>\n",
       "    </tr>\n",
       "    <tr>\n",
       "      <th>3</th>\n",
       "      <td>color</td>\n",
       "      <td>christopher nolan</td>\n",
       "      <td>christian bale</td>\n",
       "      <td>tom hardy</td>\n",
       "      <td>the dark knight rises</td>\n",
       "      <td>joseph gordon-levitt</td>\n",
       "      <td>english</td>\n",
       "      <td>usa</td>\n",
       "      <td>pg-13</td>\n",
       "      <td>2012.0</td>\n",
       "      <td>8.0</td>\n",
       "    </tr>\n",
       "    <tr>\n",
       "      <th>4</th>\n",
       "      <td>color</td>\n",
       "      <td>andrew stanton</td>\n",
       "      <td>samantha morton</td>\n",
       "      <td>daryl sabara</td>\n",
       "      <td>john carter</td>\n",
       "      <td>polly walker</td>\n",
       "      <td>english</td>\n",
       "      <td>usa</td>\n",
       "      <td>pg-13</td>\n",
       "      <td>2012.0</td>\n",
       "      <td>7.0</td>\n",
       "    </tr>\n",
       "  </tbody>\n",
       "</table>\n",
       "</div>"
      ],
      "text/plain": [
       "   color           director           actor 2          actor 1  \\\n",
       "0  color      james cameron  joel david moore      cch pounder   \n",
       "1  color     gore verbinski     orlando bloom      johnny depp   \n",
       "2  color         sam mendes      rory kinnear  christoph waltz   \n",
       "3  color  christopher nolan    christian bale        tom hardy   \n",
       "4  color     andrew stanton   samantha morton     daryl sabara   \n",
       "\n",
       "                                      title               actor 3  \\\n",
       "0                                    avatar             wes studi   \n",
       "1  pirates of the caribbean: at world's end        jack davenport   \n",
       "2                                   spectre      stephanie sigman   \n",
       "3                     the dark knight rises  joseph gordon-levitt   \n",
       "4                               john carter          polly walker   \n",
       "\n",
       "  original language production countries content rating    year  vote average  \n",
       "0           english                  usa          pg-13  2009.0           8.0  \n",
       "1           english                  usa          pg-13  2007.0           7.0  \n",
       "2           english                   uk          pg-13  2015.0           7.0  \n",
       "3           english                  usa          pg-13  2012.0           8.0  \n",
       "4           english                  usa          pg-13  2012.0           7.0  "
      ]
     },
     "execution_count": 14,
     "metadata": {},
     "output_type": "execute_result"
    }
   ],
   "source": [
    "df1.head()"
   ]
  },
  {
   "cell_type": "code",
   "execution_count": 15,
   "metadata": {},
   "outputs": [
    {
     "data": {
      "text/html": [
       "<div>\n",
       "<style scoped>\n",
       "    .dataframe tbody tr th:only-of-type {\n",
       "        vertical-align: middle;\n",
       "    }\n",
       "\n",
       "    .dataframe tbody tr th {\n",
       "        vertical-align: top;\n",
       "    }\n",
       "\n",
       "    .dataframe thead th {\n",
       "        text-align: right;\n",
       "    }\n",
       "</style>\n",
       "<table border=\"1\" class=\"dataframe\">\n",
       "  <thead>\n",
       "    <tr style=\"text-align: right;\">\n",
       "      <th></th>\n",
       "      <th>genres</th>\n",
       "      <th>original language</th>\n",
       "      <th>production companies</th>\n",
       "      <th>production countries</th>\n",
       "      <th>status</th>\n",
       "      <th>title</th>\n",
       "      <th>vote average</th>\n",
       "      <th>actor 1</th>\n",
       "      <th>actor 2</th>\n",
       "      <th>actor 3</th>\n",
       "      <th>director</th>\n",
       "      <th>release date rounded</th>\n",
       "      <th>year</th>\n",
       "    </tr>\n",
       "  </thead>\n",
       "  <tbody>\n",
       "    <tr>\n",
       "      <th>0</th>\n",
       "      <td>animation</td>\n",
       "      <td>en</td>\n",
       "      <td>pixar animation studios</td>\n",
       "      <td>us</td>\n",
       "      <td>released</td>\n",
       "      <td>toy story</td>\n",
       "      <td>8.0</td>\n",
       "      <td>tom hanks</td>\n",
       "      <td>tim allen</td>\n",
       "      <td>don rickles</td>\n",
       "      <td>john lasseter</td>\n",
       "      <td>1995-10</td>\n",
       "      <td>1995</td>\n",
       "    </tr>\n",
       "    <tr>\n",
       "      <th>1</th>\n",
       "      <td>adventure</td>\n",
       "      <td>en</td>\n",
       "      <td>tristar pictures</td>\n",
       "      <td>us</td>\n",
       "      <td>released</td>\n",
       "      <td>jumanji</td>\n",
       "      <td>7.0</td>\n",
       "      <td>robin williams</td>\n",
       "      <td>jonathan hyde</td>\n",
       "      <td>kirsten dunst</td>\n",
       "      <td>joe johnston</td>\n",
       "      <td>1995-12</td>\n",
       "      <td>1995</td>\n",
       "    </tr>\n",
       "    <tr>\n",
       "      <th>2</th>\n",
       "      <td>romance</td>\n",
       "      <td>en</td>\n",
       "      <td>warner bros.</td>\n",
       "      <td>us</td>\n",
       "      <td>released</td>\n",
       "      <td>grumpier old men</td>\n",
       "      <td>6.0</td>\n",
       "      <td>walter matthau</td>\n",
       "      <td>jack lemmon</td>\n",
       "      <td>ann-margret</td>\n",
       "      <td>howard deutch</td>\n",
       "      <td>1995-12</td>\n",
       "      <td>1995</td>\n",
       "    </tr>\n",
       "    <tr>\n",
       "      <th>3</th>\n",
       "      <td>comedy</td>\n",
       "      <td>en</td>\n",
       "      <td>twentieth century fox film corporation</td>\n",
       "      <td>us</td>\n",
       "      <td>released</td>\n",
       "      <td>waiting to exhale</td>\n",
       "      <td>6.0</td>\n",
       "      <td>whitney houston</td>\n",
       "      <td>angela bassett</td>\n",
       "      <td>loretta devine</td>\n",
       "      <td>forest whitaker</td>\n",
       "      <td>1995-12</td>\n",
       "      <td>1995</td>\n",
       "    </tr>\n",
       "    <tr>\n",
       "      <th>4</th>\n",
       "      <td>comedy</td>\n",
       "      <td>en</td>\n",
       "      <td>sandollar productions</td>\n",
       "      <td>us</td>\n",
       "      <td>released</td>\n",
       "      <td>father of the bride part ii</td>\n",
       "      <td>6.0</td>\n",
       "      <td>steve martin</td>\n",
       "      <td>diane keaton</td>\n",
       "      <td>martin short</td>\n",
       "      <td>charles shyer</td>\n",
       "      <td>1995-02</td>\n",
       "      <td>1995</td>\n",
       "    </tr>\n",
       "  </tbody>\n",
       "</table>\n",
       "</div>"
      ],
      "text/plain": [
       "      genres original language                    production companies  \\\n",
       "0  animation                en                 pixar animation studios   \n",
       "1  adventure                en                        tristar pictures   \n",
       "2    romance                en                            warner bros.   \n",
       "3     comedy                en  twentieth century fox film corporation   \n",
       "4     comedy                en                   sandollar productions   \n",
       "\n",
       "  production countries    status                        title  vote average  \\\n",
       "0                   us  released                    toy story           8.0   \n",
       "1                   us  released                      jumanji           7.0   \n",
       "2                   us  released             grumpier old men           6.0   \n",
       "3                   us  released            waiting to exhale           6.0   \n",
       "4                   us  released  father of the bride part ii           6.0   \n",
       "\n",
       "           actor 1         actor 2         actor 3         director  \\\n",
       "0        tom hanks       tim allen     don rickles    john lasseter   \n",
       "1   robin williams   jonathan hyde   kirsten dunst     joe johnston   \n",
       "2   walter matthau     jack lemmon     ann-margret    howard deutch   \n",
       "3  whitney houston  angela bassett  loretta devine  forest whitaker   \n",
       "4     steve martin    diane keaton    martin short    charles shyer   \n",
       "\n",
       "  release date rounded  year  \n",
       "0              1995-10  1995  \n",
       "1              1995-12  1995  \n",
       "2              1995-12  1995  \n",
       "3              1995-12  1995  \n",
       "4              1995-02  1995  "
      ]
     },
     "execution_count": 15,
     "metadata": {},
     "output_type": "execute_result"
    }
   ],
   "source": [
    "df2.head()"
   ]
  },
  {
   "cell_type": "markdown",
   "metadata": {},
   "source": [
    "## Entity Resolution: find the duplicates"
   ]
  },
  {
   "cell_type": "code",
   "execution_count": 48,
   "metadata": {},
   "outputs": [
    {
     "data": {
      "text/plain": [
       "95       interstellar\n",
       "27368    interstellar\n",
       "Name: title, dtype: object"
      ]
     },
     "execution_count": 48,
     "metadata": {},
     "output_type": "execute_result"
    }
   ],
   "source": [
    "df['title'].dropna().loc[df['title'].dropna().str.contains('interstellar')]"
   ]
  },
  {
   "cell_type": "code",
   "execution_count": 35,
   "metadata": {},
   "outputs": [
    {
     "data": {
      "text/plain": [
       "332                jurassic_park_iii\n",
       "505     the_lost_world_jurassic_park\n",
       "672                    jurassic_park\n",
       "5004                   jurassic_park\n",
       "6000    the_lost_world_jurassic_park\n",
       "9033               jurassic_park_iii\n",
       "Name: title, dtype: object"
      ]
     },
     "execution_count": 35,
     "metadata": {},
     "output_type": "execute_result"
    }
   ],
   "source": [
    "df['title'].dropna().loc[df['title'].dropna().str.contains('jurassic_park')]"
   ]
  },
  {
   "cell_type": "code",
   "execution_count": 54,
   "metadata": {},
   "outputs": [
    {
     "data": {
      "text/plain": [
       "['95 interstellar',\n",
       " '27368 interstellar',\n",
       " '672 jurassic park',\n",
       " '5004 jurassic park']"
      ]
     },
     "execution_count": 54,
     "metadata": {},
     "output_type": "execute_result"
    }
   ],
   "source": [
    "values = ['idx__95', 'idx__27368', 'idx__672', 'idx__5004']\n",
    "idxes = [int(_.replace('idx__', '')) for _ in values]\n",
    "labels = df.loc[idxes]['title'].str.replace('_', ' ')\n",
    "labels = [f'{v[0]} {v[1]}' for v in list(zip(idxes, labels))]\n",
    "labels"
   ]
  },
  {
   "cell_type": "code",
   "execution_count": 52,
   "metadata": {},
   "outputs": [
    {
     "data": {
      "text/html": [
       "<div>\n",
       "<style scoped>\n",
       "    .dataframe tbody tr th:only-of-type {\n",
       "        vertical-align: middle;\n",
       "    }\n",
       "\n",
       "    .dataframe tbody tr th {\n",
       "        vertical-align: top;\n",
       "    }\n",
       "\n",
       "    .dataframe thead th {\n",
       "        text-align: right;\n",
       "    }\n",
       "</style>\n",
       "<table border=\"1\" class=\"dataframe\">\n",
       "  <thead>\n",
       "    <tr style=\"text-align: right;\">\n",
       "      <th></th>\n",
       "      <th>actor_1</th>\n",
       "      <th>actor_2</th>\n",
       "      <th>actor_3</th>\n",
       "      <th>color</th>\n",
       "      <th>content_rating</th>\n",
       "      <th>director</th>\n",
       "      <th>genres</th>\n",
       "      <th>original_language</th>\n",
       "      <th>production_companies</th>\n",
       "      <th>production_countries</th>\n",
       "      <th>release_date_rounded</th>\n",
       "      <th>status</th>\n",
       "      <th>title</th>\n",
       "      <th>vote_average</th>\n",
       "      <th>year</th>\n",
       "    </tr>\n",
       "  </thead>\n",
       "  <tbody>\n",
       "    <tr>\n",
       "      <th>2321</th>\n",
       "      <td>james_franco</td>\n",
       "      <td>treat_williams</td>\n",
       "      <td>kate_burton</td>\n",
       "      <td>color</td>\n",
       "      <td>r</td>\n",
       "      <td>danny_boyle</td>\n",
       "      <td>NaN</td>\n",
       "      <td>english</td>\n",
       "      <td>NaN</td>\n",
       "      <td>usa</td>\n",
       "      <td>NaN</td>\n",
       "      <td>NaN</td>\n",
       "      <td>127_hours</td>\n",
       "      <td>8.0</td>\n",
       "      <td>2010.0</td>\n",
       "    </tr>\n",
       "    <tr>\n",
       "      <th>20572</th>\n",
       "      <td>james_franco</td>\n",
       "      <td>kate_mara</td>\n",
       "      <td>amber_tamblyn</td>\n",
       "      <td>NaN</td>\n",
       "      <td>NaN</td>\n",
       "      <td>danny_boyle</td>\n",
       "      <td>adventure</td>\n",
       "      <td>en</td>\n",
       "      <td>fox|searchlight|pictures</td>\n",
       "      <td>gb</td>\n",
       "      <td>201011.0</td>\n",
       "      <td>released</td>\n",
       "      <td>127_hours</td>\n",
       "      <td>7.0</td>\n",
       "      <td>2010.0</td>\n",
       "    </tr>\n",
       "    <tr>\n",
       "      <th>251</th>\n",
       "      <td>eva_green</td>\n",
       "      <td>sullivan_stapleton</td>\n",
       "      <td>peter_mensah</td>\n",
       "      <td>color</td>\n",
       "      <td>r</td>\n",
       "      <td>noam_murro</td>\n",
       "      <td>NaN</td>\n",
       "      <td>english</td>\n",
       "      <td>NaN</td>\n",
       "      <td>usa</td>\n",
       "      <td>NaN</td>\n",
       "      <td>NaN</td>\n",
       "      <td>300_rise_of_an_empire</td>\n",
       "      <td>6.0</td>\n",
       "      <td>2014.0</td>\n",
       "    </tr>\n",
       "    <tr>\n",
       "      <th>27416</th>\n",
       "      <td>sullivan_stapleton</td>\n",
       "      <td>eva_green</td>\n",
       "      <td>lena_headey</td>\n",
       "      <td>NaN</td>\n",
       "      <td>NaN</td>\n",
       "      <td>noam_murro</td>\n",
       "      <td>action</td>\n",
       "      <td>en</td>\n",
       "      <td>legendary|pictures</td>\n",
       "      <td>us</td>\n",
       "      <td>201403.0</td>\n",
       "      <td>released</td>\n",
       "      <td>300_rise_of_an_empire</td>\n",
       "      <td>6.0</td>\n",
       "      <td>2014.0</td>\n",
       "    </tr>\n",
       "  </tbody>\n",
       "</table>\n",
       "</div>"
      ],
      "text/plain": [
       "                  actor_1             actor_2        actor_3  color  \\\n",
       "2321         james_franco      treat_williams    kate_burton  color   \n",
       "20572        james_franco           kate_mara  amber_tamblyn    NaN   \n",
       "251             eva_green  sullivan_stapleton   peter_mensah  color   \n",
       "27416  sullivan_stapleton           eva_green    lena_headey    NaN   \n",
       "\n",
       "      content_rating     director     genres original_language  \\\n",
       "2321               r  danny_boyle        NaN           english   \n",
       "20572            NaN  danny_boyle  adventure                en   \n",
       "251                r   noam_murro        NaN           english   \n",
       "27416            NaN   noam_murro     action                en   \n",
       "\n",
       "           production_companies production_countries  release_date_rounded  \\\n",
       "2321                        NaN                  usa                   NaN   \n",
       "20572  fox|searchlight|pictures                   gb              201011.0   \n",
       "251                         NaN                  usa                   NaN   \n",
       "27416        legendary|pictures                   us              201403.0   \n",
       "\n",
       "         status                  title  vote_average    year  \n",
       "2321        NaN              127_hours           8.0  2010.0  \n",
       "20572  released              127_hours           7.0  2010.0  \n",
       "251         NaN  300_rise_of_an_empire           6.0  2014.0  \n",
       "27416  released  300_rise_of_an_empire           6.0  2014.0  "
      ]
     },
     "execution_count": 52,
     "metadata": {},
     "output_type": "execute_result"
    }
   ],
   "source": [
    "values = ['idx__2321', 'idx__20572', 'idx__251', 'idx__27416']\n",
    "labels = [int(_.replace('idx__', '')) for _ in values]\n",
    "idxes = [int(_.replace('idx__', '')) for _ in values]\n",
    "df.loc[idxes]"
   ]
  },
  {
   "cell_type": "code",
   "execution_count": 56,
   "metadata": {},
   "outputs": [
    {
     "data": {
      "image/png": "[encoded data removed]",
      "text/plain": [
       "<Figure size 864x288 with 2 Axes>"
      ]
     },
     "metadata": {},
     "output_type": "display_data"
    }
   ],
   "source": [
    "k = []\n",
    "for _ in values:\n",
    "    k.append(keys.index(_))\n",
    "\n",
    "fig = plt.figure(figsize=(12,4))\n",
    "sns.set(font_scale=2)\n",
    "g = sns.heatmap(data=mat[k, :], cmap='RdBu', cbar=True, linewidths=1, square=False)\n",
    "g.set_yticklabels(labels=labels, rotation=0)\n",
    "fig.savefig('entity_resolution.png', bbox_inches='tight')"
   ]
  },
  {
   "cell_type": "code",
   "execution_count": 82,
   "metadata": {},
   "outputs": [
    {
     "data": {
      "image/png": "[encoded data removed]",
      "text/plain": [
       "<Figure size 864x360 with 2 Axes>"
      ]
     },
     "metadata": {},
     "output_type": "display_data"
    }
   ],
   "source": [
    "values = ['tt__jurassic_world', 'tt__fellini_satyricon', 'tt__colin_trevorrow', 'tt__federico_fellini', 'tt__en', 'tt__it']\n",
    "# labels = [_.replace('_', '\\n') if len(_) > 10 else _.replace('_', ' ') for _ in values ]\n",
    "labels = [_.replace('tt__', '').replace('_', '\\n') if len(_) > 10 else _.replace('tt__', '').replace('_', ' ') for _ in values ]\n",
    "k = []\n",
    "for _ in values:\n",
    "    k.append(keys.index(_))\n",
    "\n",
    "fig = plt.figure(figsize=(12,5))\n",
    "sns.set(font_scale=2.)\n",
    "g = sns.heatmap(data=mat[k, :], cmap='RdBu', cbar=True, linewidths=1, square=False)\n",
    "g.set_yticklabels(labels=labels, rotation=0)\n",
    "fig.savefig('heatmap_values.png', bbox_inches='tight')"
   ]
  },
  {
   "cell_type": "code",
   "execution_count": 64,
   "metadata": {},
   "outputs": [
    {
     "ename": "ValueError",
     "evalue": "'tt__jurassic_world' is not in list",
     "output_type": "error",
     "traceback": [
      "\u001b[0;31m---------------------------------------------------------------------------\u001b[0m",
      "\u001b[0;31mValueError\u001b[0m                                Traceback (most recent call last)",
      "\u001b[0;32m<ipython-input-64-ed4603717b97>\u001b[0m in \u001b[0;36m<module>\u001b[0;34m\u001b[0m\n\u001b[1;32m      4\u001b[0m \u001b[0mk\u001b[0m \u001b[0;34m=\u001b[0m \u001b[0;34m[\u001b[0m\u001b[0;34m]\u001b[0m\u001b[0;34m\u001b[0m\u001b[0;34m\u001b[0m\u001b[0m\n\u001b[1;32m      5\u001b[0m \u001b[0;32mfor\u001b[0m \u001b[0m_\u001b[0m \u001b[0;32min\u001b[0m \u001b[0mvalues\u001b[0m\u001b[0;34m:\u001b[0m\u001b[0;34m\u001b[0m\u001b[0;34m\u001b[0m\u001b[0m\n\u001b[0;32m----> 6\u001b[0;31m     \u001b[0mk\u001b[0m\u001b[0;34m.\u001b[0m\u001b[0mappend\u001b[0m\u001b[0;34m(\u001b[0m\u001b[0mkeys\u001b[0m\u001b[0;34m.\u001b[0m\u001b[0mindex\u001b[0m\u001b[0;34m(\u001b[0m\u001b[0m_\u001b[0m\u001b[0;34m)\u001b[0m\u001b[0;34m)\u001b[0m\u001b[0;34m\u001b[0m\u001b[0;34m\u001b[0m\u001b[0m\n\u001b[0m\u001b[1;32m      7\u001b[0m \u001b[0;34m\u001b[0m\u001b[0m\n\u001b[1;32m      8\u001b[0m \u001b[0mfig\u001b[0m \u001b[0;34m=\u001b[0m \u001b[0mplt\u001b[0m\u001b[0;34m.\u001b[0m\u001b[0mfigure\u001b[0m\u001b[0;34m(\u001b[0m\u001b[0mfigsize\u001b[0m\u001b[0;34m=\u001b[0m\u001b[0;34m(\u001b[0m\u001b[0;36m12\u001b[0m\u001b[0;34m,\u001b[0m\u001b[0;36m8\u001b[0m\u001b[0;34m)\u001b[0m\u001b[0;34m)\u001b[0m\u001b[0;34m\u001b[0m\u001b[0;34m\u001b[0m\u001b[0m\n",
      "\u001b[0;31mValueError\u001b[0m: 'tt__jurassic_world' is not in list"
     ]
    }
   ],
   "source": [
    "values = ['tt__jurassic_world', 'tt__fellini_satyricon', 'tt__la_strada', 'tt__amarcord']\n",
    "# labels = [_.replace('_', '\\n') if len(_) > 10 else _.replace('_', ' ') for _ in values ]\n",
    "labels = [_.replace('tt__', '').replace('_', '\\n') if len(_) > 10 else _.replace('tt__', '').replace('_', ' ') for _ in values ]\n",
    "k = []\n",
    "for _ in values:\n",
    "    k.append(keys.index(_))\n",
    "\n",
    "fig = plt.figure(figsize=(12,8))\n",
    "sns.set(font_scale=2.)\n",
    "g = sns.heatmap(data=mat[k, :], cmap='RdBu', cbar=False, linewidths=1, square=False)\n",
    "g.set_yticklabels(labels=labels, rotation=0)\n",
    "fig.savefig('italian_movies_oddoneout2.png', bbox_inches='tight')"
   ]
  },
  {
   "cell_type": "markdown",
   "metadata": {},
   "source": [
    "## Schema Matching: concatenate attributes"
   ]
  },
  {
   "cell_type": "code",
   "execution_count": 58,
   "metadata": {},
   "outputs": [
    {
     "name": "stdout",
     "output_type": "stream",
     "text": [
      "Written on file pipeline/experiments/imdb_movielens-sm-demo-10.emb.\n"
     ]
    }
   ],
   "source": [
    "embeddings_file = 'pipeline/embeddings/imdb_movielens-sm-demo.embs'\n",
    "reduced_file = 'pipeline/experiments/imdb_movielens-sm-demo-10.emb'\n",
    "\n",
    "\n",
    "apply_PCA(embeddings_file, reduced_file, 10)"
   ]
  },
  {
   "cell_type": "code",
   "execution_count": 59,
   "metadata": {},
   "outputs": [
    {
     "name": "stderr",
     "output_type": "stream",
     "text": [
      "/home/spoutnik23/anaconda3/lib/python3.7/site-packages/IPython/core/interactiveshell.py:3147: DtypeWarning:\n",
      "\n",
      "Columns (0,1,2,3,4,5,6,7,8) have mixed types.Specify dtype option on import or set low_memory=False.\n",
      "\n"
     ]
    }
   ],
   "source": [
    "reduced_file = 'pipeline/experiments/imdb_movielens-sm-demo-10.emb'\n",
    "model_file = reduced_file\n",
    "mat, keys = prepare_emb_matrix(reduced_file)\n",
    "\n",
    "df1 = pd.read_csv('pipeline/datasets/imdb_movielens/imdb_movielens-master-sm.csv')"
   ]
  },
  {
   "cell_type": "code",
   "execution_count": 63,
   "metadata": {},
   "outputs": [
    {
     "data": {
      "image/png": "[encoded data removed]",
      "text/plain": [
       "<Figure size 720x288 with 2 Axes>"
      ]
     },
     "metadata": {},
     "output_type": "display_data"
    }
   ],
   "source": [
    "values = ['0_actor_1','1_actor_1', '0_year', '1_year', '0_director', '1_director', '0_title', '1_title']\n",
    "labels = ['0_actor','1_actor', '0_year', '1_year', '0_director', '1_director', '0_title', '1_title']\n",
    "\n",
    "# produce_heatmap(keys, values, mat, path='schema_matching_sns.png', rotation=0, refactor=False, labels=labels)\n",
    "k = []\n",
    "for _ in values:\n",
    "    k.append(keys.index(_))\n",
    "\n",
    "fig = plt.figure(figsize=(10,4))\n",
    "sns.set(font_scale=2)\n",
    "g = sns.heatmap(data=mat[k, :], cmap='RdBu', cbar=True, linewidths=1, square=False)\n",
    "g.set_yticklabels(labels=labels, rotation=0)\n",
    "fig.savefig('schema_matching_sns2.png', bbox_inches='tight')"
   ]
  },
  {
   "cell_type": "markdown",
   "metadata": {},
   "source": [
    "# Projecting the embeddings using T-SNE"
   ]
  },
  {
   "cell_type": "code",
   "execution_count": 41,
   "metadata": {},
   "outputs": [
    {
     "name": "stdout",
     "output_type": "stream",
     "text": [
      "228108 300\n",
      "\n"
     ]
    }
   ],
   "source": [
    "noidx('pipeline/embeddings/imdb_movielens-demo-500k.emb')"
   ]
  },
  {
   "cell_type": "code",
   "execution_count": 137,
   "metadata": {},
   "outputs": [],
   "source": [
    "model_file = 'pipeline/embeddings/imdb_movielens-demo-noidx.embs'\n",
    "model = models.KeyedVectors.load_word2vec_format(model_file, unicode_errors='ignore')"
   ]
  },
  {
   "cell_type": "code",
   "execution_count": 138,
   "metadata": {},
   "outputs": [],
   "source": [
    "tsne_keys = ['quentin_tarantino', 'steven_spielberg', 'saving_private_ryan', 'uma_thurman']"
   ]
  },
  {
   "cell_type": "code",
   "execution_count": 139,
   "metadata": {},
   "outputs": [
    {
     "data": {
      "image/png": "[encoded data removed]",
      "text/plain": [
       "<Figure size 864x864 with 1 Axes>"
      ]
     },
     "metadata": {},
     "output_type": "display_data"
    }
   ],
   "source": [
    "embedding_clusters, word_clusters = produce_clusters(model,keys)\n",
    "embeddings_en_2d = produce_underdimensioned_clusters(embedding_clusters)\n",
    "tsne_plot_similar_words('', tsne_keys, embeddings_en_2d, word_clusters, 0.7,\n",
    "                        'tsne_new2.png')"
   ]
  },
  {
   "cell_type": "code",
   "execution_count": 84,
   "metadata": {},
   "outputs": [],
   "source": [
    "model_file = 'pipeline/embeddings/imdb_movielens-sm-demo.embs'\n",
    "model = models.KeyedVectors.load_word2vec_format(model_file, unicode_errors='ignore')"
   ]
  },
  {
   "cell_type": "code",
   "execution_count": 98,
   "metadata": {},
   "outputs": [
    {
     "data": {
      "image/png": "[encoded data removed]",
      "text/plain": [
       "<Figure size 864x864 with 1 Axes>"
      ]
     },
     "metadata": {},
     "output_type": "display_data"
    }
   ],
   "source": [
    "tsne_keys = ['1_title', '0_title', '1_director', '0_director']\n",
    "\n",
    "embedding_clusters, word_clusters = produce_clusters(model,tsne_keys)\n",
    "embeddings_en_2d = produce_underdimensioned_clusters(embedding_clusters)\n",
    "tsne_plot_similar_words('', tsne_keys, embeddings_en_2d, word_clusters, 0.7,)\n",
    "#                         'tsne_new2.png')"
   ]
  },
  {
   "cell_type": "code",
   "execution_count": 96,
   "metadata": {},
   "outputs": [
    {
     "data": {
      "text/plain": [
       "array([[[ 2004.9666  ,   723.075   ],\n",
       "        [ 1311.6698  ,  1511.7152  ],\n",
       "        [ 2525.598   ,  -196.54204 ],\n",
       "        [ 2495.1196  ,  1735.7915  ],\n",
       "        [  665.5876  ,  2342.7456  ]],\n",
       "\n",
       "       [[-2076.5203  ,  1161.0524  ],\n",
       "        [-2952.1316  ,   415.02362 ],\n",
       "        [-2000.7765  ,    23.585796],\n",
       "        [-2477.914   ,  -525.79346 ],\n",
       "        [-1484.4746  ,  1518.5615  ]],\n",
       "\n",
       "       [[  228.6214  ,  -662.3191  ],\n",
       "        [ 1154.0245  ,  -455.89005 ],\n",
       "        [  346.7951  , -1468.8345  ],\n",
       "        [ 1354.907   , -1480.9727  ],\n",
       "        [  341.60406 ,   117.636795]],\n",
       "\n",
       "       [[ -390.36523 , -1004.207   ],\n",
       "        [ -564.03424 ,   -97.882675],\n",
       "        [ 1354.907   , -1480.9727  ],\n",
       "        [-1174.7281  , -1206.1907  ],\n",
       "        [ -434.83258 , -1999.3188  ]],\n",
       "\n",
       "       [[ -564.03424 ,   -97.882675],\n",
       "        [ 1062.1096  ,   519.4664  ],\n",
       "        [   79.02006 ,   896.6569  ],\n",
       "        [  502.65454 , -2216.67    ],\n",
       "        [ 1154.0245  ,  -455.89005 ]]], dtype=float32)"
      ]
     },
     "execution_count": 96,
     "metadata": {},
     "output_type": "execute_result"
    }
   ],
   "source": [
    "embeddings_en_2d"
   ]
  },
  {
   "cell_type": "code",
   "execution_count": 89,
   "metadata": {},
   "outputs": [
    {
     "data": {
      "text/plain": [
       "{'released': <gensim.models.keyedvectors.Vocab at 0x7fc185a80940>,\n",
       " '1_title': <gensim.models.keyedvectors.Vocab at 0x7fc185a56eb8>,\n",
       " 'en': <gensim.models.keyedvectors.Vocab at 0x7fc185a56978>,\n",
       " '1_actor_3': <gensim.models.keyedvectors.Vocab at 0x7fc185a56860>,\n",
       " '1_actor_2': <gensim.models.keyedvectors.Vocab at 0x7fc185a56c50>,\n",
       " '1_actor_1': <gensim.models.keyedvectors.Vocab at 0x7fc185a56748>,\n",
       " 'us': <gensim.models.keyedvectors.Vocab at 0x7fc181301940>,\n",
       " '1_director': <gensim.models.keyedvectors.Vocab at 0x7fc1813015f8>,\n",
       " '6': <gensim.models.keyedvectors.Vocab at 0x7fc1813019e8>,\n",
       " 'drama': <gensim.models.keyedvectors.Vocab at 0x7fc181301a58>,\n",
       " '7': <gensim.models.keyedvectors.Vocab at 0x7fc1813019b0>,\n",
       " '1_production_companies': <gensim.models.keyedvectors.Vocab at 0x7fc181301978>,\n",
       " 'comedy': <gensim.models.keyedvectors.Vocab at 0x7fc181301a20>,\n",
       " '5': <gensim.models.keyedvectors.Vocab at 0x7fc181301ac8>,\n",
       " '0_title': <gensim.models.keyedvectors.Vocab at 0x7fc181301b38>,\n",
       " '8': <gensim.models.keyedvectors.Vocab at 0x7fc181301b70>,\n",
       " 'action': <gensim.models.keyedvectors.Vocab at 0x7fc181301be0>,\n",
       " 'color': <gensim.models.keyedvectors.Vocab at 0x7fc181301c88>,\n",
       " 'english': <gensim.models.keyedvectors.Vocab at 0x7fc181301c50>,\n",
       " '4': <gensim.models.keyedvectors.Vocab at 0x7fc181301cf8>,\n",
       " 'fr': <gensim.models.keyedvectors.Vocab at 0x7fc181301d68>,\n",
       " 'documentary': <gensim.models.keyedvectors.Vocab at 0x7fc181301da0>,\n",
       " 'usa': <gensim.models.keyedvectors.Vocab at 0x7fc181301e10>,\n",
       " '0_actor_3': <gensim.models.keyedvectors.Vocab at 0x7fc181301e48>,\n",
       " 'gb': <gensim.models.keyedvectors.Vocab at 0x7fc181301eb8>,\n",
       " '0': <gensim.models.keyedvectors.Vocab at 0x7fc181301ef0>,\n",
       " '0_actor_2': <gensim.models.keyedvectors.Vocab at 0x7fc181301f60>,\n",
       " 'horror': <gensim.models.keyedvectors.Vocab at 0x7fc181301f28>,\n",
       " '2014': <gensim.models.keyedvectors.Vocab at 0x7fc18133b048>,\n",
       " '0_director': <gensim.models.keyedvectors.Vocab at 0x7fc18133b080>,\n",
       " '2013': <gensim.models.keyedvectors.Vocab at 0x7fc18133b0f0>,\n",
       " '2015': <gensim.models.keyedvectors.Vocab at 0x7fc18133b160>,\n",
       " 'r': <gensim.models.keyedvectors.Vocab at 0x7fc18133b198>,\n",
       " 'it': <gensim.models.keyedvectors.Vocab at 0x7fc18133b208>,\n",
       " '2012': <gensim.models.keyedvectors.Vocab at 0x7fc18133b278>,\n",
       " '2011': <gensim.models.keyedvectors.Vocab at 0x7fc18133b320>,\n",
       " '0_actor_1': <gensim.models.keyedvectors.Vocab at 0x7fc18133b2e8>,\n",
       " '2009': <gensim.models.keyedvectors.Vocab at 0x7fc18133b390>,\n",
       " 'de': <gensim.models.keyedvectors.Vocab at 0x7fc18133b400>,\n",
       " '2010': <gensim.models.keyedvectors.Vocab at 0x7fc18133b470>,\n",
       " '2016': <gensim.models.keyedvectors.Vocab at 0x7fc18133b4e0>,\n",
       " '2008': <gensim.models.keyedvectors.Vocab at 0x7fc18133b550>,\n",
       " 'crime': <gensim.models.keyedvectors.Vocab at 0x7fc18133b5c0>,\n",
       " 'thriller': <gensim.models.keyedvectors.Vocab at 0x7fc18133b5f8>,\n",
       " 'ca': <gensim.models.keyedvectors.Vocab at 0x7fc18133b6a0>,\n",
       " '2007': <gensim.models.keyedvectors.Vocab at 0x7fc18133b668>,\n",
       " 'adventure': <gensim.models.keyedvectors.Vocab at 0x7fc18133b710>,\n",
       " 'jp': <gensim.models.keyedvectors.Vocab at 0x7fc18133b780>,\n",
       " '2006': <gensim.models.keyedvectors.Vocab at 0x7fc18133b828>,\n",
       " 'pg13': <gensim.models.keyedvectors.Vocab at 0x7fc18133b7f0>,\n",
       " 'ja': <gensim.models.keyedvectors.Vocab at 0x7fc18133b8d0>,\n",
       " '1_release_date_rounded': <gensim.models.keyedvectors.Vocab at 0x7fc18133b940>,\n",
       " '2005': <gensim.models.keyedvectors.Vocab at 0x7fc18133b908>,\n",
       " 'es': <gensim.models.keyedvectors.Vocab at 0x7fc18133b9e8>,\n",
       " 'romance': <gensim.models.keyedvectors.Vocab at 0x7fc18133ba58>,\n",
       " '2004': <gensim.models.keyedvectors.Vocab at 0x7fc18133bac8>,\n",
       " 'animation': <gensim.models.keyedvectors.Vocab at 0x7fc18133bb00>,\n",
       " '2002': <gensim.models.keyedvectors.Vocab at 0x7fc18133bb70>,\n",
       " '2003': <gensim.models.keyedvectors.Vocab at 0x7fc18133bbe0>,\n",
       " '2001': <gensim.models.keyedvectors.Vocab at 0x7fc18133bc50>,\n",
       " 'paramount_pictures': <gensim.models.keyedvectors.Vocab at 0x7fc18133bcc0>,\n",
       " 'ru': <gensim.models.keyedvectors.Vocab at 0x7fc18133bc88>,\n",
       " '2000': <gensim.models.keyedvectors.Vocab at 0x7fc18133bd30>,\n",
       " '1999': <gensim.models.keyedvectors.Vocab at 0x7fc18133bdd8>,\n",
       " '3': <gensim.models.keyedvectors.Vocab at 0x7fc18133be10>,\n",
       " 'metrogoldwynmayer_mgm': <gensim.models.keyedvectors.Vocab at 0x7fc18133be48>,\n",
       " '1998': <gensim.models.keyedvectors.Vocab at 0x7fc18133beb8>,\n",
       " 'in': <gensim.models.keyedvectors.Vocab at 0x7fc18133bf28>,\n",
       " '1997': <gensim.models.keyedvectors.Vocab at 0x7fc18133bf98>,\n",
       " 'twentieth_century_fox_film_corporation': <gensim.models.keyedvectors.Vocab at 0x7fc18133bfd0>,\n",
       " 'warner_bros': <gensim.models.keyedvectors.Vocab at 0x7fc1812be048>,\n",
       " 'universal_pictures': <gensim.models.keyedvectors.Vocab at 0x7fc1812be080>,\n",
       " '1996': <gensim.models.keyedvectors.Vocab at 0x7fc1812be0f0>,\n",
       " 'fantasy': <gensim.models.keyedvectors.Vocab at 0x7fc1812be160>,\n",
       " 'pg': <gensim.models.keyedvectors.Vocab at 0x7fc1812be208>,\n",
       " '1995': <gensim.models.keyedvectors.Vocab at 0x7fc1812be1d0>,\n",
       " 'science_fiction': <gensim.models.keyedvectors.Vocab at 0x7fc1812be278>,\n",
       " '1994': <gensim.models.keyedvectors.Vocab at 0x7fc1812be2e8>,\n",
       " 'cn': <gensim.models.keyedvectors.Vocab at 0x7fc1812be358>,\n",
       " 'mystery': <gensim.models.keyedvectors.Vocab at 0x7fc1812be400>,\n",
       " '1993': <gensim.models.keyedvectors.Vocab at 0x7fc1812be3c8>,\n",
       " '2017': <gensim.models.keyedvectors.Vocab at 0x7fc1812be4a8>,\n",
       " 'family': <gensim.models.keyedvectors.Vocab at 0x7fc1812be518>,\n",
       " 'hi': <gensim.models.keyedvectors.Vocab at 0x7fc1812be588>,\n",
       " 'au': <gensim.models.keyedvectors.Vocab at 0x7fc1812be630>,\n",
       " '1987': <gensim.models.keyedvectors.Vocab at 0x7fc1812be5f8>,\n",
       " '1988': <gensim.models.keyedvectors.Vocab at 0x7fc1812be710>,\n",
       " 'music': <gensim.models.keyedvectors.Vocab at 0x7fc1812be6d8>,\n",
       " '1992': <gensim.models.keyedvectors.Vocab at 0x7fc1812be7f0>,\n",
       " '1989': <gensim.models.keyedvectors.Vocab at 0x7fc1812be7b8>,\n",
       " 'hk': <gensim.models.keyedvectors.Vocab at 0x7fc1812be898>,\n",
       " 'kr': <gensim.models.keyedvectors.Vocab at 0x7fc1812be908>,\n",
       " '1991': <gensim.models.keyedvectors.Vocab at 0x7fc1812be978>,\n",
       " '1990': <gensim.models.keyedvectors.Vocab at 0x7fc1812be9e8>,\n",
       " 'western': <gensim.models.keyedvectors.Vocab at 0x7fc1812bea58>,\n",
       " 'ko': <gensim.models.keyedvectors.Vocab at 0x7fc1812beb00>,\n",
       " '2': <gensim.models.keyedvectors.Vocab at 0x7fc1812beac8>,\n",
       " 'columbia_pictures': <gensim.models.keyedvectors.Vocab at 0x7fc1812beb38>,\n",
       " '1986': <gensim.models.keyedvectors.Vocab at 0x7fc1812beba8>,\n",
       " 'uk': <gensim.models.keyedvectors.Vocab at 0x7fc1812bec18>,\n",
       " 'zh': <gensim.models.keyedvectors.Vocab at 0x7fc1812bec88>,\n",
       " 'fi': <gensim.models.keyedvectors.Vocab at 0x7fc1812becf8>,\n",
       " 'columbia_pictures_corporation': <gensim.models.keyedvectors.Vocab at 0x7fc1812bed30>,\n",
       " 'se': <gensim.models.keyedvectors.Vocab at 0x7fc1812beda0>,\n",
       " '1982': <gensim.models.keyedvectors.Vocab at 0x7fc1812bee10>,\n",
       " '1985': <gensim.models.keyedvectors.Vocab at 0x7fc1812bee80>,\n",
       " '1981': <gensim.models.keyedvectors.Vocab at 0x7fc1812bef28>,\n",
       " '1984': <gensim.models.keyedvectors.Vocab at 0x7fc1812beef0>,\n",
       " '1972': <gensim.models.keyedvectors.Vocab at 0x7fc1812befd0>,\n",
       " 'sv': <gensim.models.keyedvectors.Vocab at 0x7fc1812bf080>,\n",
       " '1971': <gensim.models.keyedvectors.Vocab at 0x7fc1812bf0f0>,\n",
       " 'tv_movie': <gensim.models.keyedvectors.Vocab at 0x7fc1812bf128>,\n",
       " 'war': <gensim.models.keyedvectors.Vocab at 0x7fc1812bf1d0>,\n",
       " '1980': <gensim.models.keyedvectors.Vocab at 0x7fc1812bf198>,\n",
       " '1983': <gensim.models.keyedvectors.Vocab at 0x7fc1812bf240>,\n",
       " '1973': <gensim.models.keyedvectors.Vocab at 0x7fc1812bf2b0>,\n",
       " '1970': <gensim.models.keyedvectors.Vocab at 0x7fc1812bf320>,\n",
       " '1974': <gensim.models.keyedvectors.Vocab at 0x7fc1812bf390>,\n",
       " '1979': <gensim.models.keyedvectors.Vocab at 0x7fc1812bf400>,\n",
       " '1977': <gensim.models.keyedvectors.Vocab at 0x7fc1812bf4a8>,\n",
       " '1968': <gensim.models.keyedvectors.Vocab at 0x7fc1812bf518>,\n",
       " 'pt': <gensim.models.keyedvectors.Vocab at 0x7fc1812bf5c0>,\n",
       " '1976': <gensim.models.keyedvectors.Vocab at 0x7fc1812bf588>,\n",
       " 'nl': <gensim.models.keyedvectors.Vocab at 0x7fc1812bf668>,\n",
       " '1975': <gensim.models.keyedvectors.Vocab at 0x7fc1812bf6d8>,\n",
       " '1978': <gensim.models.keyedvectors.Vocab at 0x7fc1812bf780>,\n",
       " '9': <gensim.models.keyedvectors.Vocab at 0x7fc1812bf748>,\n",
       " '1969': <gensim.models.keyedvectors.Vocab at 0x7fc1812bf7f0>,\n",
       " '1966': <gensim.models.keyedvectors.Vocab at 0x7fc1812bf860>,\n",
       " 'be': <gensim.models.keyedvectors.Vocab at 0x7fc1812bf940>,\n",
       " 'dk': <gensim.models.keyedvectors.Vocab at 0x7fc1812bf8d0>,\n",
       " '1967': <gensim.models.keyedvectors.Vocab at 0x7fc1812bfa20>,\n",
       " 'rko_radio_pictures': <gensim.models.keyedvectors.Vocab at 0x7fc1812bf9b0>,\n",
       " 'pl': <gensim.models.keyedvectors.Vocab at 0x7fc1812bfa58>,\n",
       " 'history': <gensim.models.keyedvectors.Vocab at 0x7fc1812bfac8>,\n",
       " 'united_artists': <gensim.models.keyedvectors.Vocab at 0x7fc1812bfb38>,\n",
       " 'br': <gensim.models.keyedvectors.Vocab at 0x7fc1812bfb00>,\n",
       " '1964': <gensim.models.keyedvectors.Vocab at 0x7fc1812bfba8>,\n",
       " 'walt_disney_pictures': <gensim.models.keyedvectors.Vocab at 0x7fc1812bfc18>,\n",
       " 'new_line_cinema': <gensim.models.keyedvectors.Vocab at 0x7fc1812bfc50>,\n",
       " '1965': <gensim.models.keyedvectors.Vocab at 0x7fc1812bfcc0>,\n",
       " 'ar': <gensim.models.keyedvectors.Vocab at 0x7fc1812bfd68>,\n",
       " '201109': <gensim.models.keyedvectors.Vocab at 0x7fc1812bfd30>,\n",
       " '1957': <gensim.models.keyedvectors.Vocab at 0x7fc1812bfe10>,\n",
       " '201410': <gensim.models.keyedvectors.Vocab at 0x7fc1812bfe80>,\n",
       " '201409': <gensim.models.keyedvectors.Vocab at 0x7fc1812bfef0>,\n",
       " '200801': <gensim.models.keyedvectors.Vocab at 0x7fc1812bff60>,\n",
       " '1963': <gensim.models.keyedvectors.Vocab at 0x7fc1812bffd0>,\n",
       " 'mx': <gensim.models.keyedvectors.Vocab at 0x7fc1812c3080>,\n",
       " '201209': <gensim.models.keyedvectors.Vocab at 0x7fc1812c30f0>,\n",
       " '201310': <gensim.models.keyedvectors.Vocab at 0x7fc1812c3160>,\n",
       " '1962': <gensim.models.keyedvectors.Vocab at 0x7fc1812c31d0>,\n",
       " '200901': <gensim.models.keyedvectors.Vocab at 0x7fc1812c3278>,\n",
       " '201309': <gensim.models.keyedvectors.Vocab at 0x7fc1812c3240>,\n",
       " '1959': <gensim.models.keyedvectors.Vocab at 0x7fc1812c3358>,\n",
       " 'rumored': <gensim.models.keyedvectors.Vocab at 0x7fc1812c3320>,\n",
       " '201510': <gensim.models.keyedvectors.Vocab at 0x7fc1812c3400>,\n",
       " 'da': <gensim.models.keyedvectors.Vocab at 0x7fc1812c3470>,\n",
       " '1958': <gensim.models.keyedvectors.Vocab at 0x7fc1812c3518>,\n",
       " '1960': <gensim.models.keyedvectors.Vocab at 0x7fc1812c34e0>,\n",
       " '1956': <gensim.models.keyedvectors.Vocab at 0x7fc1812c35c0>,\n",
       " '1955': <gensim.models.keyedvectors.Vocab at 0x7fc1812c3668>,\n",
       " '1961': <gensim.models.keyedvectors.Vocab at 0x7fc1812c3630>,\n",
       " '10': <gensim.models.keyedvectors.Vocab at 0x7fc1812c3710>,\n",
       " '201404': <gensim.models.keyedvectors.Vocab at 0x7fc1812c3780>,\n",
       " '200701': <gensim.models.keyedvectors.Vocab at 0x7fc1812c3828>,\n",
       " '1953': <gensim.models.keyedvectors.Vocab at 0x7fc1812c37f0>,\n",
       " '1952': <gensim.models.keyedvectors.Vocab at 0x7fc1812c38d0>,\n",
       " '1951': <gensim.models.keyedvectors.Vocab at 0x7fc1812c3940>,\n",
       " '201509': <gensim.models.keyedvectors.Vocab at 0x7fc1812c39b0>,\n",
       " '201010': <gensim.models.keyedvectors.Vocab at 0x7fc1812c3a20>,\n",
       " '201210': <gensim.models.keyedvectors.Vocab at 0x7fc1812c3a90>,\n",
       " '1954': <gensim.models.keyedvectors.Vocab at 0x7fc1812c3b38>,\n",
       " '200909': <gensim.models.keyedvectors.Vocab at 0x7fc1812c3b00>,\n",
       " '201110': <gensim.models.keyedvectors.Vocab at 0x7fc1812c3be0>,\n",
       " '200501': <gensim.models.keyedvectors.Vocab at 0x7fc1812c3c88>,\n",
       " 'black_and_white': <gensim.models.keyedvectors.Vocab at 0x7fc1812c3c50>,\n",
       " '1950': <gensim.models.keyedvectors.Vocab at 0x7fc1812c3d30>,\n",
       " '200910': <gensim.models.keyedvectors.Vocab at 0x7fc1812c3cf8>,\n",
       " 'tr': <gensim.models.keyedvectors.Vocab at 0x7fc1812c3da0>,\n",
       " 'mosfilm': <gensim.models.keyedvectors.Vocab at 0x7fc1812c3e10>,\n",
       " '1949': <gensim.models.keyedvectors.Vocab at 0x7fc1812c3eb8>,\n",
       " '201408': <gensim.models.keyedvectors.Vocab at 0x7fc1812c3f28>,\n",
       " '201001': <gensim.models.keyedvectors.Vocab at 0x7fc1812c3f98>,\n",
       " '201009': <gensim.models.keyedvectors.Vocab at 0x7fc1812c6048>,\n",
       " '201111': <gensim.models.keyedvectors.Vocab at 0x7fc1812c60f0>,\n",
       " '201501': <gensim.models.keyedvectors.Vocab at 0x7fc1812c60b8>,\n",
       " '201610': <gensim.models.keyedvectors.Vocab at 0x7fc1812c6198>,\n",
       " '201609': <gensim.models.keyedvectors.Vocab at 0x7fc1812c6208>,\n",
       " 'miramax_films': <gensim.models.keyedvectors.Vocab at 0x7fc1812c6240>,\n",
       " '200601': <gensim.models.keyedvectors.Vocab at 0x7fc1812c62e8>,\n",
       " '201504': <gensim.models.keyedvectors.Vocab at 0x7fc1812c62b0>,\n",
       " '200401': <gensim.models.keyedvectors.Vocab at 0x7fc1812c6390>,\n",
       " '200810': <gensim.models.keyedvectors.Vocab at 0x7fc1812c6438>,\n",
       " '201211': <gensim.models.keyedvectors.Vocab at 0x7fc1812c6400>,\n",
       " '201311': <gensim.models.keyedvectors.Vocab at 0x7fc1812c64a8>,\n",
       " '201403': <gensim.models.keyedvectors.Vocab at 0x7fc1812c65c0>,\n",
       " '201604': <gensim.models.keyedvectors.Vocab at 0x7fc1812c6550>,\n",
       " '201304': <gensim.models.keyedvectors.Vocab at 0x7fc1812c6630>,\n",
       " '200709': <gensim.models.keyedvectors.Vocab at 0x7fc1812c66d8>,\n",
       " '200809': <gensim.models.keyedvectors.Vocab at 0x7fc1812c66a0>,\n",
       " 'cz': <gensim.models.keyedvectors.Vocab at 0x7fc1812c6780>,\n",
       " '200201': <gensim.models.keyedvectors.Vocab at 0x7fc1812c67f0>,\n",
       " '201203': <gensim.models.keyedvectors.Vocab at 0x7fc1812c6860>,\n",
       " '201301': <gensim.models.keyedvectors.Vocab at 0x7fc1812c68d0>,\n",
       " '1948': <gensim.models.keyedvectors.Vocab at 0x7fc1812c6940>,\n",
       " '200609': <gensim.models.keyedvectors.Vocab at 0x7fc1812c69e8>,\n",
       " 'tristar_pictures': <gensim.models.keyedvectors.Vocab at 0x7fc1812c69b0>,\n",
       " '200101': <gensim.models.keyedvectors.Vocab at 0x7fc1812c6a20>,\n",
       " '201401': <gensim.models.keyedvectors.Vocab at 0x7fc1812c6a90>,\n",
       " '201101': <gensim.models.keyedvectors.Vocab at 0x7fc1812c6b70>,\n",
       " '201303': <gensim.models.keyedvectors.Vocab at 0x7fc1812c6b38>,\n",
       " '201508': <gensim.models.keyedvectors.Vocab at 0x7fc1812c6c18>,\n",
       " '201511': <gensim.models.keyedvectors.Vocab at 0x7fc1812c6c88>,\n",
       " '1947': <gensim.models.keyedvectors.Vocab at 0x7fc1812c6d30>,\n",
       " '201503': <gensim.models.keyedvectors.Vocab at 0x7fc1812c6cf8>,\n",
       " '1940': <gensim.models.keyedvectors.Vocab at 0x7fc1812c6dd8>,\n",
       " '1937': <gensim.models.keyedvectors.Vocab at 0x7fc1812c6e48>,\n",
       " '1936': <gensim.models.keyedvectors.Vocab at 0x7fc1812c6eb8>,\n",
       " '1941': <gensim.models.keyedvectors.Vocab at 0x7fc1812c6f28>,\n",
       " 'at': <gensim.models.keyedvectors.Vocab at 0x7fc1812c6f98>,\n",
       " '201506': <gensim.models.keyedvectors.Vocab at 0x7fc1812c9048>,\n",
       " '1945': <gensim.models.keyedvectors.Vocab at 0x7fc1812c90b8>,\n",
       " '1933': <gensim.models.keyedvectors.Vocab at 0x7fc1812c9128>,\n",
       " 'no': <gensim.models.keyedvectors.Vocab at 0x7fc1812c9198>,\n",
       " '201208': <gensim.models.keyedvectors.Vocab at 0x7fc1812c9208>,\n",
       " '201411': <gensim.models.keyedvectors.Vocab at 0x7fc1812c9278>,\n",
       " '1942': <gensim.models.keyedvectors.Vocab at 0x7fc1812c9320>,\n",
       " '1944': <gensim.models.keyedvectors.Vocab at 0x7fc1812c92e8>,\n",
       " '1935': <gensim.models.keyedvectors.Vocab at 0x7fc1812c9390>,\n",
       " '201308': <gensim.models.keyedvectors.Vocab at 0x7fc1812c9470>,\n",
       " '1943': <gensim.models.keyedvectors.Vocab at 0x7fc1812c9438>,\n",
       " '201601': <gensim.models.keyedvectors.Vocab at 0x7fc1812c94e0>,\n",
       " '200509': <gensim.models.keyedvectors.Vocab at 0x7fc1812c9588>,\n",
       " '201502': <gensim.models.keyedvectors.Vocab at 0x7fc1812c95f8>,\n",
       " '201603': <gensim.models.keyedvectors.Vocab at 0x7fc1812c96a0>,\n",
       " '201201': <gensim.models.keyedvectors.Vocab at 0x7fc1812c9668>,\n",
       " '1934': <gensim.models.keyedvectors.Vocab at 0x7fc1812c9748>,\n",
       " '1_production_countries': <gensim.models.keyedvectors.Vocab at 0x7fc1812c9780>,\n",
       " '201405': <gensim.models.keyedvectors.Vocab at 0x7fc1812c97f0>,\n",
       " '200301': <gensim.models.keyedvectors.Vocab at 0x7fc1812c9860>,\n",
       " '200911': <gensim.models.keyedvectors.Vocab at 0x7fc1812c98d0>,\n",
       " 'hu': <gensim.models.keyedvectors.Vocab at 0x7fc1812c9940>,\n",
       " 'robert_de_niro': <gensim.models.keyedvectors.Vocab at 0x7fc1812c9978>,\n",
       " '201104': <gensim.models.keyedvectors.Vocab at 0x7fc1812c99e8>,\n",
       " '201505': <gensim.models.keyedvectors.Vocab at 0x7fc1812c9a58>,\n",
       " '200610': <gensim.models.keyedvectors.Vocab at 0x7fc1812c9ac8>,\n",
       " '1939': <gensim.models.keyedvectors.Vocab at 0x7fc1812c9b38>,\n",
       " '201402': <gensim.models.keyedvectors.Vocab at 0x7fc185a56828>,\n",
       " '1932': <gensim.models.keyedvectors.Vocab at 0x7fc185a56278>,\n",
       " '201602': <gensim.models.keyedvectors.Vocab at 0x7fc182b30ac8>,\n",
       " 'ie': <gensim.models.keyedvectors.Vocab at 0x7fc180e83668>,\n",
       " '201406': <gensim.models.keyedvectors.Vocab at 0x7fc1812c9ba8>,\n",
       " '201103': <gensim.models.keyedvectors.Vocab at 0x7fc1812c9c18>,\n",
       " '1_year': <gensim.models.keyedvectors.Vocab at 0x7fc1812c9cc0>,\n",
       " 'gr': <gensim.models.keyedvectors.Vocab at 0x7fc1812c9c88>,\n",
       " '201312': <gensim.models.keyedvectors.Vocab at 0x7fc1812c9d68>,\n",
       " '1946': <gensim.models.keyedvectors.Vocab at 0x7fc1812c9e10>,\n",
       " 'cs': <gensim.models.keyedvectors.Vocab at 0x7fc1812c9dd8>,\n",
       " '201306': <gensim.models.keyedvectors.Vocab at 0x7fc1812c9eb8>,\n",
       " '200904': <gensim.models.keyedvectors.Vocab at 0x7fc1812c9f28>,\n",
       " '201611': <gensim.models.keyedvectors.Vocab at 0x7fc1812c9fd0>,\n",
       " '1': <gensim.models.keyedvectors.Vocab at 0x7fc1812c9f98>,\n",
       " '1938': <gensim.models.keyedvectors.Vocab at 0x7fc185937048>,\n",
       " 'france': <gensim.models.keyedvectors.Vocab at 0x7fc185937128>,\n",
       " '201005': <gensim.models.keyedvectors.Vocab at 0x7fc1859370f0>,\n",
       " '201507': <gensim.models.keyedvectors.Vocab at 0x7fc185937208>,\n",
       " 'toho_company': <gensim.models.keyedvectors.Vocab at 0x7fc1859371d0>,\n",
       " '200409': <gensim.models.keyedvectors.Vocab at 0x7fc185937278>,\n",
       " '200808': <gensim.models.keyedvectors.Vocab at 0x7fc1859372e8>,\n",
       " '199801': <gensim.models.keyedvectors.Vocab at 0x7fc185937358>,\n",
       " '201206': <gensim.models.keyedvectors.Vocab at 0x7fc185937400>,\n",
       " '201302': <gensim.models.keyedvectors.Vocab at 0x7fc1859373c8>,\n",
       " '200710': <gensim.models.keyedvectors.Vocab at 0x7fc1859374e0>,\n",
       " '200902': <gensim.models.keyedvectors.Vocab at 0x7fc1859374a8>,\n",
       " '201205': <gensim.models.keyedvectors.Vocab at 0x7fc185937588>,\n",
       " '201307': <gensim.models.keyedvectors.Vocab at 0x7fc1859375f8>,\n",
       " 'gaumont': <gensim.models.keyedvectors.Vocab at 0x7fc185937668>,\n",
       " '201204': <gensim.models.keyedvectors.Vocab at 0x7fc185937710>,\n",
       " '201011': <gensim.models.keyedvectors.Vocab at 0x7fc1859376d8>,\n",
       " '201305': <gensim.models.keyedvectors.Vocab at 0x7fc1859377f0>,\n",
       " '201412': <gensim.models.keyedvectors.Vocab at 0x7fc1859377b8>,\n",
       " '200001': <gensim.models.keyedvectors.Vocab at 0x7fc185937898>,\n",
       " 'foreign': <gensim.models.keyedvectors.Vocab at 0x7fc185937908>,\n",
       " '201112': <gensim.models.keyedvectors.Vocab at 0x7fc185937978>,\n",
       " '201006': <gensim.models.keyedvectors.Vocab at 0x7fc1859379e8>,\n",
       " '201608': <gensim.models.keyedvectors.Vocab at 0x7fc185937a90>,\n",
       " '201512': <gensim.models.keyedvectors.Vocab at 0x7fc185937a58>,\n",
       " '201605': <gensim.models.keyedvectors.Vocab at 0x7fc185937b38>,\n",
       " 'el': <gensim.models.keyedvectors.Vocab at 0x7fc185937ba8>,\n",
       " '201606': <gensim.models.keyedvectors.Vocab at 0x7fc185937c18>,\n",
       " '200903': <gensim.models.keyedvectors.Vocab at 0x7fc185937c88>,\n",
       " '201212': <gensim.models.keyedvectors.Vocab at 0x7fc185937cf8>,\n",
       " '201407': <gensim.models.keyedvectors.Vocab at 0x7fc185937da0>,\n",
       " '200811': <gensim.models.keyedvectors.Vocab at 0x7fc185937d68>,\n",
       " '200603': <gensim.models.keyedvectors.Vocab at 0x7fc185937e80>,\n",
       " 'g': <gensim.models.keyedvectors.Vocab at 0x7fc185937e48>,\n",
       " '200802': <gensim.models.keyedvectors.Vocab at 0x7fc185937f60>,\n",
       " '200908': <gensim.models.keyedvectors.Vocab at 0x7fc185937ef0>,\n",
       " '200812': <gensim.models.keyedvectors.Vocab at 0x7fc185937fd0>,\n",
       " '201102': <gensim.models.keyedvectors.Vocab at 0x7fc1812cb080>,\n",
       " 'bbc_films': <gensim.models.keyedvectors.Vocab at 0x7fc1812cb0b8>,\n",
       " '199901': <gensim.models.keyedvectors.Vocab at 0x7fc1812cb160>,\n",
       " 'orion_pictures': <gensim.models.keyedvectors.Vocab at 0x7fc1812cb128>,\n",
       " 'john_wayne': <gensim.models.keyedvectors.Vocab at 0x7fc1812cb198>,\n",
       " 'nicolas_cage': <gensim.models.keyedvectors.Vocab at 0x7fc1812cb1d0>,\n",
       " '201106': <gensim.models.keyedvectors.Vocab at 0x7fc1812cb240>,\n",
       " '200109': <gensim.models.keyedvectors.Vocab at 0x7fc1812cb2b0>,\n",
       " '199701': <gensim.models.keyedvectors.Vocab at 0x7fc1812cb320>,\n",
       " '201607': <gensim.models.keyedvectors.Vocab at 0x7fc1812cb3c8>,\n",
       " 'canada': <gensim.models.keyedvectors.Vocab at 0x7fc1812cb390>,\n",
       " 'not_rated': <gensim.models.keyedvectors.Vocab at 0x7fc1812cb438>,\n",
       " '201002': <gensim.models.keyedvectors.Vocab at 0x7fc1812cb4a8>,\n",
       " '201012': <gensim.models.keyedvectors.Vocab at 0x7fc1812cb518>,\n",
       " 'bruce_willis': <gensim.models.keyedvectors.Vocab at 0x7fc1812cb550>,\n",
       " '201107': <gensim.models.keyedvectors.Vocab at 0x7fc1812cb5c0>,\n",
       " '200705': <gensim.models.keyedvectors.Vocab at 0x7fc1812cb630>,\n",
       " '201008': <gensim.models.keyedvectors.Vocab at 0x7fc1812cb6a0>,\n",
       " '201004': <gensim.models.keyedvectors.Vocab at 0x7fc1812cb748>,\n",
       " 'morgan_freeman': <gensim.models.keyedvectors.Vocab at 0x7fc1812cb710>,\n",
       " '200606': <gensim.models.keyedvectors.Vocab at 0x7fc1812cb7b8>,\n",
       " '200309': <gensim.models.keyedvectors.Vocab at 0x7fc1812cb828>,\n",
       " '201108': <gensim.models.keyedvectors.Vocab at 0x7fc1812cb898>,\n",
       " 'touchstone_pictures': <gensim.models.keyedvectors.Vocab at 0x7fc1812cb8d0>,\n",
       " '200905': <gensim.models.keyedvectors.Vocab at 0x7fc1812cb940>,\n",
       " 'ch': <gensim.models.keyedvectors.Vocab at 0x7fc1812cb9b0>,\n",
       " '201202': <gensim.models.keyedvectors.Vocab at 0x7fc1812cba20>,\n",
       " 'fa': <gensim.models.keyedvectors.Vocab at 0x7fc1812cba90>,\n",
       " '200711': <gensim.models.keyedvectors.Vocab at 0x7fc1812cbb00>,\n",
       " 'france_2_cinma': <gensim.models.keyedvectors.Vocab at 0x7fc1812cbb38>,\n",
       " '1931': <gensim.models.keyedvectors.Vocab at 0x7fc1812cbba8>,\n",
       " 'il': <gensim.models.keyedvectors.Vocab at 0x7fc1812cbc50>,\n",
       " '201612': <gensim.models.keyedvectors.Vocab at 0x7fc1812cbc18>,\n",
       " 'ro': <gensim.models.keyedvectors.Vocab at 0x7fc1812cbcc0>,\n",
       " '200009': <gensim.models.keyedvectors.Vocab at 0x7fc1812cbd68>,\n",
       " '200209': <gensim.models.keyedvectors.Vocab at 0x7fc1812cbdd8>,\n",
       " 'post_production': <gensim.models.keyedvectors.Vocab at 0x7fc1812cbe10>,\n",
       " '200708': <gensim.models.keyedvectors.Vocab at 0x7fc1812cbe80>,\n",
       " '200912': <gensim.models.keyedvectors.Vocab at 0x7fc1812cbef0>,\n",
       " '201105': <gensim.models.keyedvectors.Vocab at 0x7fc1812cbf60>,\n",
       " '200803': <gensim.models.keyedvectors.Vocab at 0x7fc1812cbfd0>,\n",
       " 'th': <gensim.models.keyedvectors.Vocab at 0x7fc1812d00b8>,\n",
       " '201003': <gensim.models.keyedvectors.Vocab at 0x7fc1812d0080>,\n",
       " '200611': <gensim.models.keyedvectors.Vocab at 0x7fc1812d0128>,\n",
       " '200210': <gensim.models.keyedvectors.Vocab at 0x7fc1812d01d0>,\n",
       " '200906': <gensim.models.keyedvectors.Vocab at 0x7fc1812d0240>,\n",
       " '200510': <gensim.models.keyedvectors.Vocab at 0x7fc1812d02b0>,\n",
       " '200703': <gensim.models.keyedvectors.Vocab at 0x7fc1812d0320>,\n",
       " 'nz': <gensim.models.keyedvectors.Vocab at 0x7fc1812d0390>,\n",
       " '200706': <gensim.models.keyedvectors.Vocab at 0x7fc1812d0400>,\n",
       " 'christopher_lee': <gensim.models.keyedvectors.Vocab at 0x7fc1812d0438>,\n",
       " '200704': <gensim.models.keyedvectors.Vocab at 0x7fc1812d04a8>,\n",
       " '200604': <gensim.models.keyedvectors.Vocab at 0x7fc1812d0518>,\n",
       " '200702': <gensim.models.keyedvectors.Vocab at 0x7fc1812d05f8>,\n",
       " '201703': <gensim.models.keyedvectors.Vocab at 0x7fc1812d0588>,\n",
       " 'clint_eastwood': <gensim.models.keyedvectors.Vocab at 0x7fc1812d0668>,\n",
       " '200807': <gensim.models.keyedvectors.Vocab at 0x7fc1812d06a0>,\n",
       " 'jackie_chan': <gensim.models.keyedvectors.Vocab at 0x7fc1812d06d8>,\n",
       " 'ir': <gensim.models.keyedvectors.Vocab at 0x7fc1812d0748>,\n",
       " 'woody_allen': <gensim.models.keyedvectors.Vocab at 0x7fc1812d0780>,\n",
       " '200612': <gensim.models.keyedvectors.Vocab at 0x7fc1812d07f0>,\n",
       " '200608': <gensim.models.keyedvectors.Vocab at 0x7fc1812d0860>,\n",
       " '200804': <gensim.models.keyedvectors.Vocab at 0x7fc1812d08d0>,\n",
       " '201207': <gensim.models.keyedvectors.Vocab at 0x7fc1812d0940>,\n",
       " 'walt_disney_productions': <gensim.models.keyedvectors.Vocab at 0x7fc1812d0978>,\n",
       " '200410': <gensim.models.keyedvectors.Vocab at 0x7fc1812d09e8>,\n",
       " 'fox_searchlight_pictures': <gensim.models.keyedvectors.Vocab at 0x7fc1812d0a20>,\n",
       " '199809': <gensim.models.keyedvectors.Vocab at 0x7fc1812d0a90>,\n",
       " '200511': <gensim.models.keyedvectors.Vocab at 0x7fc1812d0b00>,\n",
       " 'germany': <gensim.models.keyedvectors.Vocab at 0x7fc1812d0b70>,\n",
       " 'michael_caine': <gensim.models.keyedvectors.Vocab at 0x7fc1812d0ba8>,\n",
       " 'tom_hanks': <gensim.models.keyedvectors.Vocab at 0x7fc1812d0be0>,\n",
       " 'tw': <gensim.models.keyedvectors.Vocab at 0x7fc1812d0c50>,\n",
       " '201701': <gensim.models.keyedvectors.Vocab at 0x7fc1812d0cc0>,\n",
       " 'anthony_hopkins': <gensim.models.keyedvectors.Vocab at 0x7fc1812d0cf8>,\n",
       " '1_original_language': <gensim.models.keyedvectors.Vocab at 0x7fc1812d0d68>,\n",
       " 'jeff_bridges': <gensim.models.keyedvectors.Vocab at 0x7fc1812d0d30>,\n",
       " '200505': <gensim.models.keyedvectors.Vocab at 0x7fc1812d0dd8>,\n",
       " 'johnny_depp': <gensim.models.keyedvectors.Vocab at 0x7fc1812d0e10>,\n",
       " 'village_roadshow_pictures': <gensim.models.keyedvectors.Vocab at 0x7fc1812d0e48>,\n",
       " '200110': <gensim.models.keyedvectors.Vocab at 0x7fc1812d0eb8>,\n",
       " '200503': <gensim.models.keyedvectors.Vocab at 0x7fc1812d0f28>,\n",
       " 'universal_international_pictures_ui': <gensim.models.keyedvectors.Vocab at 0x7fc1812d0f98>,\n",
       " '200806': <gensim.models.keyedvectors.Vocab at 0x7fc1812d0f60>,\n",
       " '0_year': <gensim.models.keyedvectors.Vocab at 0x7fc1812d1080>,\n",
       " 'james_franco': <gensim.models.keyedvectors.Vocab at 0x7fc1812d1128>,\n",
       " '199909': <gensim.models.keyedvectors.Vocab at 0x7fc1812d10b8>,\n",
       " 'robert_duvall': <gensim.models.keyedvectors.Vocab at 0x7fc1812d1198>,\n",
       " 'meryl_streep': <gensim.models.keyedvectors.Vocab at 0x7fc1812d10f0>,\n",
       " 'grard_depardieu': <gensim.models.keyedvectors.Vocab at 0x7fc1812d11d0>,\n",
       " '200504': <gensim.models.keyedvectors.Vocab at 0x7fc1812d1278>,\n",
       " 'sylvester_stallone': <gensim.models.keyedvectors.Vocab at 0x7fc1812d1240>,\n",
       " 'liam_neeson': <gensim.models.keyedvectors.Vocab at 0x7fc1812d12b0>,\n",
       " '201007': <gensim.models.keyedvectors.Vocab at 0x7fc1812d1358>,\n",
       " '199910': <gensim.models.keyedvectors.Vocab at 0x7fc1812d1320>,\n",
       " '200712': <gensim.models.keyedvectors.Vocab at 0x7fc1812d1400>,\n",
       " '1929': <gensim.models.keyedvectors.Vocab at 0x7fc1812d14e0>,\n",
       " '1930': <gensim.models.keyedvectors.Vocab at 0x7fc1812d1470>,\n",
       " 'robin_williams': <gensim.models.keyedvectors.Vocab at 0x7fc1812d14a8>,\n",
       " '199509': <gensim.models.keyedvectors.Vocab at 0x7fc1812d1588>,\n",
       " '198901': <gensim.models.keyedvectors.Vocab at 0x7fc1812d15f8>,\n",
       " '199401': <gensim.models.keyedvectors.Vocab at 0x7fc1812d16a0>,\n",
       " '198701': <gensim.models.keyedvectors.Vocab at 0x7fc1812d1668>,\n",
       " '200512': <gensim.models.keyedvectors.Vocab at 0x7fc1812d1748>,\n",
       " 'matt_damon': <gensim.models.keyedvectors.Vocab at 0x7fc1812d1780>,\n",
       " 'denzel_washington': <gensim.models.keyedvectors.Vocab at 0x7fc1812d17b8>,\n",
       " '200506': <gensim.models.keyedvectors.Vocab at 0x7fc1812d1828>,\n",
       " '200308': <gensim.models.keyedvectors.Vocab at 0x7fc1812d1898>,\n",
       " '200405': <gensim.models.keyedvectors.Vocab at 0x7fc1812d1908>,\n",
       " '199601': <gensim.models.keyedvectors.Vocab at 0x7fc1812d19b0>,\n",
       " '200305': <gensim.models.keyedvectors.Vocab at 0x7fc1812d1978>,\n",
       " 'brad_pitt': <gensim.models.keyedvectors.Vocab at 0x7fc1812d1a58>,\n",
       " '201704': <gensim.models.keyedvectors.Vocab at 0x7fc1812d1a20>,\n",
       " 'ta': <gensim.models.keyedvectors.Vocab at 0x7fc1812d1b00>,\n",
       " '200411': <gensim.models.keyedvectors.Vocab at 0x7fc1812d1ba8>,\n",
       " '200310': <gensim.models.keyedvectors.Vocab at 0x7fc1812d1b70>,\n",
       " 'shaw_brothers': <gensim.models.keyedvectors.Vocab at 0x7fc1812d1c18>,\n",
       " '199501': <gensim.models.keyedvectors.Vocab at 0x7fc1812d1c88>,\n",
       " '200010': <gensim.models.keyedvectors.Vocab at 0x7fc1812d1d30>,\n",
       " 'british_broadcasting_corporation_bbc': <gensim.models.keyedvectors.Vocab at 0x7fc1812d1cf8>,\n",
       " '200605': <gensim.models.keyedvectors.Vocab at 0x7fc1812d1da0>,\n",
       " 'james_mason': <gensim.models.keyedvectors.Vocab at 0x7fc1812d1dd8>,\n",
       " 'channel_four_films': <gensim.models.keyedvectors.Vocab at 0x7fc1812d1e10>,\n",
       " '200805': <gensim.models.keyedvectors.Vocab at 0x7fc1812d1e80>,\n",
       " 'dreamworks_skg': <gensim.models.keyedvectors.Vocab at 0x7fc1812d1eb8>,\n",
       " 'hammer_film_productions': <gensim.models.keyedvectors.Vocab at 0x7fc1812d1ef0>,\n",
       " 'lions_gate_films': <gensim.models.keyedvectors.Vocab at 0x7fc1812d1f98>,\n",
       " '200907': <gensim.models.keyedvectors.Vocab at 0x7fc1812d1f28>,\n",
       " '198801': <gensim.models.keyedvectors.Vocab at 0x7fc1812d5048>,\n",
       " 'tla_releasing': <gensim.models.keyedvectors.Vocab at 0x7fc1812d50f0>,\n",
       " 'steve_buscemi': <gensim.models.keyedvectors.Vocab at 0x7fc1812d5080>,\n",
       " 'robert_downey_jr': <gensim.models.keyedvectors.Vocab at 0x7fc1812d5128>,\n",
       " 'dennis_quaid': <gensim.models.keyedvectors.Vocab at 0x7fc1812d50b8>,\n",
       " 'martin_scorsese': <gensim.models.keyedvectors.Vocab at 0x7fc1812d5208>,\n",
       " '201702': <gensim.models.keyedvectors.Vocab at 0x7fc1812d5160>,\n",
       " 'al_pacino': <gensim.models.keyedvectors.Vocab at 0x7fc1812d5198>,\n",
       " '200707': <gensim.models.keyedvectors.Vocab at 0x7fc1812d5278>,\n",
       " '197301': <gensim.models.keyedvectors.Vocab at 0x7fc1812d5320>,\n",
       " 'keanu_reeves': <gensim.models.keyedvectors.Vocab at 0x7fc1812d52e8>,\n",
       " 'ph': <gensim.models.keyedvectors.Vocab at 0x7fc1812d5390>,\n",
       " 'werner_herzog': <gensim.models.keyedvectors.Vocab at 0x7fc1812d53c8>,\n",
       " '199610': <gensim.models.keyedvectors.Vocab at 0x7fc1812d5438>,\n",
       " 'tom_cruise': <gensim.models.keyedvectors.Vocab at 0x7fc1812d54a8>,\n",
       " 'harrison_ford': <gensim.models.keyedvectors.Vocab at 0x7fc1812d5470>,\n",
       " '200203': <gensim.models.keyedvectors.Vocab at 0x7fc1812d5518>,\n",
       " '199609': <gensim.models.keyedvectors.Vocab at 0x7fc1812d5588>,\n",
       " 'john_ford': <gensim.models.keyedvectors.Vocab at 0x7fc1812d55c0>,\n",
       " 'bette_davis': <gensim.models.keyedvectors.Vocab at 0x7fc1812d55f8>,\n",
       " '200403': <gensim.models.keyedvectors.Vocab at 0x7fc1812d56a0>,\n",
       " '200402': <gensim.models.keyedvectors.Vocab at 0x7fc1812d5668>,\n",
       " '200508': <gensim.models.keyedvectors.Vocab at 0x7fc1812d5748>,\n",
       " 'will_ferrell': <gensim.models.keyedvectors.Vocab at 0x7fc1812d5780>,\n",
       " '200602': <gensim.models.keyedvectors.Vocab at 0x7fc1812d57f0>,\n",
       " 'michael_curtiz': <gensim.models.keyedvectors.Vocab at 0x7fc1812d5828>,\n",
       " '200111': <gensim.models.keyedvectors.Vocab at 0x7fc1812d5898>,\n",
       " '200412': <gensim.models.keyedvectors.Vocab at 0x7fc1812d5908>,\n",
       " 'he': <gensim.models.keyedvectors.Vocab at 0x7fc1812d5978>,\n",
       " '200205': <gensim.models.keyedvectors.Vocab at 0x7fc1812d5a20>,\n",
       " '199709': <gensim.models.keyedvectors.Vocab at 0x7fc1812d59e8>,\n",
       " 'first_national_pictures': <gensim.models.keyedvectors.Vocab at 0x7fc1812d5ac8>,\n",
       " '200108': <gensim.models.keyedvectors.Vocab at 0x7fc1812d5a90>,\n",
       " '200212': <gensim.models.keyedvectors.Vocab at 0x7fc1812d5b70>,\n",
       " '200404': <gensim.models.keyedvectors.Vocab at 0x7fc1812d5be0>,\n",
       " 'new_world_pictures': <gensim.models.keyedvectors.Vocab at 0x7fc1812d5c18>,\n",
       " '200507': <gensim.models.keyedvectors.Vocab at 0x7fc1812d5cc0>,\n",
       " 'samuel_l_jackson': <gensim.models.keyedvectors.Vocab at 0x7fc1812d5c88>,\n",
       " 'nikkatsu': <gensim.models.keyedvectors.Vocab at 0x7fc1812d5cf8>,\n",
       " 'bill_murray': <gensim.models.keyedvectors.Vocab at 0x7fc1812d5d30>,\n",
       " '199810': <gensim.models.keyedvectors.Vocab at 0x7fc1812d5da0>,\n",
       " '199409': <gensim.models.keyedvectors.Vocab at 0x7fc1812d5e80>,\n",
       " '199201': <gensim.models.keyedvectors.Vocab at 0x7fc1812d5e10>,\n",
       " '201705': <gensim.models.keyedvectors.Vocab at 0x7fc1812d5f28>,\n",
       " '1928': <gensim.models.keyedvectors.Vocab at 0x7fc1812d5ef0>,\n",
       " '200211': <gensim.models.keyedvectors.Vocab at 0x7fc1812d5fd0>,\n",
       " '199301': <gensim.models.keyedvectors.Vocab at 0x7fc1812d80b8>,\n",
       " '200103': <gensim.models.keyedvectors.Vocab at 0x7fc1812d8080>,\n",
       " 'steven_spielberg': <gensim.models.keyedvectors.Vocab at 0x7fc1812d8160>,\n",
       " 'gary_oldman': <gensim.models.keyedvectors.Vocab at 0x7fc1812d8128>,\n",
       " '200112': <gensim.models.keyedvectors.Vocab at 0x7fc1812d81d0>,\n",
       " 'catherine_deneuve': <gensim.models.keyedvectors.Vocab at 0x7fc1812d8208>,\n",
       " 'the_rank_organisation': <gensim.models.keyedvectors.Vocab at 0x7fc1812d8240>,\n",
       " 'susan_sarandon': <gensim.models.keyedvectors.Vocab at 0x7fc1812d8278>,\n",
       " '200304': <gensim.models.keyedvectors.Vocab at 0x7fc1812d82e8>,\n",
       " '199209': <gensim.models.keyedvectors.Vocab at 0x7fc1812d8358>,\n",
       " '199309': <gensim.models.keyedvectors.Vocab at 0x7fc1812d83c8>,\n",
       " 'rs': <gensim.models.keyedvectors.Vocab at 0x7fc1812d8438>,\n",
       " 'za': <gensim.models.keyedvectors.Vocab at 0x7fc1812d84e0>,\n",
       " '199710': <gensim.models.keyedvectors.Vocab at 0x7fc1812d84a8>,\n",
       " 'lionsgate': <gensim.models.keyedvectors.Vocab at 0x7fc1812d8550>,\n",
       " '201706': <gensim.models.keyedvectors.Vocab at 0x7fc1812d85c0>,\n",
       " 'donald_sutherland': <gensim.models.keyedvectors.Vocab at 0x7fc1812d8630>,\n",
       " 'sr': <gensim.models.keyedvectors.Vocab at 0x7fc1812d85f8>,\n",
       " '200607': <gensim.models.keyedvectors.Vocab at 0x7fc1812d86d8>,\n",
       " 'julia_roberts': <gensim.models.keyedvectors.Vocab at 0x7fc1812d8710>,\n",
       " 'harvey_keitel': <gensim.models.keyedvectors.Vocab at 0x7fc1812d8748>,\n",
       " 'matthew_mcconaughey': <gensim.models.keyedvectors.Vocab at 0x7fc1812d87b8>,\n",
       " 'william_hurt': <gensim.models.keyedvectors.Vocab at 0x7fc1812d8780>,\n",
       " 'gene_hackman': <gensim.models.keyedvectors.Vocab at 0x7fc1812d87f0>,\n",
       " 'american_international_pictures_aip': <gensim.models.keyedvectors.Vocab at 0x7fc1812d8828>,\n",
       " '200012': <gensim.models.keyedvectors.Vocab at 0x7fc1812d8898>,\n",
       " 'naomi_watts': <gensim.models.keyedvectors.Vocab at 0x7fc1812d88d0>,\n",
       " '200005': <gensim.models.keyedvectors.Vocab at 0x7fc1812d8940>,\n",
       " '198601': <gensim.models.keyedvectors.Vocab at 0x7fc1812d89b0>,\n",
       " 'robert_mitchum': <gensim.models.keyedvectors.Vocab at 0x7fc1812d89e8>,\n",
       " '200206': <gensim.models.keyedvectors.Vocab at 0x7fc1812d8a58>,\n",
       " 'cary_grant': <gensim.models.keyedvectors.Vocab at 0x7fc1812d8ac8>,\n",
       " 'colin_firth': <gensim.models.keyedvectors.Vocab at 0x7fc1812d8a90>,\n",
       " 'donald_pleasence': <gensim.models.keyedvectors.Vocab at 0x7fc1812d8b00>,\n",
       " 'canal': <gensim.models.keyedvectors.Vocab at 0x7fc1812d8b70>,\n",
       " 'kevin_spacey': <gensim.models.keyedvectors.Vocab at 0x7fc1812d8ba8>,\n",
       " '200003': <gensim.models.keyedvectors.Vocab at 0x7fc1812d8c18>,\n",
       " '200312': <gensim.models.keyedvectors.Vocab at 0x7fc1812d8c88>,\n",
       " 'adam_sandler': <gensim.models.keyedvectors.Vocab at 0x7fc1812d8d30>,\n",
       " '199001': <gensim.models.keyedvectors.Vocab at 0x7fc1812d8cc0>,\n",
       " '200408': <gensim.models.keyedvectors.Vocab at 0x7fc1812d8da0>,\n",
       " '200008': <gensim.models.keyedvectors.Vocab at 0x7fc1812d8e48>,\n",
       " 'christian_bale': <gensim.models.keyedvectors.Vocab at 0x7fc1812d8e10>,\n",
       " 'regency_enterprises': <gensim.models.keyedvectors.Vocab at 0x7fc1812d8e80>,\n",
       " 'marcello_mastroianni': <gensim.models.keyedvectors.Vocab at 0x7fc1812d8eb8>,\n",
       " 'jim_broadbent': <gensim.models.keyedvectors.Vocab at 0x7fc1812d8f28>,\n",
       " 'scarlett_johansson': <gensim.models.keyedvectors.Vocab at 0x7fc1812d8ef0>,\n",
       " 'studiocanal': <gensim.models.keyedvectors.Vocab at 0x7fc1812d8f60>,\n",
       " 'alfred_hitchcock': <gensim.models.keyedvectors.Vocab at 0x7fc1812d8f98>,\n",
       " 'shchiku_eiga': <gensim.models.keyedvectors.Vocab at 0x7fc1812d8fd0>,\n",
       " 'james_stewart': <gensim.models.keyedvectors.Vocab at 0x7fc1812db0b8>,\n",
       " '198101': <gensim.models.keyedvectors.Vocab at 0x7fc1812db048>,\n",
       " '199611': <gensim.models.keyedvectors.Vocab at 0x7fc1812db160>,\n",
       " '200303': <gensim.models.keyedvectors.Vocab at 0x7fc1812db128>,\n",
       " 'anthony_quinn': <gensim.models.keyedvectors.Vocab at 0x7fc1812db208>,\n",
       " '199101': <gensim.models.keyedvectors.Vocab at 0x7fc1812db1d0>,\n",
       " 'kirk_douglas': <gensim.models.keyedvectors.Vocab at 0x7fc1812db278>,\n",
       " 'paul_newman': <gensim.models.keyedvectors.Vocab at 0x7fc1812db2b0>,\n",
       " '199911': <gensim.models.keyedvectors.Vocab at 0x7fc1812db320>,\n",
       " 'isabelle_huppert': <gensim.models.keyedvectors.Vocab at 0x7fc1812db358>,\n",
       " '197101': <gensim.models.keyedvectors.Vocab at 0x7fc1812db3c8>,\n",
       " 'monogram_pictures': <gensim.models.keyedvectors.Vocab at 0x7fc1812db400>,\n",
       " 'charlize_theron': <gensim.models.keyedvectors.Vocab at 0x7fc1812db470>,\n",
       " '200406': <gensim.models.keyedvectors.Vocab at 0x7fc1812db438>,\n",
       " 'burt_lancaster': <gensim.models.keyedvectors.Vocab at 0x7fc1812db4e0>,\n",
       " '199912': <gensim.models.keyedvectors.Vocab at 0x7fc1812db588>,\n",
       " 'lionel_barrymore': <gensim.models.keyedvectors.Vocab at 0x7fc1812db550>,\n",
       " 'kate_winslet': <gensim.models.keyedvectors.Vocab at 0x7fc1812db5c0>,\n",
       " 'burt_reynolds': <gensim.models.keyedvectors.Vocab at 0x7fc1812db5f8>,\n",
       " 'henry_fonda': <gensim.models.keyedvectors.Vocab at 0x7fc1812db630>,\n",
       " 'cj_entertainment': <gensim.models.keyedvectors.Vocab at 0x7fc1812db6a0>,\n",
       " 'eric_roberts': <gensim.models.keyedvectors.Vocab at 0x7fc1812db668>,\n",
       " 'robert_redford': <gensim.models.keyedvectors.Vocab at 0x7fc1812db6d8>,\n",
       " 'nordisk_film': <gensim.models.keyedvectors.Vocab at 0x7fc1812db710>,\n",
       " '199812': <gensim.models.keyedvectors.Vocab at 0x7fc1812db780>,\n",
       " 'barbara_stanwyck': <gensim.models.keyedvectors.Vocab at 0x7fc1812db7f0>,\n",
       " 'unrated': <gensim.models.keyedvectors.Vocab at 0x7fc1812db7b8>,\n",
       " 'dolph_lundgren': <gensim.models.keyedvectors.Vocab at 0x7fc1812db860>,\n",
       " 'jet_li': <gensim.models.keyedvectors.Vocab at 0x7fc1812db8d0>,\n",
       " '200502': <gensim.models.keyedvectors.Vocab at 0x7fc1812db940>,\n",
       " 'alec_baldwin': <gensim.models.keyedvectors.Vocab at 0x7fc1812db978>,\n",
       " '199708': <gensim.models.keyedvectors.Vocab at 0x7fc1812dba20>,\n",
       " 'fox_film_corporation': <gensim.models.keyedvectors.Vocab at 0x7fc1812db9e8>,\n",
       " 'spencer_tracy': <gensim.models.keyedvectors.Vocab at 0x7fc1812dba58>,\n",
       " '199808': <gensim.models.keyedvectors.Vocab at 0x7fc1812dbb00>,\n",
       " 'jeanluc_godard': <gensim.models.keyedvectors.Vocab at 0x7fc1812dbac8>,\n",
       " 'helen_mirren': <gensim.models.keyedvectors.Vocab at 0x7fc1812dbb38>,\n",
       " 'gerard_butler': <gensim.models.keyedvectors.Vocab at 0x7fc1812dbb70>,\n",
       " '198201': <gensim.models.keyedvectors.Vocab at 0x7fc1812dbba8>,\n",
       " '199505': <gensim.models.keyedvectors.Vocab at 0x7fc1812dbc18>,\n",
       " '199612': <gensim.models.keyedvectors.Vocab at 0x7fc1812dbcf8>,\n",
       " 'imagine_entertainment': <gensim.models.keyedvectors.Vocab at 0x7fc1812dbcc0>,\n",
       " 'matthew_broderick': <gensim.models.keyedvectors.Vocab at 0x7fc1812dbd30>,\n",
       " 'jason_statham': <gensim.models.keyedvectors.Vocab at 0x7fc1812dbda0>,\n",
       " 'james_caan': <gensim.models.keyedvectors.Vocab at 0x7fc1812dbd68>,\n",
       " '197201': <gensim.models.keyedvectors.Vocab at 0x7fc1812dbe48>,\n",
       " 'dennis_hopper': <gensim.models.keyedvectors.Vocab at 0x7fc1812dbe10>,\n",
       " 'joan_crawford': <gensim.models.keyedvectors.Vocab at 0x7fc1812dbe80>,\n",
       " 'kirsten_dunst': <gensim.models.keyedvectors.Vocab at 0x7fc1812dbeb8>,\n",
       " '0_production_countries': <gensim.models.keyedvectors.Vocab at 0x7fc1812dbf28>,\n",
       " '200202': <gensim.models.keyedvectors.Vocab at 0x7fc1812dbef0>,\n",
       " '200311': <gensim.models.keyedvectors.Vocab at 0x7fc1812dbf98>,\n",
       " 'spike_lee': <gensim.models.keyedvectors.Vocab at 0x7fc1812df048>,\n",
       " 'hollywood_pictures': <gensim.models.keyedvectors.Vocab at 0x7fc1812df080>,\n",
       " 'vanessa_redgrave': <gensim.models.keyedvectors.Vocab at 0x7fc1812df0b8>,\n",
       " '200004': <gensim.models.keyedvectors.Vocab at 0x7fc1812df128>,\n",
       " '200306': <gensim.models.keyedvectors.Vocab at 0x7fc1812df1d0>,\n",
       " '199805': <gensim.models.keyedvectors.Vocab at 0x7fc1812df198>,\n",
       " 'val_kilmer': <gensim.models.keyedvectors.Vocab at 0x7fc1812df240>,\n",
       " 'boris_karloff': <gensim.models.keyedvectors.Vocab at 0x7fc1812df2b0>,\n",
       " 'danny_glover': <gensim.models.keyedvectors.Vocab at 0x7fc1812df278>,\n",
       " 'john_cusack': <gensim.models.keyedvectors.Vocab at 0x7fc1812df2e8>,\n",
       " 'vincent_price': <gensim.models.keyedvectors.Vocab at 0x7fc1812df320>,\n",
       " 'brendan_fraser': <gensim.models.keyedvectors.Vocab at 0x7fc1812df390>,\n",
       " 'gary_cooper': <gensim.models.keyedvectors.Vocab at 0x7fc1812df358>,\n",
       " 'peter_cushing': <gensim.models.keyedvectors.Vocab at 0x7fc1812df400>,\n",
       " 'ron_howard': <gensim.models.keyedvectors.Vocab at 0x7fc1812df3c8>,\n",
       " 'tom_berenger': <gensim.models.keyedvectors.Vocab at 0x7fc1812df438>,\n",
       " '199811': <gensim.models.keyedvectors.Vocab at 0x7fc1812df470>,\n",
       " 'william_holden': <gensim.models.keyedvectors.Vocab at 0x7fc1812df4e0>,\n",
       " 'buster_keaton': <gensim.models.keyedvectors.Vocab at 0x7fc1812df518>,\n",
       " 'natalie_portman': <gensim.models.keyedvectors.Vocab at 0x7fc1812df550>,\n",
       " 'philip_seymour_hoffman': <gensim.models.keyedvectors.Vocab at 0x7fc1812df588>,\n",
       " 'christopher_walken': <gensim.models.keyedvectors.Vocab at 0x7fc1812df5f8>,\n",
       " 'willem_dafoe': <gensim.models.keyedvectors.Vocab at 0x7fc1812df5c0>,\n",
       " '200104': <gensim.models.keyedvectors.Vocab at 0x7fc1812df630>,\n",
       " 'humphrey_bogart': <gensim.models.keyedvectors.Vocab at 0x7fc1812df6a0>,\n",
       " 'georges_mlis': <gensim.models.keyedvectors.Vocab at 0x7fc1812df710>,\n",
       " 'rai_cinema': <gensim.models.keyedvectors.Vocab at 0x7fc1812df6d8>,\n",
       " '199712': <gensim.models.keyedvectors.Vocab at 0x7fc1812df748>,\n",
       " 'john_huston': <gensim.models.keyedvectors.Vocab at 0x7fc1812df7b8>,\n",
       " '198501': <gensim.models.keyedvectors.Vocab at 0x7fc1812df7f0>,\n",
       " 'christopher_plummer': <gensim.models.keyedvectors.Vocab at 0x7fc1812df860>,\n",
       " 'forest_whitaker': <gensim.models.keyedvectors.Vocab at 0x7fc1812df898>,\n",
       " 'ed_harris': <gensim.models.keyedvectors.Vocab at 0x7fc1812df908>,\n",
       " '199510': <gensim.models.keyedvectors.Vocab at 0x7fc1812df8d0>,\n",
       " '200208': <gensim.models.keyedvectors.Vocab at 0x7fc1812df9e8>,\n",
       " 'tommy_lee_jones': <gensim.models.keyedvectors.Vocab at 0x7fc1812df9b0>,\n",
       " 'julianne_moore': <gensim.models.keyedvectors.Vocab at 0x7fc1812dfa20>,\n",
       " 'malcolm_mcdowell': <gensim.models.keyedvectors.Vocab at 0x7fc1812dfa58>,\n",
       " '200106': <gensim.models.keyedvectors.Vocab at 0x7fc1812dfb00>,\n",
       " '200302': <gensim.models.keyedvectors.Vocab at 0x7fc1812dfac8>,\n",
       " 'summit_entertainment': <gensim.models.keyedvectors.Vocab at 0x7fc1812dfb70>,\n",
       " '197001': <gensim.models.keyedvectors.Vocab at 0x7fc1812dfbe0>,\n",
       " 'svensk_filmindustri_sf': <gensim.models.keyedvectors.Vocab at 0x7fc1812dfc18>,\n",
       " '198301': <gensim.models.keyedvectors.Vocab at 0x7fc1812dfc88>,\n",
       " 'ewan_mcgregor': <gensim.models.keyedvectors.Vocab at 0x7fc1812dfcc0>,\n",
       " 'dc_comics': <gensim.models.keyedvectors.Vocab at 0x7fc1812dfcf8>,\n",
       " 'randolph_scott': <gensim.models.keyedvectors.Vocab at 0x7fc1812dfd30>,\n",
       " '200006': <gensim.models.keyedvectors.Vocab at 0x7fc1812dfda0>,\n",
       " 'mel_gibson': <gensim.models.keyedvectors.Vocab at 0x7fc1812dfdd8>,\n",
       " 'hugh_jackman': <gensim.models.keyedvectors.Vocab at 0x7fc1812dfe10>,\n",
       " '199908': <gensim.models.keyedvectors.Vocab at 0x7fc1812dfe80>,\n",
       " 'sean_penn': <gensim.models.keyedvectors.Vocab at 0x7fc1812dfef0>,\n",
       " 'antonio_banderas': <gensim.models.keyedvectors.Vocab at 0x7fc1812dfeb8>,\n",
       " 'ryan_reynolds': <gensim.models.keyedvectors.Vocab at 0x7fc1812dff28>,\n",
       " 'salma_hayek': <gensim.models.keyedvectors.Vocab at 0x7fc1812dff60>,\n",
       " '199512': <gensim.models.keyedvectors.Vocab at 0x7fc1812dffd0>,\n",
       " 'glenn_ford': <gensim.models.keyedvectors.Vocab at 0x7fc1812e3048>,\n",
       " 'gregory_peck': <gensim.models.keyedvectors.Vocab at 0x7fc1812e3080>,\n",
       " 'sidney_lumet': <gensim.models.keyedvectors.Vocab at 0x7fc1812e30b8>,\n",
       " '199608': <gensim.models.keyedvectors.Vocab at 0x7fc1812e3128>,\n",
       " 'robert_taylor': <gensim.models.keyedvectors.Vocab at 0x7fc1812e3160>,\n",
       " '199605': <gensim.models.keyedvectors.Vocab at 0x7fc1812e31d0>,\n",
       " '197501': <gensim.models.keyedvectors.Vocab at 0x7fc1812e3278>,\n",
       " 'australia': <gensim.models.keyedvectors.Vocab at 0x7fc1812e3240>,\n",
       " '200002': <gensim.models.keyedvectors.Vocab at 0x7fc1812e32e8>,\n",
       " 'zentropa_entertainments': <gensim.models.keyedvectors.Vocab at 0x7fc1812e3358>,\n",
       " 'akshay_kumar': <gensim.models.keyedvectors.Vocab at 0x7fc1812e3320>,\n",
       " 'approved': <gensim.models.keyedvectors.Vocab at 0x7fc1812e3390>,\n",
       " '200407': <gensim.models.keyedvectors.Vocab at 0x7fc1812e3400>,\n",
       " 'dustin_hoffman': <gensim.models.keyedvectors.Vocab at 0x7fc1812e3438>,\n",
       " 'the_asylum': <gensim.models.keyedvectors.Vocab at 0x7fc1812e3470>,\n",
       " 'nicole_kidman': <gensim.models.keyedvectors.Vocab at 0x7fc1812e34a8>,\n",
       " '200204': <gensim.models.keyedvectors.Vocab at 0x7fc1812e3518>,\n",
       " 'tom_wilkinson': <gensim.models.keyedvectors.Vocab at 0x7fc1812e3550>,\n",
       " 'is': <gensim.models.keyedvectors.Vocab at 0x7fc1812e35c0>,\n",
       " 'bbc': <gensim.models.keyedvectors.Vocab at 0x7fc1812e3630>,\n",
       " 'sean_connery': <gensim.models.keyedvectors.Vocab at 0x7fc1812e3668>,\n",
       " 'jack_lemmon': <gensim.models.keyedvectors.Vocab at 0x7fc1812e36a0>,\n",
       " 'nick_nolte': <gensim.models.keyedvectors.Vocab at 0x7fc1812e36d8>,\n",
       " 'john_travolta': <gensim.models.keyedvectors.Vocab at 0x7fc1812e3710>,\n",
       " 'marlon_brando': <gensim.models.keyedvectors.Vocab at 0x7fc1812e3748>,\n",
       " 'demi_moore': <gensim.models.keyedvectors.Vocab at 0x7fc1812e3780>,\n",
       " 'daiei_studios': <gensim.models.keyedvectors.Vocab at 0x7fc1812e37b8>,\n",
       " 'bruce_dern': <gensim.models.keyedvectors.Vocab at 0x7fc1812e37f0>,\n",
       " '199803': <gensim.models.keyedvectors.Vocab at 0x7fc1812e3860>,\n",
       " 'cl': <gensim.models.keyedvectors.Vocab at 0x7fc1812e38d0>,\n",
       " '199904': <gensim.models.keyedvectors.Vocab at 0x7fc1812e3978>,\n",
       " '196801': <gensim.models.keyedvectors.Vocab at 0x7fc1812e3940>,\n",
       " 'kristen_stewart': <gensim.models.keyedvectors.Vocab at 0x7fc1812e39e8>,\n",
       " '1926': <gensim.models.keyedvectors.Vocab at 0x7fc1812e3a58>,\n",
       " '196901': <gensim.models.keyedvectors.Vocab at 0x7fc1812e3ac8>,\n",
       " 'ethan_hawke': <gensim.models.keyedvectors.Vocab at 0x7fc1812e3b00>,\n",
       " 'woody_harrelson': <gensim.models.keyedvectors.Vocab at 0x7fc1812e3b38>,\n",
       " '199804': <gensim.models.keyedvectors.Vocab at 0x7fc1812e3ba8>,\n",
       " '199705': <gensim.models.keyedvectors.Vocab at 0x7fc1812e3c18>,\n",
       " '199903': <gensim.models.keyedvectors.Vocab at 0x7fc1812e3c88>,\n",
       " 'kristin_scott_thomas': <gensim.models.keyedvectors.Vocab at 0x7fc1812e3cc0>,\n",
       " 'edward_g_robinson': <gensim.models.keyedvectors.Vocab at 0x7fc1812e3cf8>,\n",
       " 'dwayne_johnson': <gensim.models.keyedvectors.Vocab at 0x7fc1812e3d30>,\n",
       " 'george_sanders': <gensim.models.keyedvectors.Vocab at 0x7fc1812e3d68>,\n",
       " 'andy_lau': <gensim.models.keyedvectors.Vocab at 0x7fc1812e3da0>,\n",
       " '197212': <gensim.models.keyedvectors.Vocab at 0x7fc1812e3e48>,\n",
       " 'shah_rukh_khan': <gensim.models.keyedvectors.Vocab at 0x7fc1812e3e10>,\n",
       " 'jk_simmons': <gensim.models.keyedvectors.Vocab at 0x7fc1812e3e80>,\n",
       " 'walter_matthau': <gensim.models.keyedvectors.Vocab at 0x7fc1812e3ef0>,\n",
       " 'james_cagney': <gensim.models.keyedvectors.Vocab at 0x7fc1812e3eb8>,\n",
       " 'orson_welles': <gensim.models.keyedvectors.Vocab at 0x7fc1812e3f28>,\n",
       " 'charlie_chaplin': <gensim.models.keyedvectors.Vocab at 0x7fc1812e3f98>,\n",
       " 'viggo_mortensen': <gensim.models.keyedvectors.Vocab at 0x7fc1812e3f60>,\n",
       " 'rod_steiger': <gensim.models.keyedvectors.Vocab at 0x7fc1812e3fd0>,\n",
       " 'leonardo_dicaprio': <gensim.models.keyedvectors.Vocab at 0x7fc1812e7048>,\n",
       " 'fine_line_features': <gensim.models.keyedvectors.Vocab at 0x7fc1812e7080>,\n",
       " '198812': <gensim.models.keyedvectors.Vocab at 0x7fc1812e70f0>,\n",
       " '199009': <gensim.models.keyedvectors.Vocab at 0x7fc1812e7160>,\n",
       " 'steven_seagal': <gensim.models.keyedvectors.Vocab at 0x7fc1812e71d0>,\n",
       " 'charlton_heston': <gensim.models.keyedvectors.Vocab at 0x7fc1812e7198>,\n",
       " 'sam_neill': <gensim.models.keyedvectors.Vocab at 0x7fc1812e7208>,\n",
       " 'french': <gensim.models.keyedvectors.Vocab at 0x7fc1812e72b0>,\n",
       " 'rosario_dawson': <gensim.models.keyedvectors.Vocab at 0x7fc1812e7278>,\n",
       " 'john_goodman': <gensim.models.keyedvectors.Vocab at 0x7fc1812e72e8>,\n",
       " 'ray_milland': <gensim.models.keyedvectors.Vocab at 0x7fc1812e7390>,\n",
       " '198809': <gensim.models.keyedvectors.Vocab at 0x7fc1812e7320>,\n",
       " 'anne_hathaway': <gensim.models.keyedvectors.Vocab at 0x7fc1812e7358>,\n",
       " 'ben_stiller': <gensim.models.keyedvectors.Vocab at 0x7fc1812e7400>,\n",
       " 'ben_kingsley': <gensim.models.keyedvectors.Vocab at 0x7fc1812e7438>,\n",
       " 'ingmar_bergman': <gensim.models.keyedvectors.Vocab at 0x7fc1812e7470>,\n",
       " 'jim_belushi': <gensim.models.keyedvectors.Vocab at 0x7fc1812e74e0>,\n",
       " 'jane_fonda': <gensim.models.keyedvectors.Vocab at 0x7fc1812e74a8>,\n",
       " 'david_carradine': <gensim.models.keyedvectors.Vocab at 0x7fc1812e7518>,\n",
       " 'rutger_hauer': <gensim.models.keyedvectors.Vocab at 0x7fc1812e7550>,\n",
       " 'danny_devito': <gensim.models.keyedvectors.Vocab at 0x7fc1812e7588>,\n",
       " 'christian_slater': <gensim.models.keyedvectors.Vocab at 0x7fc1812e75c0>,\n",
       " '197401': <gensim.models.keyedvectors.Vocab at 0x7fc1812e7668>,\n",
       " 'kevin_costner': <gensim.models.keyedvectors.Vocab at 0x7fc1812e7630>,\n",
       " 'jennifer_jason_leigh': <gensim.models.keyedvectors.Vocab at 0x7fc1812e76a0>,\n",
       " 'rip_torn': <gensim.models.keyedvectors.Vocab at 0x7fc1812e76d8>,\n",
       " '199711': <gensim.models.keyedvectors.Vocab at 0x7fc1812e7780>,\n",
       " 'milla_jovovich': <gensim.models.keyedvectors.Vocab at 0x7fc1812e7748>,\n",
       " 'david_niven': <gensim.models.keyedvectors.Vocab at 0x7fc1812e77b8>,\n",
       " '197701': <gensim.models.keyedvectors.Vocab at 0x7fc1812e7828>,\n",
       " 'mickey_rooney': <gensim.models.keyedvectors.Vocab at 0x7fc1812e7860>,\n",
       " '199410': <gensim.models.keyedvectors.Vocab at 0x7fc1812e78d0>,\n",
       " 'lenfilm': <gensim.models.keyedvectors.Vocab at 0x7fc1812e7940>,\n",
       " 'steven_soderbergh': <gensim.models.keyedvectors.Vocab at 0x7fc1812e7978>,\n",
       " '199412': <gensim.models.keyedvectors.Vocab at 0x7fc1812e79e8>,\n",
       " '197901': <gensim.models.keyedvectors.Vocab at 0x7fc1812e7a58>,\n",
       " '200102': <gensim.models.keyedvectors.Vocab at 0x7fc1812e7ac8>,\n",
       " 'bob_hoskins': <gensim.models.keyedvectors.Vocab at 0x7fc1812e7b00>,\n",
       " 'kevin_bacon': <gensim.models.keyedvectors.Vocab at 0x7fc1812e7b38>,\n",
       " 'ginger_rogers': <gensim.models.keyedvectors.Vocab at 0x7fc1812e7b70>,\n",
       " 'kurt_russell': <gensim.models.keyedvectors.Vocab at 0x7fc1812e7be0>,\n",
       " 'clark_gable': <gensim.models.keyedvectors.Vocab at 0x7fc1812e7ba8>,\n",
       " 'ee': <gensim.models.keyedvectors.Vocab at 0x7fc1812e7c50>,\n",
       " 'shirley_maclaine': <gensim.models.keyedvectors.Vocab at 0x7fc1812e7c88>,\n",
       " 'nu_image_films': <gensim.models.keyedvectors.Vocab at 0x7fc1812e7cc0>,\n",
       " 'jeanpaul_belmondo': <gensim.models.keyedvectors.Vocab at 0x7fc1812e7d30>,\n",
       " '199504': <gensim.models.keyedvectors.Vocab at 0x7fc1812e7cf8>,\n",
       " 'ellen_burstyn': <gensim.models.keyedvectors.Vocab at 0x7fc1812e7da0>,\n",
       " 'jack_nicholson': <gensim.models.keyedvectors.Vocab at 0x7fc1812e7dd8>,\n",
       " 'bruce_greenwood': <gensim.models.keyedvectors.Vocab at 0x7fc1812e7e48>,\n",
       " '199508': <gensim.models.keyedvectors.Vocab at 0x7fc1812e7e10>,\n",
       " '200207': <gensim.models.keyedvectors.Vocab at 0x7fc1812e7ef0>,\n",
       " 'scott_glenn': <gensim.models.keyedvectors.Vocab at 0x7fc1812e7f28>,\n",
       " 'sammo_hung': <gensim.models.keyedvectors.Vocab at 0x7fc1812e7f60>,\n",
       " '198009': <gensim.models.keyedvectors.Vocab at 0x7fc1812e7fd0>,\n",
       " 'jake_gyllenhaal': <gensim.models.keyedvectors.Vocab at 0x7fc1812ec048>,\n",
       " 'sam_shepard': <gensim.models.keyedvectors.Vocab at 0x7fc1812ec080>,\n",
       " 'john_hurt': <gensim.models.keyedvectors.Vocab at 0x7fc1812ec0f0>,\n",
       " '199703': <gensim.models.keyedvectors.Vocab at 0x7fc1812ec0b8>,\n",
       " 'charlotte_rampling': <gensim.models.keyedvectors.Vocab at 0x7fc1812ec160>,\n",
       " 'steve_carell': <gensim.models.keyedvectors.Vocab at 0x7fc1812ec198>,\n",
       " 'jack_palance': <gensim.models.keyedvectors.Vocab at 0x7fc1812ec208>,\n",
       " 'richard_gere': <gensim.models.keyedvectors.Vocab at 0x7fc1812ec1d0>,\n",
       " 'robert_ryan': <gensim.models.keyedvectors.Vocab at 0x7fc1812ec278>,\n",
       " 'virginia_madsen': <gensim.models.keyedvectors.Vocab at 0x7fc1812ec240>,\n",
       " '196812': <gensim.models.keyedvectors.Vocab at 0x7fc1812ec2e8>,\n",
       " 'max_von_sydow': <gensim.models.keyedvectors.Vocab at 0x7fc1812ec358>,\n",
       " 'robert_altman': <gensim.models.keyedvectors.Vocab at 0x7fc1812ec320>,\n",
       " '199511': <gensim.models.keyedvectors.Vocab at 0x7fc1812ec3c8>,\n",
       " 'pierce_brosnan': <gensim.models.keyedvectors.Vocab at 0x7fc1812ec438>,\n",
       " 'golden_harvest_company': <gensim.models.keyedvectors.Vocab at 0x7fc1812ec400>,\n",
       " '199109': <gensim.models.keyedvectors.Vocab at 0x7fc1812ec4a8>,\n",
       " 'fred_macmurray': <gensim.models.keyedvectors.Vocab at 0x7fc1812ec4e0>,\n",
       " 'sidney_poitier': <gensim.models.keyedvectors.Vocab at 0x7fc1812ec518>,\n",
       " 'diane_keaton': <gensim.models.keyedvectors.Vocab at 0x7fc1812ec588>,\n",
       " 'the_weinstein_company': <gensim.models.keyedvectors.Vocab at 0x7fc1812ec550>,\n",
       " 'alberto_sordi': <gensim.models.keyedvectors.Vocab at 0x7fc1812ec5c0>,\n",
       " '200307': <gensim.models.keyedvectors.Vocab at 0x7fc1812ec630>,\n",
       " 'aidan_quinn': <gensim.models.keyedvectors.Vocab at 0x7fc1812ec668>,\n",
       " 'franco_nero': <gensim.models.keyedvectors.Vocab at 0x7fc1812ec6a0>,\n",
       " 'jon_favreau': <gensim.models.keyedvectors.Vocab at 0x7fc1812ec6d8>,\n",
       " 'stellan_skarsgrd': <gensim.models.keyedvectors.Vocab at 0x7fc1812ec710>,\n",
       " 'james_coburn': <gensim.models.keyedvectors.Vocab at 0x7fc1812ec780>,\n",
       " 'fredric_march': <gensim.models.keyedvectors.Vocab at 0x7fc1812ec748>,\n",
       " 'kenneth_branagh': <gensim.models.keyedvectors.Vocab at 0x7fc1812ec7b8>,\n",
       " 'joseph_gordonlevitt': <gensim.models.keyedvectors.Vocab at 0x7fc1812ec7f0>,\n",
       " 'will_smith': <gensim.models.keyedvectors.Vocab at 0x7fc1812ec828>,\n",
       " 'vin_diesel': <gensim.models.keyedvectors.Vocab at 0x7fc1812ec860>,\n",
       " '199603': <gensim.models.keyedvectors.Vocab at 0x7fc1812ec908>,\n",
       " 'jeanclaude_van_damme': <gensim.models.keyedvectors.Vocab at 0x7fc1812ec8d0>,\n",
       " '196601': <gensim.models.keyedvectors.Vocab at 0x7fc1812ec9b0>,\n",
       " 'te': <gensim.models.keyedvectors.Vocab at 0x7fc1812ec978>,\n",
       " '199902': <gensim.models.keyedvectors.Vocab at 0x7fc1812eca58>,\n",
       " 'brian_de_palma': <gensim.models.keyedvectors.Vocab at 0x7fc1812eca90>,\n",
       " 'dimension_films': <gensim.models.keyedvectors.Vocab at 0x7fc1812ecb00>,\n",
       " 'james_garner': <gensim.models.keyedvectors.Vocab at 0x7fc1812ecac8>,\n",
       " 'gabriel_byrne': <gensim.models.keyedvectors.Vocab at 0x7fc1812ecb38>,\n",
       " 'joseph_cotten': <gensim.models.keyedvectors.Vocab at 0x7fc1812ecb70>,\n",
       " 'ned_beatty': <gensim.models.keyedvectors.Vocab at 0x7fc1812ecba8>,\n",
       " 'zooey_deschanel': <gensim.models.keyedvectors.Vocab at 0x7fc1812ecbe0>,\n",
       " '199704': <gensim.models.keyedvectors.Vocab at 0x7fc1812ecc50>,\n",
       " 'amitabh_bachchan': <gensim.models.keyedvectors.Vocab at 0x7fc1812eccc0>,\n",
       " 'martin_sheen': <gensim.models.keyedvectors.Vocab at 0x7fc1812ecc88>,\n",
       " '199105': <gensim.models.keyedvectors.Vocab at 0x7fc1812eccf8>,\n",
       " 'beau_bridges': <gensim.models.keyedvectors.Vocab at 0x7fc1812ecd68>,\n",
       " 'laurence_olivier': <gensim.models.keyedvectors.Vocab at 0x7fc1812ecda0>,\n",
       " 'fritz_lang': <gensim.models.keyedvectors.Vocab at 0x7fc1812ecdd8>,\n",
       " '1927': <gensim.models.keyedvectors.Vocab at 0x7fc1812ece48>,\n",
       " 'frank_welker': <gensim.models.keyedvectors.Vocab at 0x7fc1812eceb8>,\n",
       " '199405': <gensim.models.keyedvectors.Vocab at 0x7fc1812ece80>,\n",
       " 'ernest_borgnine': <gensim.models.keyedvectors.Vocab at 0x7fc1812ecf60>,\n",
       " 'filmov_studio_barrandov': <gensim.models.keyedvectors.Vocab at 0x7fc1812ecf28>,\n",
       " '200011': <gensim.models.keyedvectors.Vocab at 0x7fc1812f0048>,\n",
       " 'sigourney_weaver': <gensim.models.keyedvectors.Vocab at 0x7fc1812ecfd0>,\n",
       " 'kiefer_sutherland': <gensim.models.keyedvectors.Vocab at 0x7fc1812f0080>,\n",
       " '199310': <gensim.models.keyedvectors.Vocab at 0x7fc1812f00f0>,\n",
       " 'anne_bancroft': <gensim.models.keyedvectors.Vocab at 0x7fc1812f0160>,\n",
       " '198401': <gensim.models.keyedvectors.Vocab at 0x7fc1812f0128>,\n",
       " 'tim_roth': <gensim.models.keyedvectors.Vocab at 0x7fc1812f01d0>,\n",
       " 'drew_barrymore': <gensim.models.keyedvectors.Vocab at 0x7fc1812f0208>,\n",
       " 'don_cheadle': <gensim.models.keyedvectors.Vocab at 0x7fc1812f0278>,\n",
       " 'allied_artists_pictures': <gensim.models.keyedvectors.Vocab at 0x7fc1812f0240>,\n",
       " 'timothy_hutton': <gensim.models.keyedvectors.Vocab at 0x7fc1812f02b0>,\n",
       " 'faye_dunaway': <gensim.models.keyedvectors.Vocab at 0x7fc1812f02e8>,\n",
       " 'george_clooney': <gensim.models.keyedvectors.Vocab at 0x7fc1812f0320>,\n",
       " 'tom_skerritt': <gensim.models.keyedvectors.Vocab at 0x7fc1812f0390>,\n",
       " 'roger_corman': <gensim.models.keyedvectors.Vocab at 0x7fc1812f0358>,\n",
       " 'jamie_lee_curtis': <gensim.models.keyedvectors.Vocab at 0x7fc1812f0438>,\n",
       " '199212': <gensim.models.keyedvectors.Vocab at 0x7fc1812f03c8>,\n",
       " 'henry_hathaway': <gensim.models.keyedvectors.Vocab at 0x7fc1812f0400>,\n",
       " 'alain_delon': <gensim.models.keyedvectors.Vocab at 0x7fc1812f04a8>,\n",
       " 'jason_robards': <gensim.models.keyedvectors.Vocab at 0x7fc1812f0518>,\n",
       " '199312': <gensim.models.keyedvectors.Vocab at 0x7fc1812f04e0>,\n",
       " 'john_malkovich': <gensim.models.keyedvectors.Vocab at 0x7fc1812f0588>,\n",
       " 'home_box_office_hbo': <gensim.models.keyedvectors.Vocab at 0x7fc1812f05f8>,\n",
       " '199905': <gensim.models.keyedvectors.Vocab at 0x7fc1812f05c0>,\n",
       " 'matt_dillon': <gensim.models.keyedvectors.Vocab at 0x7fc1812f0668>,\n",
       " 'arte': <gensim.models.keyedvectors.Vocab at 0x7fc1812f06d8>,\n",
       " 'kevin_smith': <gensim.models.keyedvectors.Vocab at 0x7fc1812f0710>,\n",
       " 'david_lynch': <gensim.models.keyedvectors.Vocab at 0x7fc1812f0748>,\n",
       " 'ridley_scott': <gensim.models.keyedvectors.Vocab at 0x7fc1812f07b8>,\n",
       " 'richard_widmark': <gensim.models.keyedvectors.Vocab at 0x7fc1812f0780>,\n",
       " 'michael_fassbender': <gensim.models.keyedvectors.Vocab at 0x7fc1812f07f0>,\n",
       " 'frank_langella': <gensim.models.keyedvectors.Vocab at 0x7fc1812f0828>,\n",
       " '199210': <gensim.models.keyedvectors.Vocab at 0x7fc1812f0898>,\n",
       " 'oliver_stone': <gensim.models.keyedvectors.Vocab at 0x7fc1812f08d0>,\n",
       " 'eddie_murphy': <gensim.models.keyedvectors.Vocab at 0x7fc1812f0908>,\n",
       " 'michael_douglas': <gensim.models.keyedvectors.Vocab at 0x7fc1812f0978>,\n",
       " 'sean_bean': <gensim.models.keyedvectors.Vocab at 0x7fc1812f0940>,\n",
       " 'edison_manufacturing_company': <gensim.models.keyedvectors.Vocab at 0x7fc1812f09e8>,\n",
       " 'bud_spencer': <gensim.models.keyedvectors.Vocab at 0x7fc1812f09b0>,\n",
       " 'frank_capra': <gensim.models.keyedvectors.Vocab at 0x7fc1812f0a20>,\n",
       " 'christopher_lambert': <gensim.models.keyedvectors.Vocab at 0x7fc1812f0a90>,\n",
       " '197010': <gensim.models.keyedvectors.Vocab at 0x7fc1812f0a58>,\n",
       " 'london_film_productions': <gensim.models.keyedvectors.Vocab at 0x7fc1812f0b00>,\n",
       " '200105': <gensim.models.keyedvectors.Vocab at 0x7fc1812f0b38>,\n",
       " '199707': <gensim.models.keyedvectors.Vocab at 0x7fc1812f0be0>,\n",
       " 'bradley_cooper': <gensim.models.keyedvectors.Vocab at 0x7fc1812f0c50>,\n",
       " 'ben_affleck': <gensim.models.keyedvectors.Vocab at 0x7fc1812f0c18>,\n",
       " '198805': <gensim.models.keyedvectors.Vocab at 0x7fc1812f0cf8>,\n",
       " 'myrna_loy': <gensim.models.keyedvectors.Vocab at 0x7fc1812f0cc0>,\n",
       " 'raoul_walsh': <gensim.models.keyedvectors.Vocab at 0x7fc1812f0d30>,\n",
       " '198709': <gensim.models.keyedvectors.Vocab at 0x7fc1812f0da0>,\n",
       " 'daniel_auteuil': <gensim.models.keyedvectors.Vocab at 0x7fc1812f0e10>,\n",
       " 'barbara_hershey': <gensim.models.keyedvectors.Vocab at 0x7fc1812f0dd8>,\n",
       " 'dean_martin': <gensim.models.keyedvectors.Vocab at 0x7fc1812f0e48>,\n",
       " 'juliette_binoche': <gensim.models.keyedvectors.Vocab at 0x7fc1812f0e80>,\n",
       " 'charles_bronson': <gensim.models.keyedvectors.Vocab at 0x7fc1812f0eb8>,\n",
       " '199907': <gensim.models.keyedvectors.Vocab at 0x7fc1812f0f28>,\n",
       " '199602': <gensim.models.keyedvectors.Vocab at 0x7fc1812f0f98>,\n",
       " 'shelley_winters': <gensim.models.keyedvectors.Vocab at 0x7fc1812f0fd0>,\n",
       " '198710': <gensim.models.keyedvectors.Vocab at 0x7fc1812f4080>,\n",
       " 'jeremy_irons': <gensim.models.keyedvectors.Vocab at 0x7fc1812f40b8>,\n",
       " 'ryan_gosling': <gensim.models.keyedvectors.Vocab at 0x7fc1812f40f0>,\n",
       " 'gian_maria_volont': <gensim.models.keyedvectors.Vocab at 0x7fc1812f4128>,\n",
       " '198910': <gensim.models.keyedvectors.Vocab at 0x7fc1812f4198>,\n",
       " 'chris_evans': <gensim.models.keyedvectors.Vocab at 0x7fc1812f41d0>,\n",
       " 'naseeruddin_shah': <gensim.models.keyedvectors.Vocab at 0x7fc1812f4208>,\n",
       " 'sean_astin': <gensim.models.keyedvectors.Vocab at 0x7fc1812f4240>,\n",
       " 'andy_garca': <gensim.models.keyedvectors.Vocab at 0x7fc1812f4278>,\n",
       " 'lance_henriksen': <gensim.models.keyedvectors.Vocab at 0x7fc1812f42b0>,\n",
       " 'francis_ford_coppola': <gensim.models.keyedvectors.Vocab at 0x7fc1812f42e8>,\n",
       " 'john_carpenter': <gensim.models.keyedvectors.Vocab at 0x7fc1812f4320>,\n",
       " 'ray_winstone': <gensim.models.keyedvectors.Vocab at 0x7fc1812f43c8>,\n",
       " 'emily_watson': <gensim.models.keyedvectors.Vocab at 0x7fc1812f4358>,\n",
       " '199110': <gensim.models.keyedvectors.Vocab at 0x7fc1812f4400>,\n",
       " 'toms_milin': <gensim.models.keyedvectors.Vocab at 0x7fc1812f4438>,\n",
       " 'frank_sinatra': <gensim.models.keyedvectors.Vocab at 0x7fc1812f4470>,\n",
       " 'jerry_lewis': <gensim.models.keyedvectors.Vocab at 0x7fc1812f44a8>,\n",
       " 'walt_disney': <gensim.models.keyedvectors.Vocab at 0x7fc1812f4518>,\n",
       " '199304': <gensim.models.keyedvectors.Vocab at 0x7fc1812f44e0>,\n",
       " 'john_leguizamo': <gensim.models.keyedvectors.Vocab at 0x7fc1812f4588>,\n",
       " 'sophia_loren': <gensim.models.keyedvectors.Vocab at 0x7fc1812f45f8>,\n",
       " 'clive_owen': <gensim.models.keyedvectors.Vocab at 0x7fc1812f45c0>,\n",
       " 'radha_mitchell': <gensim.models.keyedvectors.Vocab at 0x7fc1812f4630>,\n",
       " 'steve_martin': <gensim.models.keyedvectors.Vocab at 0x7fc1812f4668>,\n",
       " 'michael_apted': <gensim.models.keyedvectors.Vocab at 0x7fc1812f46a0>,\n",
       " 'martin_landau': <gensim.models.keyedvectors.Vocab at 0x7fc1812f46d8>,\n",
       " '198711': <gensim.models.keyedvectors.Vocab at 0x7fc1812f4780>,\n",
       " 'william_a_wellman': <gensim.models.keyedvectors.Vocab at 0x7fc1812f4748>,\n",
       " 'danny_trejo': <gensim.models.keyedvectors.Vocab at 0x7fc1812f47b8>,\n",
       " 'claudia_cardinale': <gensim.models.keyedvectors.Vocab at 0x7fc1812f4828>,\n",
       " 'mia_farrow': <gensim.models.keyedvectors.Vocab at 0x7fc1812f47f0>,\n",
       " 'anne_heche': <gensim.models.keyedvectors.Vocab at 0x7fc1812f4860>,\n",
       " 'paul_walker': <gensim.models.keyedvectors.Vocab at 0x7fc1812f48d0>,\n",
       " 'anjelica_huston': <gensim.models.keyedvectors.Vocab at 0x7fc1812f4898>,\n",
       " 'richard_burton': <gensim.models.keyedvectors.Vocab at 0x7fc1812f4908>,\n",
       " '199411': <gensim.models.keyedvectors.Vocab at 0x7fc1812f49b0>,\n",
       " 'wild_bunch': <gensim.models.keyedvectors.Vocab at 0x7fc1812f4978>,\n",
       " '198608': <gensim.models.keyedvectors.Vocab at 0x7fc1812f4a58>,\n",
       " 'stephen_rea': <gensim.models.keyedvectors.Vocab at 0x7fc1812f4a20>,\n",
       " 'ralph_fiennes': <gensim.models.keyedvectors.Vocab at 0x7fc1812f4a90>,\n",
       " 'george_cukor': <gensim.models.keyedvectors.Vocab at 0x7fc1812f4ac8>,\n",
       " '199002': <gensim.models.keyedvectors.Vocab at 0x7fc1812f4b38>,\n",
       " 'john_heard': <gensim.models.keyedvectors.Vocab at 0x7fc1812f4ba8>,\n",
       " 'billy_bob_thornton': <gensim.models.keyedvectors.Vocab at 0x7fc1812f4b70>,\n",
       " 'barbara_hale': <gensim.models.keyedvectors.Vocab at 0x7fc1812f4be0>,\n",
       " 'dan_aykroyd': <gensim.models.keyedvectors.Vocab at 0x7fc1812f4c18>,\n",
       " '198001': <gensim.models.keyedvectors.Vocab at 0x7fc1812f4c88>,\n",
       " '197110': <gensim.models.keyedvectors.Vocab at 0x7fc1812f4cf8>,\n",
       " 'robert_forster': <gensim.models.keyedvectors.Vocab at 0x7fc1812f4d30>,\n",
       " 'salman_khan': <gensim.models.keyedvectors.Vocab at 0x7fc1812f4d68>,\n",
       " 'russell_crowe': <gensim.models.keyedvectors.Vocab at 0x7fc1812f4da0>,\n",
       " '1925': <gensim.models.keyedvectors.Vocab at 0x7fc1812f4e48>,\n",
       " 'vittorio_de_sica': <gensim.models.keyedvectors.Vocab at 0x7fc1812f4e10>,\n",
       " 'basil_rathbone': <gensim.models.keyedvectors.Vocab at 0x7fc1812f4e80>,\n",
       " 'miranda_richardson': <gensim.models.keyedvectors.Vocab at 0x7fc1812f4ef0>,\n",
       " 'richard_attenborough': <gensim.models.keyedvectors.Vocab at 0x7fc1812f4eb8>,\n",
       " '198909': <gensim.models.keyedvectors.Vocab at 0x7fc1812f4f60>,\n",
       " 'alan_arkin': <gensim.models.keyedvectors.Vocab at 0x7fc1812f4f98>,\n",
       " 'jodie_foster': <gensim.models.keyedvectors.Vocab at 0x7fc1812f8048>,\n",
       " 'lakeshore_entertainment': <gensim.models.keyedvectors.Vocab at 0x7fc1812f4fd0>,\n",
       " 'channing_tatum': <gensim.models.keyedvectors.Vocab at 0x7fc1812f8080>,\n",
       " 'arnold_schwarzenegger': <gensim.models.keyedvectors.Vocab at 0x7fc1812f80b8>,\n",
       " 'jeff_daniels': <gensim.models.keyedvectors.Vocab at 0x7fc1812f80f0>,\n",
       " 'michael_biehn': <gensim.models.keyedvectors.Vocab at 0x7fc1812f8128>,\n",
       " 'peter_sellers': <gensim.models.keyedvectors.Vocab at 0x7fc1812f8160>,\n",
       " '196612': <gensim.models.keyedvectors.Vocab at 0x7fc1812f8208>,\n",
       " 'debbie_reynolds': <gensim.models.keyedvectors.Vocab at 0x7fc1812f81d0>,\n",
       " 'tony_curtis': <gensim.models.keyedvectors.Vocab at 0x7fc1812f8278>,\n",
       " 'vittorio_gassman': <gensim.models.keyedvectors.Vocab at 0x7fc1812f8240>,\n",
       " 'richard_thorpe': <gensim.models.keyedvectors.Vocab at 0x7fc1812f82e8>,\n",
       " 'barry_levinson': <gensim.models.keyedvectors.Vocab at 0x7fc1812f82b0>,\n",
       " 'paolo_villaggio': <gensim.models.keyedvectors.Vocab at 0x7fc1812f8320>,\n",
       " 'steve_coogan': <gensim.models.keyedvectors.Vocab at 0x7fc1812f8358>,\n",
       " '198708': <gensim.models.keyedvectors.Vocab at 0x7fc1812f83c8>,\n",
       " 'john_turturro': <gensim.models.keyedvectors.Vocab at 0x7fc1812f8400>,\n",
       " 'matthew_modine': <gensim.models.keyedvectors.Vocab at 0x7fc1812f8470>,\n",
       " '197012': <gensim.models.keyedvectors.Vocab at 0x7fc1812f8438>,\n",
       " 'richard_fleischer': <gensim.models.keyedvectors.Vocab at 0x7fc1812f84e0>,\n",
       " '198110': <gensim.models.keyedvectors.Vocab at 0x7fc1812f8550>,\n",
       " 'sharon_stone': <gensim.models.keyedvectors.Vocab at 0x7fc1812f8588>,\n",
       " 'claudette_colbert': <gensim.models.keyedvectors.Vocab at 0x7fc1812f85c0>,\n",
       " 'bg': <gensim.models.keyedvectors.Vocab at 0x7fc1812f8668>,\n",
       " 'jon_voight': <gensim.models.keyedvectors.Vocab at 0x7fc1812f8630>,\n",
       " 'christopher_lloyd': <gensim.models.keyedvectors.Vocab at 0x7fc1812f86a0>,\n",
       " 'ml': <gensim.models.keyedvectors.Vocab at 0x7fc1812f8710>,\n",
       " 'toei_animation': <gensim.models.keyedvectors.Vocab at 0x7fc1812f8748>,\n",
       " 'steve_guttenberg': <gensim.models.keyedvectors.Vocab at 0x7fc1812f87b8>,\n",
       " '199604': <gensim.models.keyedvectors.Vocab at 0x7fc1812f8780>,\n",
       " 'sissy_spacek': <gensim.models.keyedvectors.Vocab at 0x7fc1812f8828>,\n",
       " 'robert_wise': <gensim.models.keyedvectors.Vocab at 0x7fc1812f8860>,\n",
       " 'ajay_devgn': <gensim.models.keyedvectors.Vocab at 0x7fc1812f8898>,\n",
       " '198210': <gensim.models.keyedvectors.Vocab at 0x7fc1812f8908>,\n",
       " 'joe_mantegna': <gensim.models.keyedvectors.Vocab at 0x7fc1812f8940>,\n",
       " 'michael_rapaport': <gensim.models.keyedvectors.Vocab at 0x7fc1812f8978>,\n",
       " '198605': <gensim.models.keyedvectors.Vocab at 0x7fc1812f8a20>,\n",
       " 'billy_zane': <gensim.models.keyedvectors.Vocab at 0x7fc1812f89e8>,\n",
       " '196401': <gensim.models.keyedvectors.Vocab at 0x7fc1812f8a90>,\n",
       " 'france_3_cinma': <gensim.models.keyedvectors.Vocab at 0x7fc1812f8ac8>,\n",
       " '199407': <gensim.models.keyedvectors.Vocab at 0x7fc1812f8b70>,\n",
       " '199702': <gensim.models.keyedvectors.Vocab at 0x7fc1812f8b38>,\n",
       " '1924': <gensim.models.keyedvectors.Vocab at 0x7fc1812f8be0>,\n",
       " '198904': <gensim.models.keyedvectors.Vocab at 0x7fc1812f8c88>,\n",
       " 'george_c_scott': <gensim.models.keyedvectors.Vocab at 0x7fc1812f8cf8>,\n",
       " 'albert_finney': <gensim.models.keyedvectors.Vocab at 0x7fc1812f8cc0>,\n",
       " 'oliver_reed': <gensim.models.keyedvectors.Vocab at 0x7fc1812f8d30>,\n",
       " '200007': <gensim.models.keyedvectors.Vocab at 0x7fc1812f8da0>,\n",
       " 'katharine_hepburn': <gensim.models.keyedvectors.Vocab at 0x7fc1812f8dd8>,\n",
       " '197801': <gensim.models.keyedvectors.Vocab at 0x7fc1812f8e48>,\n",
       " 'stephen_frears': <gensim.models.keyedvectors.Vocab at 0x7fc1812f8e80>,\n",
       " 'sydney_pollack': <gensim.models.keyedvectors.Vocab at 0x7fc1812f8eb8>,\n",
       " '199906': <gensim.models.keyedvectors.Vocab at 0x7fc1812f8f28>,\n",
       " 'raymond_burr': <gensim.models.keyedvectors.Vocab at 0x7fc1812f8f60>,\n",
       " 'jason_flemyng': <gensim.models.keyedvectors.Vocab at 0x7fc1812f8f98>,\n",
       " '199807': <gensim.models.keyedvectors.Vocab at 0x7fc18127c048>,\n",
       " 'netflix': <gensim.models.keyedvectors.Vocab at 0x7fc18127c0b8>,\n",
       " 'peter_coyote': <gensim.models.keyedvectors.Vocab at 0x7fc18127c0f0>,\n",
       " '199204': <gensim.models.keyedvectors.Vocab at 0x7fc18127c198>,\n",
       " '200107': <gensim.models.keyedvectors.Vocab at 0x7fc18127c160>,\n",
       " 'campbell_scott': <gensim.models.keyedvectors.Vocab at 0x7fc18127c208>,\n",
       " 'michael_madsen': <gensim.models.keyedvectors.Vocab at 0x7fc18127c2b0>,\n",
       " 'tim_burton': <gensim.models.keyedvectors.Vocab at 0x7fc18127c240>,\n",
       " '199503': <gensim.models.keyedvectors.Vocab at 0x7fc18127c320>,\n",
       " '199806': <gensim.models.keyedvectors.Vocab at 0x7fc18127c2e8>,\n",
       " '197912': <gensim.models.keyedvectors.Vocab at 0x7fc18127c3c8>,\n",
       " 'dirk_bogarde': <gensim.models.keyedvectors.Vocab at 0x7fc18127c400>,\n",
       " 'walter_pidgeon': <gensim.models.keyedvectors.Vocab at 0x7fc18127c438>,\n",
       " '199606': <gensim.models.keyedvectors.Vocab at 0x7fc18127c4e0>,\n",
       " '199402': <gensim.models.keyedvectors.Vocab at 0x7fc18127c4a8>,\n",
       " 'denis_leary': <gensim.models.keyedvectors.Vocab at 0x7fc18127c550>,\n",
       " 'mathieu_amalric': <gensim.models.keyedvectors.Vocab at 0x7fc18127c588>,\n",
       " 'ray_liotta': <gensim.models.keyedvectors.Vocab at 0x7fc18127c5f8>,\n",
       " 'dana_andrews': <gensim.models.keyedvectors.Vocab at 0x7fc18127c5c0>,\n",
       " 'judy_greer': <gensim.models.keyedvectors.Vocab at 0x7fc18127c668>,\n",
       " 'helena_bonham_carter': <gensim.models.keyedvectors.Vocab at 0x7fc18127c630>,\n",
       " 'rainer_werner_fassbinder': <gensim.models.keyedvectors.Vocab at 0x7fc18127c6d8>,\n",
       " 'elijah_wood': <gensim.models.keyedvectors.Vocab at 0x7fc18127c6a0>,\n",
       " 'charles_laughton': <gensim.models.keyedvectors.Vocab at 0x7fc18127c710>,\n",
       " 'michael_keaton': <gensim.models.keyedvectors.Vocab at 0x7fc18127c748>,\n",
       " 'leonard_nimoy': <gensim.models.keyedvectors.Vocab at 0x7fc18127c7f0>,\n",
       " 'whoopi_goldberg': <gensim.models.keyedvectors.Vocab at 0x7fc18127c780>,\n",
       " 'liv_ullmann': <gensim.models.keyedvectors.Vocab at 0x7fc18127c7b8>,\n",
       " 'udo_kier': <gensim.models.keyedvectors.Vocab at 0x7fc18127c860>,\n",
       " ...}"
      ]
     },
     "execution_count": 89,
     "metadata": {},
     "output_type": "execute_result"
    }
   ],
   "source": [
    "model.vocab"
   ]
  },
  {
   "cell_type": "markdown",
   "metadata": {},
   "source": [
    "# Operations on the vectors"
   ]
  },
  {
   "cell_type": "markdown",
   "metadata": {},
   "source": [
    "Vectors generated by EmbDI can be used to carry out interesting geometric operations that rely on the geometric features of the vector space. We show here some examples. "
   ]
  },
  {
   "cell_type": "code",
   "execution_count": 99,
   "metadata": {
    "collapsed": true,
    "jupyter": {
     "outputs_hidden": true
    }
   },
   "outputs": [
    {
     "ename": "FileNotFoundError",
     "evalue": "[Errno 2] No such file or directory: 'pipeline/experiments/movielens-demo-noidx.emb'",
     "output_type": "error",
     "traceback": [
      "\u001b[0;31m---------------------------------------------------------------------------\u001b[0m",
      "\u001b[0;31mFileNotFoundError\u001b[0m                         Traceback (most recent call last)",
      "\u001b[0;32m<ipython-input-99-0d4de5b3c4c0>\u001b[0m in \u001b[0;36m<module>\u001b[0;34m\u001b[0m\n\u001b[1;32m      1\u001b[0m \u001b[0;31m# model_file = 'pipeline/embeddings/movielens-demo.embs'\u001b[0m\u001b[0;34m\u001b[0m\u001b[0;34m\u001b[0m\u001b[0;34m\u001b[0m\u001b[0m\n\u001b[1;32m      2\u001b[0m \u001b[0mmodel_file\u001b[0m \u001b[0;34m=\u001b[0m \u001b[0;34m'pipeline/experiments/movielens-demo-noidx.emb'\u001b[0m\u001b[0;34m\u001b[0m\u001b[0;34m\u001b[0m\u001b[0m\n\u001b[0;32m----> 3\u001b[0;31m \u001b[0mmodel\u001b[0m \u001b[0;34m=\u001b[0m \u001b[0mmodels\u001b[0m\u001b[0;34m.\u001b[0m\u001b[0mKeyedVectors\u001b[0m\u001b[0;34m.\u001b[0m\u001b[0mload_word2vec_format\u001b[0m\u001b[0;34m(\u001b[0m\u001b[0mmodel_file\u001b[0m\u001b[0;34m,\u001b[0m \u001b[0municode_errors\u001b[0m\u001b[0;34m=\u001b[0m\u001b[0;34m'ignore'\u001b[0m\u001b[0;34m)\u001b[0m\u001b[0;34m\u001b[0m\u001b[0;34m\u001b[0m\u001b[0m\n\u001b[0m\u001b[1;32m      4\u001b[0m \u001b[0mdf\u001b[0m \u001b[0;34m=\u001b[0m \u001b[0mpd\u001b[0m\u001b[0;34m.\u001b[0m\u001b[0mread_csv\u001b[0m\u001b[0;34m(\u001b[0m\u001b[0;34m'pipeline/datasets/imdb_movielens/movielens_nospace.csv'\u001b[0m\u001b[0;34m)\u001b[0m\u001b[0;34m\u001b[0m\u001b[0;34m\u001b[0m\u001b[0m\n",
      "\u001b[0;32m~/anaconda3/lib/python3.7/site-packages/gensim/models/keyedvectors.py\u001b[0m in \u001b[0;36mload_word2vec_format\u001b[0;34m(cls, fname, fvocab, binary, encoding, unicode_errors, limit, datatype)\u001b[0m\n\u001b[1;32m   1496\u001b[0m         return _load_word2vec_format(\n\u001b[1;32m   1497\u001b[0m             \u001b[0mcls\u001b[0m\u001b[0;34m,\u001b[0m \u001b[0mfname\u001b[0m\u001b[0;34m,\u001b[0m \u001b[0mfvocab\u001b[0m\u001b[0;34m=\u001b[0m\u001b[0mfvocab\u001b[0m\u001b[0;34m,\u001b[0m \u001b[0mbinary\u001b[0m\u001b[0;34m=\u001b[0m\u001b[0mbinary\u001b[0m\u001b[0;34m,\u001b[0m \u001b[0mencoding\u001b[0m\u001b[0;34m=\u001b[0m\u001b[0mencoding\u001b[0m\u001b[0;34m,\u001b[0m \u001b[0municode_errors\u001b[0m\u001b[0;34m=\u001b[0m\u001b[0municode_errors\u001b[0m\u001b[0;34m,\u001b[0m\u001b[0;34m\u001b[0m\u001b[0;34m\u001b[0m\u001b[0m\n\u001b[0;32m-> 1498\u001b[0;31m             limit=limit, datatype=datatype)\n\u001b[0m\u001b[1;32m   1499\u001b[0m \u001b[0;34m\u001b[0m\u001b[0m\n\u001b[1;32m   1500\u001b[0m     \u001b[0;32mdef\u001b[0m \u001b[0mget_keras_embedding\u001b[0m\u001b[0;34m(\u001b[0m\u001b[0mself\u001b[0m\u001b[0;34m,\u001b[0m \u001b[0mtrain_embeddings\u001b[0m\u001b[0;34m=\u001b[0m\u001b[0;32mFalse\u001b[0m\u001b[0;34m)\u001b[0m\u001b[0;34m:\u001b[0m\u001b[0;34m\u001b[0m\u001b[0;34m\u001b[0m\u001b[0m\n",
      "\u001b[0;32m~/anaconda3/lib/python3.7/site-packages/gensim/models/utils_any2vec.py\u001b[0m in \u001b[0;36m_load_word2vec_format\u001b[0;34m(cls, fname, fvocab, binary, encoding, unicode_errors, limit, datatype)\u001b[0m\n\u001b[1;32m    340\u001b[0m \u001b[0;34m\u001b[0m\u001b[0m\n\u001b[1;32m    341\u001b[0m     \u001b[0mlogger\u001b[0m\u001b[0;34m.\u001b[0m\u001b[0minfo\u001b[0m\u001b[0;34m(\u001b[0m\u001b[0;34m\"loading projection weights from %s\"\u001b[0m\u001b[0;34m,\u001b[0m \u001b[0mfname\u001b[0m\u001b[0;34m)\u001b[0m\u001b[0;34m\u001b[0m\u001b[0;34m\u001b[0m\u001b[0m\n\u001b[0;32m--> 342\u001b[0;31m     \u001b[0;32mwith\u001b[0m \u001b[0mutils\u001b[0m\u001b[0;34m.\u001b[0m\u001b[0mopen\u001b[0m\u001b[0;34m(\u001b[0m\u001b[0mfname\u001b[0m\u001b[0;34m,\u001b[0m \u001b[0;34m'rb'\u001b[0m\u001b[0;34m)\u001b[0m \u001b[0;32mas\u001b[0m \u001b[0mfin\u001b[0m\u001b[0;34m:\u001b[0m\u001b[0;34m\u001b[0m\u001b[0;34m\u001b[0m\u001b[0m\n\u001b[0m\u001b[1;32m    343\u001b[0m         \u001b[0mheader\u001b[0m \u001b[0;34m=\u001b[0m \u001b[0mutils\u001b[0m\u001b[0;34m.\u001b[0m\u001b[0mto_unicode\u001b[0m\u001b[0;34m(\u001b[0m\u001b[0mfin\u001b[0m\u001b[0;34m.\u001b[0m\u001b[0mreadline\u001b[0m\u001b[0;34m(\u001b[0m\u001b[0;34m)\u001b[0m\u001b[0;34m,\u001b[0m \u001b[0mencoding\u001b[0m\u001b[0;34m=\u001b[0m\u001b[0mencoding\u001b[0m\u001b[0;34m)\u001b[0m\u001b[0;34m\u001b[0m\u001b[0;34m\u001b[0m\u001b[0m\n\u001b[1;32m    344\u001b[0m         \u001b[0mvocab_size\u001b[0m\u001b[0;34m,\u001b[0m \u001b[0mvector_size\u001b[0m \u001b[0;34m=\u001b[0m \u001b[0;34m(\u001b[0m\u001b[0mint\u001b[0m\u001b[0;34m(\u001b[0m\u001b[0mx\u001b[0m\u001b[0;34m)\u001b[0m \u001b[0;32mfor\u001b[0m \u001b[0mx\u001b[0m \u001b[0;32min\u001b[0m \u001b[0mheader\u001b[0m\u001b[0;34m.\u001b[0m\u001b[0msplit\u001b[0m\u001b[0;34m(\u001b[0m\u001b[0;34m)\u001b[0m\u001b[0;34m)\u001b[0m  \u001b[0;31m# throws for invalid file format\u001b[0m\u001b[0;34m\u001b[0m\u001b[0;34m\u001b[0m\u001b[0m\n",
      "\u001b[0;32m~/anaconda3/lib/python3.7/site-packages/smart_open/smart_open_lib.py\u001b[0m in \u001b[0;36mopen\u001b[0;34m(uri, mode, buffering, encoding, errors, newline, closefd, opener, ignore_ext, transport_params)\u001b[0m\n\u001b[1;32m    187\u001b[0m         \u001b[0mbuffering\u001b[0m\u001b[0;34m=\u001b[0m\u001b[0mbuffering\u001b[0m\u001b[0;34m,\u001b[0m\u001b[0;34m\u001b[0m\u001b[0;34m\u001b[0m\u001b[0m\n\u001b[1;32m    188\u001b[0m         \u001b[0mencoding\u001b[0m\u001b[0;34m=\u001b[0m\u001b[0mencoding\u001b[0m\u001b[0;34m,\u001b[0m\u001b[0;34m\u001b[0m\u001b[0;34m\u001b[0m\u001b[0m\n\u001b[0;32m--> 189\u001b[0;31m         \u001b[0merrors\u001b[0m\u001b[0;34m=\u001b[0m\u001b[0merrors\u001b[0m\u001b[0;34m,\u001b[0m\u001b[0;34m\u001b[0m\u001b[0;34m\u001b[0m\u001b[0m\n\u001b[0m\u001b[1;32m    190\u001b[0m     )\n\u001b[1;32m    191\u001b[0m     \u001b[0;32mif\u001b[0m \u001b[0mfobj\u001b[0m \u001b[0;32mis\u001b[0m \u001b[0;32mnot\u001b[0m \u001b[0;32mNone\u001b[0m\u001b[0;34m:\u001b[0m\u001b[0;34m\u001b[0m\u001b[0;34m\u001b[0m\u001b[0m\n",
      "\u001b[0;32m~/anaconda3/lib/python3.7/site-packages/smart_open/smart_open_lib.py\u001b[0m in \u001b[0;36m_shortcut_open\u001b[0;34m(uri, mode, ignore_ext, buffering, encoding, errors)\u001b[0m\n\u001b[1;32m    360\u001b[0m         \u001b[0mopen_kwargs\u001b[0m\u001b[0;34m[\u001b[0m\u001b[0;34m'errors'\u001b[0m\u001b[0;34m]\u001b[0m \u001b[0;34m=\u001b[0m \u001b[0merrors\u001b[0m\u001b[0;34m\u001b[0m\u001b[0;34m\u001b[0m\u001b[0m\n\u001b[1;32m    361\u001b[0m \u001b[0;34m\u001b[0m\u001b[0m\n\u001b[0;32m--> 362\u001b[0;31m     \u001b[0;32mreturn\u001b[0m \u001b[0m_builtin_open\u001b[0m\u001b[0;34m(\u001b[0m\u001b[0mlocal_path\u001b[0m\u001b[0;34m,\u001b[0m \u001b[0mmode\u001b[0m\u001b[0;34m,\u001b[0m \u001b[0mbuffering\u001b[0m\u001b[0;34m=\u001b[0m\u001b[0mbuffering\u001b[0m\u001b[0;34m,\u001b[0m \u001b[0;34m**\u001b[0m\u001b[0mopen_kwargs\u001b[0m\u001b[0;34m)\u001b[0m\u001b[0;34m\u001b[0m\u001b[0;34m\u001b[0m\u001b[0m\n\u001b[0m\u001b[1;32m    363\u001b[0m \u001b[0;34m\u001b[0m\u001b[0m\n\u001b[1;32m    364\u001b[0m \u001b[0;34m\u001b[0m\u001b[0m\n",
      "\u001b[0;31mFileNotFoundError\u001b[0m: [Errno 2] No such file or directory: 'pipeline/experiments/movielens-demo-noidx.emb'"
     ]
    }
   ],
   "source": [
    "# model_file = 'pipeline/embeddings/movielens-demo.embs'\n",
    "model_file = 'pipeline/experiments/movielens-demo-noidx.emb'\n",
    "model = models.KeyedVectors.load_word2vec_format(model_file, unicode_errors='ignore')\n",
    "df = pd.read_csv('pipeline/datasets/imdb_movielens/movielens_nospace.csv')"
   ]
  },
  {
   "cell_type": "code",
   "execution_count": 140,
   "metadata": {},
   "outputs": [],
   "source": [
    "model_file = 'pipeline/embeddings/imdb_movielens-demo-noidx.embs'\n",
    "model = models.KeyedVectors.load_word2vec_format(model_file, unicode_errors='ignore')\n",
    "df = pd.read_csv('pipeline/datasets/imdb_movielens/imdb_movielens-master.csv')"
   ]
  },
  {
   "cell_type": "markdown",
   "metadata": {},
   "source": [
    "## Odd one out"
   ]
  },
  {
   "cell_type": "markdown",
   "metadata": {},
   "source": [
    "An interesting test consists in showing whether the connection between tokens that are related to each other is stronger than the connection between tokens belonging to the same attribute. For example, it would be interesting to see if movies that share the director or main actor are closer to each other than to other, unrelated movies.\n",
    "\n",
    "The two cells below show this situation with Steven Spielberg and Tom Hanks: Steven Spielberg did not direct First Blood, and Tom Hanks did not star in Pulp Fiction. "
   ]
  },
  {
   "cell_type": "code",
   "execution_count": 275,
   "metadata": {},
   "outputs": [
    {
     "name": "stdout",
     "output_type": "stream",
     "text": [
      "Given the tokens: steven spielberg, jaws, the color purple, close encounters of the third kind, first blood\n",
      "The odd one out is: first blood\n"
     ]
    }
   ],
   "source": [
    "quiz = ['steven_spielberg', 'jaws', 'the_color_purple', 'close_encounters_of_the_third_kind', 'first_blood']\n",
    "res = model.doesnt_match(quiz)\n",
    "print('Given the tokens: ' + ', '.join([_.replace('_', ' ') for _ in quiz]))\n",
    "print('The odd one out is: {}'.format(res.replace('_', ' ')))"
   ]
  },
  {
   "cell_type": "code",
   "execution_count": 276,
   "metadata": {},
   "outputs": [
    {
     "name": "stdout",
     "output_type": "stream",
     "text": [
      "Given the tokens: tom hanks, saving private ryan, toy story, philadelphia, pulp fiction\n",
      "The odd one out is: pulp fiction\n"
     ]
    }
   ],
   "source": [
    "quiz = ['tom_hanks', 'saving_private_ryan', 'toy_story', 'philadelphia', 'pulp_fiction']\n",
    "res = model.doesnt_match(quiz)\n",
    "print('Given the tokens: ' + ', '.join([_.replace('_', ' ') for _ in quiz]))\n",
    "print('The odd one out is: {}'.format(res.replace('_', ' ')))"
   ]
  },
  {
   "cell_type": "code",
   "execution_count": 207,
   "metadata": {},
   "outputs": [
    {
     "name": "stdout",
     "output_type": "stream",
     "text": [
      "Given the tokens: quentin tarantino, reservoir dogs, django unchained, pulp fiction, jaws\n",
      "The odd one out is: jaws\n"
     ]
    }
   ],
   "source": [
    "quiz = ['quentin_tarantino', 'reservoir_dogs', 'django_unchained', 'pulp_fiction', 'jaws']\n",
    "res = model.doesnt_match(quiz)\n",
    "print('Given the tokens: ' + ', '.join([_.replace('_', ' ') for _ in quiz]))\n",
    "print('The odd one out is: {}'.format(res.replace('_', ' ')))"
   ]
  },
  {
   "cell_type": "code",
   "execution_count": 248,
   "metadata": {},
   "outputs": [
    {
     "name": "stdout",
     "output_type": "stream",
     "text": [
      "Given the tokens: reservoir dogs, django unchained, pulp fiction, michael douglas\n",
      "The odd one out is: michael douglas\n"
     ]
    },
    {
     "name": "stderr",
     "output_type": "stream",
     "text": [
      "/home/spoutnik23/anaconda3/lib/python3.7/site-packages/gensim/models/keyedvectors.py:877: FutureWarning:\n",
      "\n",
      "arrays to stack must be passed as a \"sequence\" type such as list or tuple. Support for non-sequence iterables such as generators is deprecated as of NumPy 1.16 and will raise an error in the future.\n",
      "\n"
     ]
    }
   ],
   "source": [
    "quiz = ['reservoir_dogs', 'django_unchained', 'pulp_fiction', 'michael_douglas']\n",
    "res = model.doesnt_match(quiz)\n",
    "print('Given the tokens: ' + ', '.join([_.replace('_', ' ') for _ in quiz]))\n",
    "print('The odd one out is: {}'.format(res.replace('_', ' ')))"
   ]
  },
  {
   "cell_type": "markdown",
   "metadata": {},
   "source": [
    "## Querying with embeddings "
   ]
  },
  {
   "cell_type": "markdown",
   "metadata": {},
   "source": [
    "The geometric properties of the embeddings can be further exploited by performing algebraic operations using the vectors: by combining the vectors of an entity, it is possible to find entities related to it, similarly to the following example.\n",
    "\n",
    "To find movies by director Quentin Tarantino, it is possible to add to the vector of \"quentin_tarantino\" the vector \"title\", subtracting \"director\". As a result, a collection of movies involving Tarantino is returned. "
   ]
  },
  {
   "cell_type": "code",
   "execution_count": 141,
   "metadata": {},
   "outputs": [
    {
     "name": "stdout",
     "output_type": "stream",
     "text": [
      "             quentin_tarantino       0.71\n",
      "               kill_bill_vol_2       0.52\n",
      "               kill_bill_vol_1       0.52\n",
      "                  pulp_fiction       0.50\n",
      "           from_dusk_till_dawn       0.49\n",
      "                         title       0.48\n",
      "              django_unchained       0.48\n",
      "                reservoir_dogs       0.48\n",
      "             the_hateful_eight       0.48\n",
      "                    grindhouse       0.48\n",
      "          inglourious_basterds       0.47\n",
      "                   double_dare       0.47\n",
      "                  jackie_brown       0.46\n",
      "      my_best_friends_birthday       0.45\n",
      "z_channel_a_magnificent_obsession       0.42\n"
     ]
    }
   ],
   "source": [
    "v1 = model.get_vector('quentin_tarantino')\n",
    "v2 = model.get_vector('title')\n",
    "v3 = model.get_vector('director')\n",
    "\n",
    "v_res = v1 + v2 - v3\n",
    "res = print_most_similar(model, v_res, topn=50)\n",
    "pprint_sim(res)"
   ]
  },
  {
   "cell_type": "code",
   "execution_count": 201,
   "metadata": {},
   "outputs": [
    {
     "name": "stdout",
     "output_type": "stream",
     "text": [
      "                                                      steven_spielberg       0.73\n",
      "                                               raiders_of_the_lost_ark       0.53\n",
      "                                                         jurassic_park       0.51\n",
      "                                                                 title       0.51\n",
      "                                                      the_color_purple       0.50\n",
      "                                    close_encounters_of_the_third_kind       0.49\n",
      "                                                                  jaws       0.49\n",
      "                                                             war_horse       0.48\n",
      "                                                          the_terminal       0.48\n",
      "                                    indiana_jones_and_the_last_crusade       0.47\n",
      "                                                         night_gallery       0.46\n",
      "                                                   saving_private_ryan       0.46\n",
      "                                                  voices_from_the_list       0.46\n",
      "                    indiana_jones_and_the_kingdom_of_the_crystal_skull       0.45\n",
      "                                          the_lost_world_jurassic_park       0.45\n"
     ]
    }
   ],
   "source": [
    "v1 = model.get_vector('steven_spielberg')\n",
    "v2 = model.get_vector('title')\n",
    "v3 = model.get_vector('director')\n",
    "\n",
    "v_res = v1 + v2 - v3\n",
    "res = print_most_similar(model, v_res, topn=50)\n",
    "pprint_sim(res)"
   ]
  },
  {
   "cell_type": "code",
   "execution_count": 142,
   "metadata": {},
   "outputs": [
    {
     "data": {
      "text/html": [
       "<div>\n",
       "<style scoped>\n",
       "    .dataframe tbody tr th:only-of-type {\n",
       "        vertical-align: middle;\n",
       "    }\n",
       "\n",
       "    .dataframe tbody tr th {\n",
       "        vertical-align: top;\n",
       "    }\n",
       "\n",
       "    .dataframe thead th {\n",
       "        text-align: right;\n",
       "    }\n",
       "</style>\n",
       "<table border=\"1\" class=\"dataframe\">\n",
       "  <thead>\n",
       "    <tr style=\"text-align: right;\">\n",
       "      <th></th>\n",
       "      <th>title</th>\n",
       "      <th>director</th>\n",
       "      <th>actor_1</th>\n",
       "      <th>actor_2</th>\n",
       "      <th>actor_3</th>\n",
       "    </tr>\n",
       "  </thead>\n",
       "  <tbody>\n",
       "    <tr>\n",
       "      <th>285</th>\n",
       "      <td>django_unchained</td>\n",
       "      <td>quentin_tarantino</td>\n",
       "      <td>leonardo_dicaprio</td>\n",
       "      <td>christoph_waltz</td>\n",
       "      <td>ato_essandoh</td>\n",
       "    </tr>\n",
       "    <tr>\n",
       "      <th>568</th>\n",
       "      <td>inglourious_basterds</td>\n",
       "      <td>quentin_tarantino</td>\n",
       "      <td>michael_fassbender</td>\n",
       "      <td>brad_pitt</td>\n",
       "      <td>christoph_waltz</td>\n",
       "    </tr>\n",
       "    <tr>\n",
       "      <th>681</th>\n",
       "      <td>the_hateful_eight</td>\n",
       "      <td>quentin_tarantino</td>\n",
       "      <td>craig_stark</td>\n",
       "      <td>jennifer_jason_leigh</td>\n",
       "      <td>zo_bell</td>\n",
       "    </tr>\n",
       "    <tr>\n",
       "      <th>824</th>\n",
       "      <td>kill_bill_vol_1</td>\n",
       "      <td>quentin_tarantino</td>\n",
       "      <td>david_carradine</td>\n",
       "      <td>vivica_a_fox</td>\n",
       "      <td>chiaki_kuriyama</td>\n",
       "    </tr>\n",
       "    <tr>\n",
       "      <th>826</th>\n",
       "      <td>kill_bill_vol_2</td>\n",
       "      <td>quentin_tarantino</td>\n",
       "      <td>vivica_a_fox</td>\n",
       "      <td>michael_parks</td>\n",
       "      <td>michael_bowen</td>\n",
       "    </tr>\n",
       "  </tbody>\n",
       "</table>\n",
       "</div>"
      ],
      "text/plain": [
       "                    title           director             actor_1  \\\n",
       "285      django_unchained  quentin_tarantino   leonardo_dicaprio   \n",
       "568  inglourious_basterds  quentin_tarantino  michael_fassbender   \n",
       "681     the_hateful_eight  quentin_tarantino         craig_stark   \n",
       "824       kill_bill_vol_1  quentin_tarantino     david_carradine   \n",
       "826       kill_bill_vol_2  quentin_tarantino        vivica_a_fox   \n",
       "\n",
       "                  actor_2          actor_3  \n",
       "285       christoph_waltz     ato_essandoh  \n",
       "568             brad_pitt  christoph_waltz  \n",
       "681  jennifer_jason_leigh          zo_bell  \n",
       "824          vivica_a_fox  chiaki_kuriyama  \n",
       "826         michael_parks    michael_bowen  "
      ]
     },
     "metadata": {},
     "output_type": "display_data"
    }
   ],
   "source": [
    "res = [_[0].replace('tt__', '') for _ in res]\n",
    "display(df.loc[df['title'].isin(res), ['title', 'director', 'actor_1', 'actor_2', 'actor_3']].head())"
   ]
  },
  {
   "cell_type": "markdown",
   "metadata": {},
   "source": [
    "It is also possible to find those movies that do not star an actor, for example, as in the following case.\n",
    "\n",
    "We subtract the vector for \"samuel_l._jackson\" from \"quentin_tarantino\", while adding \"title\" to obtain movies by Tarantino that do not star Samuel L. Jackson. "
   ]
  },
  {
   "cell_type": "code",
   "execution_count": 279,
   "metadata": {},
   "outputs": [
    {
     "name": "stdout",
     "output_type": "stream",
     "text": [
      "['quentin_tarantino', 'title', 'from_dusk_till_dawn', 'kill_bill_vol_2', 'double_dare', 'my_best_friends_birthday', 'inglourious_basterds', 'django_unchained', 'reservoir_dogs', 'mean_streets', 'sicko', 'interview_with_the_vampire_the_vampire_chronicles', 'shaun_of_the_dead', 'subconscious', 'kill_bill_vol_1']\n"
     ]
    },
    {
     "data": {
      "text/html": [
       "<div>\n",
       "<style scoped>\n",
       "    .dataframe tbody tr th:only-of-type {\n",
       "        vertical-align: middle;\n",
       "    }\n",
       "\n",
       "    .dataframe tbody tr th {\n",
       "        vertical-align: top;\n",
       "    }\n",
       "\n",
       "    .dataframe thead th {\n",
       "        text-align: right;\n",
       "    }\n",
       "</style>\n",
       "<table border=\"1\" class=\"dataframe\">\n",
       "  <thead>\n",
       "    <tr style=\"text-align: right;\">\n",
       "      <th></th>\n",
       "      <th>title</th>\n",
       "      <th>director</th>\n",
       "      <th>actor_1</th>\n",
       "      <th>actor_2</th>\n",
       "      <th>actor_3</th>\n",
       "    </tr>\n",
       "  </thead>\n",
       "  <tbody>\n",
       "    <tr>\n",
       "      <th>285</th>\n",
       "      <td>django_unchained</td>\n",
       "      <td>quentin_tarantino</td>\n",
       "      <td>leonardo_dicaprio</td>\n",
       "      <td>christoph_waltz</td>\n",
       "      <td>ato_essandoh</td>\n",
       "    </tr>\n",
       "    <tr>\n",
       "      <th>568</th>\n",
       "      <td>inglourious_basterds</td>\n",
       "      <td>quentin_tarantino</td>\n",
       "      <td>michael_fassbender</td>\n",
       "      <td>brad_pitt</td>\n",
       "      <td>christoph_waltz</td>\n",
       "    </tr>\n",
       "    <tr>\n",
       "      <th>824</th>\n",
       "      <td>kill_bill_vol_1</td>\n",
       "      <td>quentin_tarantino</td>\n",
       "      <td>david_carradine</td>\n",
       "      <td>vivica_a_fox</td>\n",
       "      <td>chiaki_kuriyama</td>\n",
       "    </tr>\n",
       "    <tr>\n",
       "      <th>826</th>\n",
       "      <td>kill_bill_vol_2</td>\n",
       "      <td>quentin_tarantino</td>\n",
       "      <td>vivica_a_fox</td>\n",
       "      <td>michael_parks</td>\n",
       "      <td>michael_bowen</td>\n",
       "    </tr>\n",
       "    <tr>\n",
       "      <th>908</th>\n",
       "      <td>interview_with_the_vampire_the_vampire_chronicles</td>\n",
       "      <td>neil_jordan</td>\n",
       "      <td>brad_pitt</td>\n",
       "      <td>tom_cruise</td>\n",
       "      <td>kirsten_dunst</td>\n",
       "    </tr>\n",
       "    <tr>\n",
       "      <th>1237</th>\n",
       "      <td>mean_streets</td>\n",
       "      <td>martin_scorsese</td>\n",
       "      <td>robert_de_niro</td>\n",
       "      <td>david_carradine</td>\n",
       "      <td>david_proval</td>\n",
       "    </tr>\n",
       "    <tr>\n",
       "      <th>2158</th>\n",
       "      <td>from_dusk_till_dawn</td>\n",
       "      <td>robert_rodriguez</td>\n",
       "      <td>quentin_tarantino</td>\n",
       "      <td>salma_hayek</td>\n",
       "      <td>cheech_marin</td>\n",
       "    </tr>\n",
       "    <tr>\n",
       "      <th>3120</th>\n",
       "      <td>sicko</td>\n",
       "      <td>michael_moore</td>\n",
       "      <td>michael_moore</td>\n",
       "      <td>tucker_albrizzi</td>\n",
       "      <td>bill_clinton</td>\n",
       "    </tr>\n",
       "    <tr>\n",
       "      <th>3518</th>\n",
       "      <td>shaun_of_the_dead</td>\n",
       "      <td>edgar_wright</td>\n",
       "      <td>peter_serafinowicz</td>\n",
       "      <td>dylan_moran</td>\n",
       "      <td>rafe_spall</td>\n",
       "    </tr>\n",
       "    <tr>\n",
       "      <th>4145</th>\n",
       "      <td>reservoir_dogs</td>\n",
       "      <td>quentin_tarantino</td>\n",
       "      <td>quentin_tarantino</td>\n",
       "      <td>steve_buscemi</td>\n",
       "      <td>chris_penn</td>\n",
       "    </tr>\n",
       "    <tr>\n",
       "      <th>4351</th>\n",
       "      <td>subconscious</td>\n",
       "      <td>georgia_hilton</td>\n",
       "      <td>mike_beckingham</td>\n",
       "      <td>tim_abell</td>\n",
       "      <td>tom_stedham</td>\n",
       "    </tr>\n",
       "    <tr>\n",
       "      <th>4598</th>\n",
       "      <td>from_dusk_till_dawn</td>\n",
       "      <td>robert_rodriguez</td>\n",
       "      <td>george_clooney</td>\n",
       "      <td>quentin_tarantino</td>\n",
       "      <td>harvey_keitel</td>\n",
       "    </tr>\n",
       "    <tr>\n",
       "      <th>5584</th>\n",
       "      <td>reservoir_dogs</td>\n",
       "      <td>quentin_tarantino</td>\n",
       "      <td>harvey_keitel</td>\n",
       "      <td>tim_roth</td>\n",
       "      <td>michael_madsen</td>\n",
       "    </tr>\n",
       "    <tr>\n",
       "      <th>11248</th>\n",
       "      <td>kill_bill_vol_1</td>\n",
       "      <td>quentin_tarantino</td>\n",
       "      <td>uma_thurman</td>\n",
       "      <td>lucy_liu</td>\n",
       "      <td>vivica_a_fox</td>\n",
       "    </tr>\n",
       "    <tr>\n",
       "      <th>11794</th>\n",
       "      <td>kill_bill_vol_2</td>\n",
       "      <td>quentin_tarantino</td>\n",
       "      <td>uma_thurman</td>\n",
       "      <td>david_carradine</td>\n",
       "      <td>daryl_hannah</td>\n",
       "    </tr>\n",
       "    <tr>\n",
       "      <th>12112</th>\n",
       "      <td>mean_streets</td>\n",
       "      <td>martin_scorsese</td>\n",
       "      <td>harvey_keitel</td>\n",
       "      <td>robert_de_niro</td>\n",
       "      <td>david_proval</td>\n",
       "    </tr>\n",
       "    <tr>\n",
       "      <th>12670</th>\n",
       "      <td>shaun_of_the_dead</td>\n",
       "      <td>edgar_wright</td>\n",
       "      <td>simon_pegg</td>\n",
       "      <td>nick_frost</td>\n",
       "      <td>kate_ashfield</td>\n",
       "    </tr>\n",
       "    <tr>\n",
       "      <th>15285</th>\n",
       "      <td>double_dare</td>\n",
       "      <td>amanda_micheli</td>\n",
       "      <td>jeannie_epper</td>\n",
       "      <td>zo_bell</td>\n",
       "      <td>quentin_tarantino</td>\n",
       "    </tr>\n",
       "    <tr>\n",
       "      <th>16432</th>\n",
       "      <td>sicko</td>\n",
       "      <td>michael_moore</td>\n",
       "      <td>michael_moore</td>\n",
       "      <td>george_w_bush</td>\n",
       "      <td>bill_clinton</td>\n",
       "    </tr>\n",
       "    <tr>\n",
       "      <th>18124</th>\n",
       "      <td>inglourious_basterds</td>\n",
       "      <td>quentin_tarantino</td>\n",
       "      <td>brad_pitt</td>\n",
       "      <td>mlanie_laurent</td>\n",
       "      <td>christoph_waltz</td>\n",
       "    </tr>\n",
       "    <tr>\n",
       "      <th>24555</th>\n",
       "      <td>django_unchained</td>\n",
       "      <td>quentin_tarantino</td>\n",
       "      <td>jamie_foxx</td>\n",
       "      <td>christoph_waltz</td>\n",
       "      <td>leonardo_dicaprio</td>\n",
       "    </tr>\n",
       "    <tr>\n",
       "      <th>45678</th>\n",
       "      <td>my_best_friends_birthday</td>\n",
       "      <td>quentin_tarantino</td>\n",
       "      <td>quentin_tarantino</td>\n",
       "      <td>allen_garfield</td>\n",
       "      <td>craig_hamann</td>\n",
       "    </tr>\n",
       "  </tbody>\n",
       "</table>\n",
       "</div>"
      ],
      "text/plain": [
       "                                                   title           director  \\\n",
       "285                                     django_unchained  quentin_tarantino   \n",
       "568                                 inglourious_basterds  quentin_tarantino   \n",
       "824                                      kill_bill_vol_1  quentin_tarantino   \n",
       "826                                      kill_bill_vol_2  quentin_tarantino   \n",
       "908    interview_with_the_vampire_the_vampire_chronicles        neil_jordan   \n",
       "1237                                        mean_streets    martin_scorsese   \n",
       "2158                                 from_dusk_till_dawn   robert_rodriguez   \n",
       "3120                                               sicko      michael_moore   \n",
       "3518                                   shaun_of_the_dead       edgar_wright   \n",
       "4145                                      reservoir_dogs  quentin_tarantino   \n",
       "4351                                        subconscious     georgia_hilton   \n",
       "4598                                 from_dusk_till_dawn   robert_rodriguez   \n",
       "5584                                      reservoir_dogs  quentin_tarantino   \n",
       "11248                                    kill_bill_vol_1  quentin_tarantino   \n",
       "11794                                    kill_bill_vol_2  quentin_tarantino   \n",
       "12112                                       mean_streets    martin_scorsese   \n",
       "12670                                  shaun_of_the_dead       edgar_wright   \n",
       "15285                                        double_dare     amanda_micheli   \n",
       "16432                                              sicko      michael_moore   \n",
       "18124                               inglourious_basterds  quentin_tarantino   \n",
       "24555                                   django_unchained  quentin_tarantino   \n",
       "45678                           my_best_friends_birthday  quentin_tarantino   \n",
       "\n",
       "                  actor_1            actor_2            actor_3  \n",
       "285     leonardo_dicaprio    christoph_waltz       ato_essandoh  \n",
       "568    michael_fassbender          brad_pitt    christoph_waltz  \n",
       "824       david_carradine       vivica_a_fox    chiaki_kuriyama  \n",
       "826          vivica_a_fox      michael_parks      michael_bowen  \n",
       "908             brad_pitt         tom_cruise      kirsten_dunst  \n",
       "1237       robert_de_niro    david_carradine       david_proval  \n",
       "2158    quentin_tarantino        salma_hayek       cheech_marin  \n",
       "3120        michael_moore    tucker_albrizzi       bill_clinton  \n",
       "3518   peter_serafinowicz        dylan_moran         rafe_spall  \n",
       "4145    quentin_tarantino      steve_buscemi         chris_penn  \n",
       "4351      mike_beckingham          tim_abell        tom_stedham  \n",
       "4598       george_clooney  quentin_tarantino      harvey_keitel  \n",
       "5584        harvey_keitel           tim_roth     michael_madsen  \n",
       "11248         uma_thurman           lucy_liu       vivica_a_fox  \n",
       "11794         uma_thurman    david_carradine       daryl_hannah  \n",
       "12112       harvey_keitel     robert_de_niro       david_proval  \n",
       "12670          simon_pegg         nick_frost      kate_ashfield  \n",
       "15285       jeannie_epper            zo_bell  quentin_tarantino  \n",
       "16432       michael_moore      george_w_bush       bill_clinton  \n",
       "18124           brad_pitt     mlanie_laurent    christoph_waltz  \n",
       "24555          jamie_foxx    christoph_waltz  leonardo_dicaprio  \n",
       "45678   quentin_tarantino     allen_garfield       craig_hamann  "
      ]
     },
     "metadata": {},
     "output_type": "display_data"
    }
   ],
   "source": [
    "v1 = model.get_vector('quentin_tarantino')\n",
    "v2 = model.get_vector('title')\n",
    "v3 = model.get_vector('samuel_l_jackson')\n",
    "\n",
    "v_res = v1 + v2 - v3\n",
    "res = f(v_res, topn=15)\n",
    "print([_[0] for _ in res])\n",
    "\n",
    "display(df.loc[df['title'].isin([_[0] for _ in res]), ['title', 'director', 'actor_1', 'actor_2', 'actor_3']])"
   ]
  },
  {
   "cell_type": "code",
   "execution_count": 252,
   "metadata": {
    "collapsed": true,
    "jupyter": {
     "outputs_hidden": true,
     "source_hidden": true
    }
   },
   "outputs": [
    {
     "data": {
      "text/plain": [
       "[Text(0, 0.5, 'quentin\\ntarantino'),\n",
       " Text(0, 1.5, 'title'),\n",
       " Text(0, 2.5, 'pulp\\nfiction'),\n",
       " Text(0, 3.5, 'django\\nunchained'),\n",
       " Text(0, 4.5, 'quentin\\ntarantino\\n+title\\n-director')]"
      ]
     },
     "execution_count": 252,
     "metadata": {},
     "output_type": "execute_result"
    },
    {
     "data": {
      "image/png": "[encoded data removed]",
      "text/plain": [
       "<Figure size 468x468 with 1 Axes>"
      ]
     },
     "metadata": {},
     "output_type": "display_data"
    }
   ],
   "source": [
    "values = ['quentin_tarantino','title', 'pulp_fiction', 'django_unchained']\n",
    "\n",
    "k = []\n",
    "for _ in values:\n",
    "    k.append(keys.index(_))\n",
    "\n",
    "m = mat[k,:]\n",
    "\n",
    "array_title = mat[keys.index('title')]\n",
    "array_director_name = mat[keys.index('quentin_tarantino')]\n",
    "array_director = mat[keys.index('director')]\n",
    "array_sum = array_title+array_director_name-array_director\n",
    "values.append('quentin_tarantino\\n+title\\n-director')\n",
    "labels = [_.replace('_', '\\n') if len(_) > 10 else _.replace('_', ' ') for _ in values]\n",
    "m = np.concatenate((m, array_sum.reshape((1,10))), axis=0)\n",
    "\n",
    "fig = plt.figure(figsize=(6.5, 6.5))\n",
    "g = sns.heatmap(data=m, cmap='RdBu', cbar=False, linewidths=1)\n",
    "g.set_yticklabels(labels=labels,rotation=0)"
   ]
  },
  {
   "cell_type": "markdown",
   "metadata": {
    "jupyter": {
     "source_hidden": true
    }
   },
   "source": [
    "Finally, we can query the vector space for an actor name and look for names related to them. Here, 'arnold_schwarzenegger' is close to 'wilt_chamberlain', 'james_cameron' and 'deborah_loomis'. Chamberlain and Loomis both starred in action movies with Schawrzenegger, while James Cameron directed the Terminator movies, which Schwarzenegger starred in. "
   ]
  },
  {
   "cell_type": "code",
   "execution_count": 280,
   "metadata": {
    "collapsed": true,
    "jupyter": {
     "outputs_hidden": true,
     "source_hidden": true
    }
   },
   "outputs": [
    {
     "data": {
      "text/plain": [
       "['wilt_chamberlain', 'james_cameron', 'deborah_loomis']"
      ]
     },
     "execution_count": 280,
     "metadata": {},
     "output_type": "execute_result"
    }
   ],
   "source": [
    "a = 'arnold_schwarzenegger'\n",
    "r = model.most_similar(a, topn=20)\n",
    "r = [_[0] for _ in r]\n",
    "actor1 = set(df['actor_1'].tolist() + df['actor_2'].tolist() + df['actor_3'].tolist())\n",
    "[_ for _ in r if _ in actor1]"
   ]
  },
  {
   "cell_type": "code",
   "execution_count": 129,
   "metadata": {
    "jupyter": {
     "source_hidden": true
    }
   },
   "outputs": [],
   "source": [
    "model_file = 'pipeline/embeddings/imdb_movielens-demo.emb'\n",
    "model = models.KeyedVectors.load_word2vec_format(model_file, unicode_errors='ignore')\n",
    "df = pd.read_csv('pipeline/datasets/imdb_movielens/imdb_movielens-master.csv')"
   ]
  },
  {
   "cell_type": "code",
   "execution_count": 196,
   "metadata": {},
   "outputs": [
    {
     "data": {
      "text/plain": [
       "'star_wars'"
      ]
     },
     "execution_count": 196,
     "metadata": {},
     "output_type": "execute_result"
    }
   ],
   "source": [
    "'a clockwork orange'\n",
    "'2001_a_space_odyssey'\n",
    "'the_lord_of_the_rings_the_fellowship_of_the_ring'\n",
    "'saving_private_ryan'\n",
    "'inception'\n",
    "'interstellar'\n",
    "'your_name'\n",
    "'the_shawshank_redemption'\n",
    "'the_godfather'\n",
    "'reservoir_dogs'\n",
    "'inglourious_basterds'\n",
    "'jurassic_park'\n",
    "'jurassic_world'\n",
    "'jaws'\n",
    "'american_graffiti'\n",
    "'star_wars'\n",
    "'the_empire_strikes_back'\n",
    "'pulp_fiction'"
   ]
  },
  {
   "cell_type": "code",
   "execution_count": 239,
   "metadata": {},
   "outputs": [
    {
     "name": "stdout",
     "output_type": "stream",
     "text": [
      "                                                          pulp_fiction       0.79\n",
      "                                                     quentin_tarantino       0.42\n",
      "                                                                199409       0.37\n",
      "                                                           phil_lamarr       0.36\n",
      "                                                                clerks       0.31\n",
      "                                                          bruce_willis       0.31\n",
      "                                                         jeff_anderson       0.31\n",
      "                                                           eric_stoltz       0.31\n",
      "                                                        brian_a_miller       0.30\n",
      "                                                           alannah_ong       0.29\n"
     ]
    },
    {
     "data": {
      "text/html": [
       "<div>\n",
       "<style scoped>\n",
       "    .dataframe tbody tr th:only-of-type {\n",
       "        vertical-align: middle;\n",
       "    }\n",
       "\n",
       "    .dataframe tbody tr th {\n",
       "        vertical-align: top;\n",
       "    }\n",
       "\n",
       "    .dataframe thead th {\n",
       "        text-align: right;\n",
       "    }\n",
       "</style>\n",
       "<table border=\"1\" class=\"dataframe\">\n",
       "  <thead>\n",
       "    <tr style=\"text-align: right;\">\n",
       "      <th></th>\n",
       "      <th>actor 1</th>\n",
       "      <th>actor 2</th>\n",
       "      <th>actor 3</th>\n",
       "      <th>director</th>\n",
       "      <th>title</th>\n",
       "      <th>year</th>\n",
       "    </tr>\n",
       "  </thead>\n",
       "  <tbody>\n",
       "    <tr>\n",
       "      <th>3178</th>\n",
       "      <td>bruce willis</td>\n",
       "      <td>eric stoltz</td>\n",
       "      <td>phil lamarr</td>\n",
       "      <td>quentin tarantino</td>\n",
       "      <td>pulp fiction</td>\n",
       "      <td>1994.0</td>\n",
       "    </tr>\n",
       "  </tbody>\n",
       "</table>\n",
       "</div>"
      ],
      "text/plain": [
       "           actor 1      actor 2      actor 3           director         title  \\\n",
       "3178  bruce willis  eric stoltz  phil lamarr  quentin tarantino  pulp fiction   \n",
       "\n",
       "        year  \n",
       "3178  1994.0  "
      ]
     },
     "metadata": {},
     "output_type": "display_data"
    },
    {
     "data": {
      "text/html": [
       "<div>\n",
       "<style scoped>\n",
       "    .dataframe tbody tr th:only-of-type {\n",
       "        vertical-align: middle;\n",
       "    }\n",
       "\n",
       "    .dataframe tbody tr th {\n",
       "        vertical-align: top;\n",
       "    }\n",
       "\n",
       "    .dataframe thead th {\n",
       "        text-align: right;\n",
       "    }\n",
       "</style>\n",
       "<table border=\"1\" class=\"dataframe\">\n",
       "  <thead>\n",
       "    <tr style=\"text-align: right;\">\n",
       "      <th></th>\n",
       "      <th>actor 1</th>\n",
       "      <th>actor 2</th>\n",
       "      <th>actor 3</th>\n",
       "      <th>director</th>\n",
       "      <th>title</th>\n",
       "      <th>year</th>\n",
       "    </tr>\n",
       "  </thead>\n",
       "  <tbody>\n",
       "    <tr>\n",
       "      <th>292</th>\n",
       "      <td>john travolta</td>\n",
       "      <td>samuel l. jackson</td>\n",
       "      <td>uma thurman</td>\n",
       "      <td>quentin tarantino</td>\n",
       "      <td>pulp fiction</td>\n",
       "      <td>1994</td>\n",
       "    </tr>\n",
       "  </tbody>\n",
       "</table>\n",
       "</div>"
      ],
      "text/plain": [
       "           actor 1            actor 2      actor 3           director  \\\n",
       "292  john travolta  samuel l. jackson  uma thurman  quentin tarantino   \n",
       "\n",
       "            title  year  \n",
       "292  pulp fiction  1994  "
      ]
     },
     "metadata": {},
     "output_type": "display_data"
    }
   ],
   "source": [
    "test_name = 'pulp_fiction'\n",
    "v1 = model.get_vector(test_name)\n",
    "v2 = model.get_vector('title')\n",
    "v3 = v1 - v2\n",
    "r = model.similar_by_vector(v3)\n",
    "pprint_sim(r)\n",
    "display(df1.loc[df1['title'] == test_name.replace('_', ' ')].reindex(['actor 1', 'actor 2', 'actor 3', 'director', 'title', 'year'], axis=1))\n",
    "display(df2.loc[df2['title'] == test_name.replace('_', ' ')].reindex(['actor 1', 'actor 2', 'actor 3', 'director', 'title', 'year'], axis=1))"
   ]
  },
  {
   "cell_type": "markdown",
   "metadata": {},
   "source": [
    "## Additional tests"
   ]
  },
  {
   "cell_type": "code",
   "execution_count": 209,
   "metadata": {},
   "outputs": [],
   "source": [
    "model_file = 'pipeline/embeddings/imdb_movielens-demo.embs'\n",
    "m1 = models.KeyedVectors.load_word2vec_format(model_file, unicode_errors='ignore')\n",
    "df = pd.read_csv('pipeline/datasets/imdb_movielens/imdb_movielens-master.csv')"
   ]
  },
  {
   "cell_type": "code",
   "execution_count": 210,
   "metadata": {},
   "outputs": [
    {
     "data": {
      "text/plain": [
       "[('idx_19069', 0.8253809213638306),\n",
       " ('idx_1189', 0.7232210636138916),\n",
       " ('idx_1088', 0.7182182669639587),\n",
       " ('idx_294', 0.7120844125747681),\n",
       " ('idx_352', 0.7058795690536499),\n",
       " ('idx_2533', 0.6957617998123169),\n",
       " ('idx_2182', 0.6908314824104309),\n",
       " ('idx_774', 0.6885037422180176),\n",
       " ('idx_278', 0.6877021193504333),\n",
       " ('avatar', 0.6872022151947021)]"
      ]
     },
     "execution_count": 210,
     "metadata": {},
     "output_type": "execute_result"
    }
   ],
   "source": [
    "m1.most_similar('idx_0')"
   ]
  },
  {
   "cell_type": "code",
   "execution_count": 204,
   "metadata": {},
   "outputs": [
    {
     "data": {
      "text/html": [
       "<div>\n",
       "<style scoped>\n",
       "    .dataframe tbody tr th:only-of-type {\n",
       "        vertical-align: middle;\n",
       "    }\n",
       "\n",
       "    .dataframe tbody tr th {\n",
       "        vertical-align: top;\n",
       "    }\n",
       "\n",
       "    .dataframe thead th {\n",
       "        text-align: right;\n",
       "    }\n",
       "</style>\n",
       "<table border=\"1\" class=\"dataframe\">\n",
       "  <thead>\n",
       "    <tr style=\"text-align: right;\">\n",
       "      <th></th>\n",
       "      <th>actor_1</th>\n",
       "      <th>actor_2</th>\n",
       "      <th>actor_3</th>\n",
       "      <th>color</th>\n",
       "      <th>content_rating</th>\n",
       "      <th>director</th>\n",
       "      <th>genres</th>\n",
       "      <th>original_language</th>\n",
       "      <th>production_companies</th>\n",
       "      <th>production_countries</th>\n",
       "      <th>release_date_rounded</th>\n",
       "      <th>status</th>\n",
       "      <th>title</th>\n",
       "      <th>vote_average</th>\n",
       "      <th>year</th>\n",
       "    </tr>\n",
       "  </thead>\n",
       "  <tbody>\n",
       "    <tr>\n",
       "      <th>0</th>\n",
       "      <td>cch_pounder</td>\n",
       "      <td>joel_david_moore</td>\n",
       "      <td>wes_studi</td>\n",
       "      <td>color</td>\n",
       "      <td>pg13</td>\n",
       "      <td>james_cameron</td>\n",
       "      <td>NaN</td>\n",
       "      <td>english</td>\n",
       "      <td>NaN</td>\n",
       "      <td>usa</td>\n",
       "      <td>NaN</td>\n",
       "      <td>NaN</td>\n",
       "      <td>avatar</td>\n",
       "      <td>8.0</td>\n",
       "      <td>2009.0</td>\n",
       "    </tr>\n",
       "    <tr>\n",
       "      <th>19069</th>\n",
       "      <td>sam_worthington</td>\n",
       "      <td>zoe_saldana</td>\n",
       "      <td>sigourney_weaver</td>\n",
       "      <td>NaN</td>\n",
       "      <td>NaN</td>\n",
       "      <td>james_cameron</td>\n",
       "      <td>action</td>\n",
       "      <td>en</td>\n",
       "      <td>ingenious|film|partners</td>\n",
       "      <td>us</td>\n",
       "      <td>200912.0</td>\n",
       "      <td>released</td>\n",
       "      <td>avatar</td>\n",
       "      <td>7.0</td>\n",
       "      <td>2009.0</td>\n",
       "    </tr>\n",
       "  </tbody>\n",
       "</table>\n",
       "</div>"
      ],
      "text/plain": [
       "               actor_1           actor_2           actor_3  color  \\\n",
       "0          cch_pounder  joel_david_moore         wes_studi  color   \n",
       "19069  sam_worthington       zoe_saldana  sigourney_weaver    NaN   \n",
       "\n",
       "      content_rating       director  genres original_language  \\\n",
       "0               pg13  james_cameron     NaN           english   \n",
       "19069            NaN  james_cameron  action                en   \n",
       "\n",
       "          production_companies production_countries  release_date_rounded  \\\n",
       "0                          NaN                  usa                   NaN   \n",
       "19069  ingenious|film|partners                   us              200912.0   \n",
       "\n",
       "         status   title  vote_average    year  \n",
       "0           NaN  avatar           8.0  2009.0  \n",
       "19069  released  avatar           7.0  2009.0  "
      ]
     },
     "execution_count": 204,
     "metadata": {},
     "output_type": "execute_result"
    }
   ],
   "source": [
    "df.loc[df['title'] == 'avatar']"
   ]
  },
  {
   "cell_type": "code",
   "execution_count": 221,
   "metadata": {},
   "outputs": [
    {
     "name": "stdout",
     "output_type": "stream",
     "text": [
      "Line 2321 has title 127_hours.\n",
      "Line 20572 has title 127_hours.\n",
      "\n",
      "Line 251 has title 300_rise_of_an_empire.\n",
      "Line 27416 has title 300_rise_of_an_empire.\n"
     ]
    }
   ],
   "source": [
    "i1 = 2321\n",
    "i2 = 20572\n",
    "v1 = df.iloc[i1]['title']\n",
    "v2 = df.iloc[i2]['title']\n",
    "print('Line {} has title {}.\\nLine {} has title {}.'.format(i1,v1,i2,v2))\n",
    "print()\n",
    "i1 = 251\n",
    "i2 = 27416\n",
    "v1 = df.iloc[i1]['title']\n",
    "v2 = df.iloc[i2]['title']\n",
    "print('Line {} has title {}.\\nLine {} has title {}.'.format(i1,v1,i2,v2))\n"
   ]
  },
  {
   "cell_type": "code",
   "execution_count": 247,
   "metadata": {
    "jupyter": {
     "source_hidden": true
    }
   },
   "outputs": [
    {
     "data": {
      "image/png": "[encoded data removed]",
      "text/plain": [
       "<Figure size 864x288 with 1 Axes>"
      ]
     },
     "metadata": {},
     "output_type": "display_data"
    }
   ],
   "source": [
    "values = ['idx__2321', 'idx__20572']\n",
    "# labels = [_.replace('idx__', '') for _ in values]\n",
    "labels = values\n",
    "\n",
    "k = []\n",
    "for _ in values:\n",
    "    k.append(keys.index(_))\n",
    "\n",
    "fig = plt.figure(figsize=(12,4))\n",
    "sns.set(font_scale=2)\n",
    "g = sns.heatmap(data=mat[k, :], cmap='RdBu', cbar=False, linewidths=1, square=False)\n",
    "g.set_yticklabels(labels=labels, rotation=0)\n",
    "fig.savefig('entity_resolution.png', bbox_inches='tight')"
   ]
  },
  {
   "cell_type": "code",
   "execution_count": 243,
   "metadata": {
    "collapsed": true,
    "jupyter": {
     "outputs_hidden": true,
     "source_hidden": true
    }
   },
   "outputs": [
    {
     "data": {
      "text/html": [
       "<div>\n",
       "<style scoped>\n",
       "    .dataframe tbody tr th:only-of-type {\n",
       "        vertical-align: middle;\n",
       "    }\n",
       "\n",
       "    .dataframe tbody tr th {\n",
       "        vertical-align: top;\n",
       "    }\n",
       "\n",
       "    .dataframe thead th {\n",
       "        text-align: right;\n",
       "    }\n",
       "</style>\n",
       "<table border=\"1\" class=\"dataframe\">\n",
       "  <thead>\n",
       "    <tr style=\"text-align: right;\">\n",
       "      <th></th>\n",
       "      <th>actor_1</th>\n",
       "      <th>actor_2</th>\n",
       "      <th>actor_3</th>\n",
       "      <th>color</th>\n",
       "      <th>content_rating</th>\n",
       "      <th>director</th>\n",
       "      <th>genres</th>\n",
       "      <th>original_language</th>\n",
       "      <th>production_companies</th>\n",
       "      <th>production_countries</th>\n",
       "      <th>release_date_rounded</th>\n",
       "      <th>status</th>\n",
       "      <th>title</th>\n",
       "      <th>vote_average</th>\n",
       "      <th>year</th>\n",
       "    </tr>\n",
       "  </thead>\n",
       "  <tbody>\n",
       "    <tr>\n",
       "      <th>3178</th>\n",
       "      <td>bruce_willis</td>\n",
       "      <td>eric_stoltz</td>\n",
       "      <td>phil_lamarr</td>\n",
       "      <td>color</td>\n",
       "      <td>r</td>\n",
       "      <td>quentin_tarantino</td>\n",
       "      <td>NaN</td>\n",
       "      <td>english</td>\n",
       "      <td>NaN</td>\n",
       "      <td>usa</td>\n",
       "      <td>NaN</td>\n",
       "      <td>NaN</td>\n",
       "      <td>pulp_fiction</td>\n",
       "      <td>9.0</td>\n",
       "      <td>1994.0</td>\n",
       "    </tr>\n",
       "    <tr>\n",
       "      <th>4821</th>\n",
       "      <td>john_travolta</td>\n",
       "      <td>samuel_l_jackson</td>\n",
       "      <td>uma_thurman</td>\n",
       "      <td>NaN</td>\n",
       "      <td>NaN</td>\n",
       "      <td>quentin_tarantino</td>\n",
       "      <td>thriller</td>\n",
       "      <td>en</td>\n",
       "      <td>miramax|films</td>\n",
       "      <td>us</td>\n",
       "      <td>199409.0</td>\n",
       "      <td>released</td>\n",
       "      <td>pulp_fiction</td>\n",
       "      <td>8.0</td>\n",
       "      <td>1994.0</td>\n",
       "    </tr>\n",
       "  </tbody>\n",
       "</table>\n",
       "</div>"
      ],
      "text/plain": [
       "            actor_1           actor_2      actor_3  color content_rating  \\\n",
       "3178   bruce_willis       eric_stoltz  phil_lamarr  color              r   \n",
       "4821  john_travolta  samuel_l_jackson  uma_thurman    NaN            NaN   \n",
       "\n",
       "               director    genres original_language production_companies  \\\n",
       "3178  quentin_tarantino       NaN           english                  NaN   \n",
       "4821  quentin_tarantino  thriller                en        miramax|films   \n",
       "\n",
       "     production_countries  release_date_rounded    status         title  \\\n",
       "3178                  usa                   NaN       NaN  pulp_fiction   \n",
       "4821                   us              199409.0  released  pulp_fiction   \n",
       "\n",
       "      vote_average    year  \n",
       "3178           9.0  1994.0  \n",
       "4821           8.0  1994.0  "
      ]
     },
     "execution_count": 243,
     "metadata": {},
     "output_type": "execute_result"
    }
   ],
   "source": [
    "df.loc[df['title'] == 'pulp_fiction']"
   ]
  },
  {
   "cell_type": "code",
   "execution_count": 245,
   "metadata": {},
   "outputs": [
    {
     "data": {
      "image/png": "[encoded data removed]",
      "text/plain": [
       "<Figure size 864x288 with 1 Axes>"
      ]
     },
     "metadata": {},
     "output_type": "display_data"
    }
   ],
   "source": [
    "values = ['idx__3178', 'idx__4821', 'tt__quentin_tarantino']\n",
    "# labels = [_.replace('idx__', '') for _ in values]\n",
    "labels = values\n",
    "\n",
    "k = []\n",
    "for _ in values:\n",
    "    k.append(keys.index(_))\n",
    "\n",
    "fig = plt.figure(figsize=(12,4))\n",
    "sns.set(font_scale=2)\n",
    "g = sns.heatmap(data=mat[k, :], cmap='RdBu', cbar=False, linewidths=1, square=False)\n",
    "g.set_yticklabels(labels=labels, rotation=0)\n",
    "fig.savefig('entity_resolution.png', bbox_inches='tight')"
   ]
  },
  {
   "cell_type": "code",
   "execution_count": 238,
   "metadata": {
    "jupyter": {
     "source_hidden": true
    }
   },
   "outputs": [
    {
     "data": {
      "image/png": "[encoded data removed]",
      "text/plain": [
       "<Figure size 864x288 with 1 Axes>"
      ]
     },
     "metadata": {},
     "output_type": "display_data"
    }
   ],
   "source": [
    "values = ['idx__0', 'idx__19069', 'tt__james_cameron']\n",
    "# labels = [_.replace('idx__', '') for _ in values]\n",
    "labels = values\n",
    "\n",
    "k = []\n",
    "for _ in values:\n",
    "    k.append(keys.index(_))\n",
    "\n",
    "fig = plt.figure(figsize=(12,4))\n",
    "sns.set(font_scale=2)\n",
    "g = sns.heatmap(data=mat[k, :], cmap='RdBu', cbar=False, linewidths=1, square=False)\n",
    "g.set_yticklabels(labels=labels, rotation=0)\n",
    "fig.savefig('entity_resolution.png', bbox_inches='tight')"
   ]
  },
  {
   "cell_type": "code",
   "execution_count": null,
   "metadata": {},
   "outputs": [],
   "source": []
  }
 ],
 "metadata": {
  "kernelspec": {
   "display_name": "Python 3.7.13 ('embdi')",
   "language": "python",
   "name": "python3"
  },
  "language_info": {
   "codemirror_mode": {
    "name": "ipython",
    "version": 3
   },
   "file_extension": ".py",
   "mimetype": "text/x-python",
   "name": "python",
   "nbconvert_exporter": "python",
   "pygments_lexer": "ipython3",
   "version": "3.7.13"
  },
  "vscode": {
   "interpreter": {
    "hash": "601bcc31dc2f130e462fa6495a5f05e7310d95aa13f5c6f886df060185ee9d73"
   }
  }
 },
 "nbformat": 4,
 "nbformat_minor": 4
}
